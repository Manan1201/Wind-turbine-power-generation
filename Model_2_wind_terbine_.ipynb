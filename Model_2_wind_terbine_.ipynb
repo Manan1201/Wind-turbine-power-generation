{
  "nbformat": 4,
  "nbformat_minor": 0,
  "metadata": {
    "colab": {
      "name": "Model 2 wind terbine .ipynb",
      "provenance": []
    },
    "kernelspec": {
      "name": "python3",
      "display_name": "Python 3"
    },
    "language_info": {
      "name": "python"
    },
    "accelerator": "GPU",
    "gpuClass": "standard"
  },
  "cells": [
    {
      "cell_type": "code",
      "execution_count": null,
      "metadata": {
        "id": "QnUu9Xjrv-Mi"
      },
      "outputs": [],
      "source": [
        ""
      ]
    },
    {
      "cell_type": "code",
      "execution_count": null,
      "metadata": {
        "id": "3wuR_RdLC4nd"
      },
      "outputs": [],
      "source": [
        "import tensorflow as tf\n",
        "import os\n",
        "import pandas as pd\n",
        "import numpy as np"
      ]
    },
    {
      "cell_type": "code",
      "source": [
        "df0=pd.read_csv('/content/drive/MyDrive/features.csv')\n",
        "df1=pd.read_csv('/content/drive/MyDrive/power.csv')\n",
        "df1.tail()"
      ],
      "metadata": {
        "colab": {
          "base_uri": "https://localhost:8080/",
          "height": 206
        },
        "id": "arLQKjkfZDSc",
        "outputId": "1cd7161e-ddfe-4623-df5c-600d66cfb96f"
      },
      "execution_count": null,
      "outputs": [
        {
          "output_type": "execute_result",
          "data": {
            "text/plain": [
              "                  Timestamp    Power(kW)\n",
              "136725  2021-08-14 23:10:00  2757.728271\n",
              "136726  2021-08-14 23:20:00  2758.323242\n",
              "136727  2021-08-14 23:30:00  2759.243408\n",
              "136728  2021-08-14 23:40:00  2761.261719\n",
              "136729  2021-08-14 23:50:00  2758.593262"
            ],
            "text/html": [
              "\n",
              "  <div id=\"df-894ec349-eac2-4c54-bd3c-9b85b31e50c0\">\n",
              "    <div class=\"colab-df-container\">\n",
              "      <div>\n",
              "<style scoped>\n",
              "    .dataframe tbody tr th:only-of-type {\n",
              "        vertical-align: middle;\n",
              "    }\n",
              "\n",
              "    .dataframe tbody tr th {\n",
              "        vertical-align: top;\n",
              "    }\n",
              "\n",
              "    .dataframe thead th {\n",
              "        text-align: right;\n",
              "    }\n",
              "</style>\n",
              "<table border=\"1\" class=\"dataframe\">\n",
              "  <thead>\n",
              "    <tr style=\"text-align: right;\">\n",
              "      <th></th>\n",
              "      <th>Timestamp</th>\n",
              "      <th>Power(kW)</th>\n",
              "    </tr>\n",
              "  </thead>\n",
              "  <tbody>\n",
              "    <tr>\n",
              "      <th>136725</th>\n",
              "      <td>2021-08-14 23:10:00</td>\n",
              "      <td>2757.728271</td>\n",
              "    </tr>\n",
              "    <tr>\n",
              "      <th>136726</th>\n",
              "      <td>2021-08-14 23:20:00</td>\n",
              "      <td>2758.323242</td>\n",
              "    </tr>\n",
              "    <tr>\n",
              "      <th>136727</th>\n",
              "      <td>2021-08-14 23:30:00</td>\n",
              "      <td>2759.243408</td>\n",
              "    </tr>\n",
              "    <tr>\n",
              "      <th>136728</th>\n",
              "      <td>2021-08-14 23:40:00</td>\n",
              "      <td>2761.261719</td>\n",
              "    </tr>\n",
              "    <tr>\n",
              "      <th>136729</th>\n",
              "      <td>2021-08-14 23:50:00</td>\n",
              "      <td>2758.593262</td>\n",
              "    </tr>\n",
              "  </tbody>\n",
              "</table>\n",
              "</div>\n",
              "      <button class=\"colab-df-convert\" onclick=\"convertToInteractive('df-894ec349-eac2-4c54-bd3c-9b85b31e50c0')\"\n",
              "              title=\"Convert this dataframe to an interactive table.\"\n",
              "              style=\"display:none;\">\n",
              "        \n",
              "  <svg xmlns=\"http://www.w3.org/2000/svg\" height=\"24px\"viewBox=\"0 0 24 24\"\n",
              "       width=\"24px\">\n",
              "    <path d=\"M0 0h24v24H0V0z\" fill=\"none\"/>\n",
              "    <path d=\"M18.56 5.44l.94 2.06.94-2.06 2.06-.94-2.06-.94-.94-2.06-.94 2.06-2.06.94zm-11 1L8.5 8.5l.94-2.06 2.06-.94-2.06-.94L8.5 2.5l-.94 2.06-2.06.94zm10 10l.94 2.06.94-2.06 2.06-.94-2.06-.94-.94-2.06-.94 2.06-2.06.94z\"/><path d=\"M17.41 7.96l-1.37-1.37c-.4-.4-.92-.59-1.43-.59-.52 0-1.04.2-1.43.59L10.3 9.45l-7.72 7.72c-.78.78-.78 2.05 0 2.83L4 21.41c.39.39.9.59 1.41.59.51 0 1.02-.2 1.41-.59l7.78-7.78 2.81-2.81c.8-.78.8-2.07 0-2.86zM5.41 20L4 18.59l7.72-7.72 1.47 1.35L5.41 20z\"/>\n",
              "  </svg>\n",
              "      </button>\n",
              "      \n",
              "  <style>\n",
              "    .colab-df-container {\n",
              "      display:flex;\n",
              "      flex-wrap:wrap;\n",
              "      gap: 12px;\n",
              "    }\n",
              "\n",
              "    .colab-df-convert {\n",
              "      background-color: #E8F0FE;\n",
              "      border: none;\n",
              "      border-radius: 50%;\n",
              "      cursor: pointer;\n",
              "      display: none;\n",
              "      fill: #1967D2;\n",
              "      height: 32px;\n",
              "      padding: 0 0 0 0;\n",
              "      width: 32px;\n",
              "    }\n",
              "\n",
              "    .colab-df-convert:hover {\n",
              "      background-color: #E2EBFA;\n",
              "      box-shadow: 0px 1px 2px rgba(60, 64, 67, 0.3), 0px 1px 3px 1px rgba(60, 64, 67, 0.15);\n",
              "      fill: #174EA6;\n",
              "    }\n",
              "\n",
              "    [theme=dark] .colab-df-convert {\n",
              "      background-color: #3B4455;\n",
              "      fill: #D2E3FC;\n",
              "    }\n",
              "\n",
              "    [theme=dark] .colab-df-convert:hover {\n",
              "      background-color: #434B5C;\n",
              "      box-shadow: 0px 1px 3px 1px rgba(0, 0, 0, 0.15);\n",
              "      filter: drop-shadow(0px 1px 2px rgba(0, 0, 0, 0.3));\n",
              "      fill: #FFFFFF;\n",
              "    }\n",
              "  </style>\n",
              "\n",
              "      <script>\n",
              "        const buttonEl =\n",
              "          document.querySelector('#df-894ec349-eac2-4c54-bd3c-9b85b31e50c0 button.colab-df-convert');\n",
              "        buttonEl.style.display =\n",
              "          google.colab.kernel.accessAllowed ? 'block' : 'none';\n",
              "\n",
              "        async function convertToInteractive(key) {\n",
              "          const element = document.querySelector('#df-894ec349-eac2-4c54-bd3c-9b85b31e50c0');\n",
              "          const dataTable =\n",
              "            await google.colab.kernel.invokeFunction('convertToInteractive',\n",
              "                                                     [key], {});\n",
              "          if (!dataTable) return;\n",
              "\n",
              "          const docLinkHtml = 'Like what you see? Visit the ' +\n",
              "            '<a target=\"_blank\" href=https://colab.research.google.com/notebooks/data_table.ipynb>data table notebook</a>'\n",
              "            + ' to learn more about interactive tables.';\n",
              "          element.innerHTML = '';\n",
              "          dataTable['output_type'] = 'display_data';\n",
              "          await google.colab.output.renderOutput(dataTable, element);\n",
              "          const docLink = document.createElement('div');\n",
              "          docLink.innerHTML = docLinkHtml;\n",
              "          element.appendChild(docLink);\n",
              "        }\n",
              "      </script>\n",
              "    </div>\n",
              "  </div>\n",
              "  "
            ]
          },
          "metadata": {},
          "execution_count": 48
        }
      ]
    },
    {
      "cell_type": "code",
      "source": [
        "df=df0.merge(df1, how='inner', on='Timestamp')\n",
        "# df.tail(5)\n",
        "df[12000:12006]  "
      ],
      "metadata": {
        "colab": {
          "base_uri": "https://localhost:8080/",
          "height": 608
        },
        "id": "vERznKtNxGpC",
        "outputId": "c1d1d19c-d755-45c5-fd02-ad906e4bb1e2"
      },
      "execution_count": null,
      "outputs": [
        {
          "output_type": "execute_result",
          "data": {
            "text/plain": [
              "                 Timestamp  Gearbox_T1_High_Speed_Shaft_Temperature  \\\n",
              "12000  2019-03-26 15:00:00                                29.918333   \n",
              "12001  2019-03-26 15:10:00                                31.879999   \n",
              "12002  2019-03-26 15:20:00                                33.465000   \n",
              "12003  2019-03-26 15:30:00                                36.508335   \n",
              "12004  2019-03-26 15:40:00                                39.091667   \n",
              "12005  2019-03-26 15:50:00                                42.436668   \n",
              "\n",
              "       Gearbox_T3_High_Speed_Shaft_Temperature  \\\n",
              "12000                                30.531666   \n",
              "12001                                32.544998   \n",
              "12002                                34.231667   \n",
              "12003                                37.246666   \n",
              "12004                                40.398335   \n",
              "12005                                42.983334   \n",
              "\n",
              "       Gearbox_T1_Intermediate_Speed_Shaft_Temperature  \\\n",
              "12000                                        28.885000   \n",
              "12001                                        29.955000   \n",
              "12002                                        30.971666   \n",
              "12003                                        32.570000   \n",
              "12004                                        34.491665   \n",
              "12005                                        36.696667   \n",
              "\n",
              "       Temperature Gearbox Bearing Hollow Shaft  Tower Acceleration Normal  \\\n",
              "12000                                 30.395000                  23.584162   \n",
              "12001                                 31.629999                  23.430067   \n",
              "12002                                 32.645000                  34.952438   \n",
              "12003                                 34.090000                  55.998398   \n",
              "12004                                 36.173332                  50.702705   \n",
              "12005                                 38.953335                  47.086731   \n",
              "\n",
              "       Gearbox_Oil-2_Temperature  Tower Acceleration Lateral  \\\n",
              "12000                  31.215000                   16.695858   \n",
              "12001                  32.494999                   15.542374   \n",
              "12002                  33.439999                   16.834276   \n",
              "12003                  35.291668                   27.663843   \n",
              "12004                  37.693333                   31.757063   \n",
              "12005                  40.598331                   25.574389   \n",
              "\n",
              "       Temperature Bearing_A  Temperature Trafo-3  ...  \\\n",
              "12000              22.000000            49.583332  ...   \n",
              "12001              22.146667            50.000000  ...   \n",
              "12002              23.000000            50.000000  ...   \n",
              "12003              23.000000            50.000000  ...   \n",
              "12004              23.756666            50.360001  ...   \n",
              "12005              25.056667            51.000000  ...   \n",
              "\n",
              "       Blade-2 Set Value_Degree  Pitch Demand Baseline_Degree  \\\n",
              "12000                  2.113795                      1.952327   \n",
              "12001                  0.246897                      0.000000   \n",
              "12002                  0.246897                      0.000000   \n",
              "12003                  0.246897                      0.000000   \n",
              "12004                  0.246897                      0.000000   \n",
              "12005                  0.246897                      0.000000   \n",
              "\n",
              "       Blade-1 Set Value_Degree  Blade-3 Set Value_Degree  Moment Q Direction  \\\n",
              "12000                  2.011047                  1.731741                 NaN   \n",
              "12001                  0.089877                 -0.336773                 NaN   \n",
              "12002                  0.089877                 -0.336773                 NaN   \n",
              "12003                  0.089877                 -0.336773                 NaN   \n",
              "12004                  0.089877                 -0.336773                 NaN   \n",
              "12005                  0.089877                 -0.336773                 NaN   \n",
              "\n",
              "       Moment Q Filltered  Proxy Sensor_Degree-45  Turbine State  \\\n",
              "12000            2.881961                5.888560       1.693333   \n",
              "12001           16.420889                5.877352       1.000000   \n",
              "12002           30.092041                5.865854       1.000000   \n",
              "12003           18.401083                5.857502       1.000000   \n",
              "12004           28.505899                5.822761       1.000000   \n",
              "12005            7.393946                5.804494       1.000000   \n",
              "\n",
              "       Proxy Sensor_Degree-315   Power(kW)  \n",
              "12000                 5.917824  -18.451666  \n",
              "12001                 5.914578    3.318333  \n",
              "12002                 5.910227   46.506668  \n",
              "12003                 5.895942  172.866669  \n",
              "12004                 5.866086  363.533325  \n",
              "12005                 5.836015  551.455017  \n",
              "\n",
              "[6 rows x 78 columns]"
            ],
            "text/html": [
              "\n",
              "  <div id=\"df-8dee5681-3700-475e-b4d4-60d6c5b810cd\">\n",
              "    <div class=\"colab-df-container\">\n",
              "      <div>\n",
              "<style scoped>\n",
              "    .dataframe tbody tr th:only-of-type {\n",
              "        vertical-align: middle;\n",
              "    }\n",
              "\n",
              "    .dataframe tbody tr th {\n",
              "        vertical-align: top;\n",
              "    }\n",
              "\n",
              "    .dataframe thead th {\n",
              "        text-align: right;\n",
              "    }\n",
              "</style>\n",
              "<table border=\"1\" class=\"dataframe\">\n",
              "  <thead>\n",
              "    <tr style=\"text-align: right;\">\n",
              "      <th></th>\n",
              "      <th>Timestamp</th>\n",
              "      <th>Gearbox_T1_High_Speed_Shaft_Temperature</th>\n",
              "      <th>Gearbox_T3_High_Speed_Shaft_Temperature</th>\n",
              "      <th>Gearbox_T1_Intermediate_Speed_Shaft_Temperature</th>\n",
              "      <th>Temperature Gearbox Bearing Hollow Shaft</th>\n",
              "      <th>Tower Acceleration Normal</th>\n",
              "      <th>Gearbox_Oil-2_Temperature</th>\n",
              "      <th>Tower Acceleration Lateral</th>\n",
              "      <th>Temperature Bearing_A</th>\n",
              "      <th>Temperature Trafo-3</th>\n",
              "      <th>...</th>\n",
              "      <th>Blade-2 Set Value_Degree</th>\n",
              "      <th>Pitch Demand Baseline_Degree</th>\n",
              "      <th>Blade-1 Set Value_Degree</th>\n",
              "      <th>Blade-3 Set Value_Degree</th>\n",
              "      <th>Moment Q Direction</th>\n",
              "      <th>Moment Q Filltered</th>\n",
              "      <th>Proxy Sensor_Degree-45</th>\n",
              "      <th>Turbine State</th>\n",
              "      <th>Proxy Sensor_Degree-315</th>\n",
              "      <th>Power(kW)</th>\n",
              "    </tr>\n",
              "  </thead>\n",
              "  <tbody>\n",
              "    <tr>\n",
              "      <th>12000</th>\n",
              "      <td>2019-03-26 15:00:00</td>\n",
              "      <td>29.918333</td>\n",
              "      <td>30.531666</td>\n",
              "      <td>28.885000</td>\n",
              "      <td>30.395000</td>\n",
              "      <td>23.584162</td>\n",
              "      <td>31.215000</td>\n",
              "      <td>16.695858</td>\n",
              "      <td>22.000000</td>\n",
              "      <td>49.583332</td>\n",
              "      <td>...</td>\n",
              "      <td>2.113795</td>\n",
              "      <td>1.952327</td>\n",
              "      <td>2.011047</td>\n",
              "      <td>1.731741</td>\n",
              "      <td>NaN</td>\n",
              "      <td>2.881961</td>\n",
              "      <td>5.888560</td>\n",
              "      <td>1.693333</td>\n",
              "      <td>5.917824</td>\n",
              "      <td>-18.451666</td>\n",
              "    </tr>\n",
              "    <tr>\n",
              "      <th>12001</th>\n",
              "      <td>2019-03-26 15:10:00</td>\n",
              "      <td>31.879999</td>\n",
              "      <td>32.544998</td>\n",
              "      <td>29.955000</td>\n",
              "      <td>31.629999</td>\n",
              "      <td>23.430067</td>\n",
              "      <td>32.494999</td>\n",
              "      <td>15.542374</td>\n",
              "      <td>22.146667</td>\n",
              "      <td>50.000000</td>\n",
              "      <td>...</td>\n",
              "      <td>0.246897</td>\n",
              "      <td>0.000000</td>\n",
              "      <td>0.089877</td>\n",
              "      <td>-0.336773</td>\n",
              "      <td>NaN</td>\n",
              "      <td>16.420889</td>\n",
              "      <td>5.877352</td>\n",
              "      <td>1.000000</td>\n",
              "      <td>5.914578</td>\n",
              "      <td>3.318333</td>\n",
              "    </tr>\n",
              "    <tr>\n",
              "      <th>12002</th>\n",
              "      <td>2019-03-26 15:20:00</td>\n",
              "      <td>33.465000</td>\n",
              "      <td>34.231667</td>\n",
              "      <td>30.971666</td>\n",
              "      <td>32.645000</td>\n",
              "      <td>34.952438</td>\n",
              "      <td>33.439999</td>\n",
              "      <td>16.834276</td>\n",
              "      <td>23.000000</td>\n",
              "      <td>50.000000</td>\n",
              "      <td>...</td>\n",
              "      <td>0.246897</td>\n",
              "      <td>0.000000</td>\n",
              "      <td>0.089877</td>\n",
              "      <td>-0.336773</td>\n",
              "      <td>NaN</td>\n",
              "      <td>30.092041</td>\n",
              "      <td>5.865854</td>\n",
              "      <td>1.000000</td>\n",
              "      <td>5.910227</td>\n",
              "      <td>46.506668</td>\n",
              "    </tr>\n",
              "    <tr>\n",
              "      <th>12003</th>\n",
              "      <td>2019-03-26 15:30:00</td>\n",
              "      <td>36.508335</td>\n",
              "      <td>37.246666</td>\n",
              "      <td>32.570000</td>\n",
              "      <td>34.090000</td>\n",
              "      <td>55.998398</td>\n",
              "      <td>35.291668</td>\n",
              "      <td>27.663843</td>\n",
              "      <td>23.000000</td>\n",
              "      <td>50.000000</td>\n",
              "      <td>...</td>\n",
              "      <td>0.246897</td>\n",
              "      <td>0.000000</td>\n",
              "      <td>0.089877</td>\n",
              "      <td>-0.336773</td>\n",
              "      <td>NaN</td>\n",
              "      <td>18.401083</td>\n",
              "      <td>5.857502</td>\n",
              "      <td>1.000000</td>\n",
              "      <td>5.895942</td>\n",
              "      <td>172.866669</td>\n",
              "    </tr>\n",
              "    <tr>\n",
              "      <th>12004</th>\n",
              "      <td>2019-03-26 15:40:00</td>\n",
              "      <td>39.091667</td>\n",
              "      <td>40.398335</td>\n",
              "      <td>34.491665</td>\n",
              "      <td>36.173332</td>\n",
              "      <td>50.702705</td>\n",
              "      <td>37.693333</td>\n",
              "      <td>31.757063</td>\n",
              "      <td>23.756666</td>\n",
              "      <td>50.360001</td>\n",
              "      <td>...</td>\n",
              "      <td>0.246897</td>\n",
              "      <td>0.000000</td>\n",
              "      <td>0.089877</td>\n",
              "      <td>-0.336773</td>\n",
              "      <td>NaN</td>\n",
              "      <td>28.505899</td>\n",
              "      <td>5.822761</td>\n",
              "      <td>1.000000</td>\n",
              "      <td>5.866086</td>\n",
              "      <td>363.533325</td>\n",
              "    </tr>\n",
              "    <tr>\n",
              "      <th>12005</th>\n",
              "      <td>2019-03-26 15:50:00</td>\n",
              "      <td>42.436668</td>\n",
              "      <td>42.983334</td>\n",
              "      <td>36.696667</td>\n",
              "      <td>38.953335</td>\n",
              "      <td>47.086731</td>\n",
              "      <td>40.598331</td>\n",
              "      <td>25.574389</td>\n",
              "      <td>25.056667</td>\n",
              "      <td>51.000000</td>\n",
              "      <td>...</td>\n",
              "      <td>0.246897</td>\n",
              "      <td>0.000000</td>\n",
              "      <td>0.089877</td>\n",
              "      <td>-0.336773</td>\n",
              "      <td>NaN</td>\n",
              "      <td>7.393946</td>\n",
              "      <td>5.804494</td>\n",
              "      <td>1.000000</td>\n",
              "      <td>5.836015</td>\n",
              "      <td>551.455017</td>\n",
              "    </tr>\n",
              "  </tbody>\n",
              "</table>\n",
              "<p>6 rows × 78 columns</p>\n",
              "</div>\n",
              "      <button class=\"colab-df-convert\" onclick=\"convertToInteractive('df-8dee5681-3700-475e-b4d4-60d6c5b810cd')\"\n",
              "              title=\"Convert this dataframe to an interactive table.\"\n",
              "              style=\"display:none;\">\n",
              "        \n",
              "  <svg xmlns=\"http://www.w3.org/2000/svg\" height=\"24px\"viewBox=\"0 0 24 24\"\n",
              "       width=\"24px\">\n",
              "    <path d=\"M0 0h24v24H0V0z\" fill=\"none\"/>\n",
              "    <path d=\"M18.56 5.44l.94 2.06.94-2.06 2.06-.94-2.06-.94-.94-2.06-.94 2.06-2.06.94zm-11 1L8.5 8.5l.94-2.06 2.06-.94-2.06-.94L8.5 2.5l-.94 2.06-2.06.94zm10 10l.94 2.06.94-2.06 2.06-.94-2.06-.94-.94-2.06-.94 2.06-2.06.94z\"/><path d=\"M17.41 7.96l-1.37-1.37c-.4-.4-.92-.59-1.43-.59-.52 0-1.04.2-1.43.59L10.3 9.45l-7.72 7.72c-.78.78-.78 2.05 0 2.83L4 21.41c.39.39.9.59 1.41.59.51 0 1.02-.2 1.41-.59l7.78-7.78 2.81-2.81c.8-.78.8-2.07 0-2.86zM5.41 20L4 18.59l7.72-7.72 1.47 1.35L5.41 20z\"/>\n",
              "  </svg>\n",
              "      </button>\n",
              "      \n",
              "  <style>\n",
              "    .colab-df-container {\n",
              "      display:flex;\n",
              "      flex-wrap:wrap;\n",
              "      gap: 12px;\n",
              "    }\n",
              "\n",
              "    .colab-df-convert {\n",
              "      background-color: #E8F0FE;\n",
              "      border: none;\n",
              "      border-radius: 50%;\n",
              "      cursor: pointer;\n",
              "      display: none;\n",
              "      fill: #1967D2;\n",
              "      height: 32px;\n",
              "      padding: 0 0 0 0;\n",
              "      width: 32px;\n",
              "    }\n",
              "\n",
              "    .colab-df-convert:hover {\n",
              "      background-color: #E2EBFA;\n",
              "      box-shadow: 0px 1px 2px rgba(60, 64, 67, 0.3), 0px 1px 3px 1px rgba(60, 64, 67, 0.15);\n",
              "      fill: #174EA6;\n",
              "    }\n",
              "\n",
              "    [theme=dark] .colab-df-convert {\n",
              "      background-color: #3B4455;\n",
              "      fill: #D2E3FC;\n",
              "    }\n",
              "\n",
              "    [theme=dark] .colab-df-convert:hover {\n",
              "      background-color: #434B5C;\n",
              "      box-shadow: 0px 1px 3px 1px rgba(0, 0, 0, 0.15);\n",
              "      filter: drop-shadow(0px 1px 2px rgba(0, 0, 0, 0.3));\n",
              "      fill: #FFFFFF;\n",
              "    }\n",
              "  </style>\n",
              "\n",
              "      <script>\n",
              "        const buttonEl =\n",
              "          document.querySelector('#df-8dee5681-3700-475e-b4d4-60d6c5b810cd button.colab-df-convert');\n",
              "        buttonEl.style.display =\n",
              "          google.colab.kernel.accessAllowed ? 'block' : 'none';\n",
              "\n",
              "        async function convertToInteractive(key) {\n",
              "          const element = document.querySelector('#df-8dee5681-3700-475e-b4d4-60d6c5b810cd');\n",
              "          const dataTable =\n",
              "            await google.colab.kernel.invokeFunction('convertToInteractive',\n",
              "                                                     [key], {});\n",
              "          if (!dataTable) return;\n",
              "\n",
              "          const docLinkHtml = 'Like what you see? Visit the ' +\n",
              "            '<a target=\"_blank\" href=https://colab.research.google.com/notebooks/data_table.ipynb>data table notebook</a>'\n",
              "            + ' to learn more about interactive tables.';\n",
              "          element.innerHTML = '';\n",
              "          dataTable['output_type'] = 'display_data';\n",
              "          await google.colab.output.renderOutput(dataTable, element);\n",
              "          const docLink = document.createElement('div');\n",
              "          docLink.innerHTML = docLinkHtml;\n",
              "          element.appendChild(docLink);\n",
              "        }\n",
              "      </script>\n",
              "    </div>\n",
              "  </div>\n",
              "  "
            ]
          },
          "metadata": {},
          "execution_count": 7
        }
      ]
    },
    {
      "cell_type": "code",
      "source": [
        "df.isnull().sum()"
      ],
      "metadata": {
        "colab": {
          "base_uri": "https://localhost:8080/"
        },
        "id": "zubdup9FxnJI",
        "outputId": "ef309ec6-59a8-4a5d-f5f6-fce75c43b599"
      },
      "execution_count": null,
      "outputs": [
        {
          "output_type": "execute_result",
          "data": {
            "text/plain": [
              "Timestamp                                             0\n",
              "Gearbox_T1_High_Speed_Shaft_Temperature            3951\n",
              "Gearbox_T3_High_Speed_Shaft_Temperature            4292\n",
              "Gearbox_T1_Intermediate_Speed_Shaft_Temperature    3664\n",
              "Temperature Gearbox Bearing Hollow Shaft           3264\n",
              "                                                   ... \n",
              "Moment Q Filltered                                 4611\n",
              "Proxy Sensor_Degree-45                             3536\n",
              "Turbine State                                      3536\n",
              "Proxy Sensor_Degree-315                            4058\n",
              "Power(kW)                                             0\n",
              "Length: 78, dtype: int64"
            ]
          },
          "metadata": {},
          "execution_count": 8
        }
      ]
    },
    {
      "cell_type": "code",
      "source": [
        "df2=df[:200]\n",
        "df2.mean(axis = 0, skipna = True)\n",
        "\n"
      ],
      "metadata": {
        "colab": {
          "base_uri": "https://localhost:8080/"
        },
        "id": "fgweFmAixuzu",
        "outputId": "79bd58e3-a6f1-4643-cf9a-34ace8638862"
      },
      "execution_count": null,
      "outputs": [
        {
          "output_type": "stream",
          "name": "stderr",
          "text": [
            "/usr/local/lib/python3.7/dist-packages/ipykernel_launcher.py:2: FutureWarning: Dropping of nuisance columns in DataFrame reductions (with 'numeric_only=None') is deprecated; in a future version this will raise TypeError.  Select only valid columns before calling the reduction.\n",
            "  \n"
          ]
        },
        {
          "output_type": "execute_result",
          "data": {
            "text/plain": [
              "Gearbox_T1_High_Speed_Shaft_Temperature              60.372158\n",
              "Gearbox_T3_High_Speed_Shaft_Temperature              62.701642\n",
              "Gearbox_T1_Intermediate_Speed_Shaft_Temperature      55.792733\n",
              "Temperature Gearbox Bearing Hollow Shaft             60.353133\n",
              "Tower Acceleration Normal                            59.286621\n",
              "                                                      ...     \n",
              "Moment Q Filltered                                  -27.646304\n",
              "Proxy Sensor_Degree-45                                5.735477\n",
              "Turbine State                                         1.044883\n",
              "Proxy Sensor_Degree-315                               5.752687\n",
              "Power(kW)                                          1512.471769\n",
              "Length: 77, dtype: float64"
            ]
          },
          "metadata": {},
          "execution_count": 9
        }
      ]
    },
    {
      "cell_type": "code",
      "source": [
        "sum([True for idx,row in df.iterrows() if any(row.isnull())])"
      ],
      "metadata": {
        "colab": {
          "base_uri": "https://localhost:8080/"
        },
        "id": "k-kzjT5Fx2pF",
        "outputId": "a6c85bd2-406a-44c0-a2a9-2e6400ec00fc"
      },
      "execution_count": null,
      "outputs": [
        {
          "output_type": "execute_result",
          "data": {
            "text/plain": [
              "121146"
            ]
          },
          "metadata": {},
          "execution_count": 10
        }
      ]
    },
    {
      "cell_type": "code",
      "source": [
        "\n",
        "df.fillna(df[:100].mean(),inplace=True)"
      ],
      "metadata": {
        "colab": {
          "base_uri": "https://localhost:8080/"
        },
        "id": "sxOw2rzYyX1W",
        "outputId": "d00cf503-4066-4e0d-ec25-2ce6ce7b3c59"
      },
      "execution_count": null,
      "outputs": [
        {
          "output_type": "stream",
          "name": "stderr",
          "text": [
            "/usr/local/lib/python3.7/dist-packages/ipykernel_launcher.py:2: FutureWarning: Dropping of nuisance columns in DataFrame reductions (with 'numeric_only=None') is deprecated; in a future version this will raise TypeError.  Select only valid columns before calling the reduction.\n",
            "  \n"
          ]
        }
      ]
    },
    {
      "cell_type": "code",
      "source": [
        "df.isnull().sum()"
      ],
      "metadata": {
        "colab": {
          "base_uri": "https://localhost:8080/"
        },
        "id": "swOBQG6t56Rw",
        "outputId": "25730445-371f-43c0-bd29-84534c11474a"
      },
      "execution_count": null,
      "outputs": [
        {
          "output_type": "execute_result",
          "data": {
            "text/plain": [
              "Timestamp                                          0\n",
              "Gearbox_T1_High_Speed_Shaft_Temperature            0\n",
              "Gearbox_T3_High_Speed_Shaft_Temperature            0\n",
              "Gearbox_T1_Intermediate_Speed_Shaft_Temperature    0\n",
              "Temperature Gearbox Bearing Hollow Shaft           0\n",
              "                                                  ..\n",
              "Moment Q Filltered                                 0\n",
              "Proxy Sensor_Degree-45                             0\n",
              "Turbine State                                      0\n",
              "Proxy Sensor_Degree-315                            0\n",
              "Power(kW)                                          0\n",
              "Length: 78, dtype: int64"
            ]
          },
          "metadata": {},
          "execution_count": 12
        }
      ]
    },
    {
      "cell_type": "code",
      "source": [
        ""
      ],
      "metadata": {
        "id": "r6falSxG6zpH"
      },
      "execution_count": null,
      "outputs": []
    },
    {
      "cell_type": "code",
      "execution_count": null,
      "metadata": {
        "colab": {
          "base_uri": "https://localhost:8080/"
        },
        "outputId": "f9bd6d4d-a80d-458d-fc43-0db355d3fd9b",
        "id": "9qK1OdATFBnx"
      },
      "outputs": [
        {
          "output_type": "stream",
          "name": "stdout",
          "text": [
            "Drive already mounted at /content/drive; to attempt to forcibly remount, call drive.mount(\"/content/drive\", force_remount=True).\n"
          ]
        }
      ],
      "source": [
        "import tensorflow as tf\n",
        "import os\n",
        "import pandas as pd\n",
        "import numpy as np\n",
        "from google.colab import drive\n",
        "drive.mount('/content/drive')"
      ]
    },
    {
      "cell_type": "code",
      "source": [
        "df0=pd.read_csv('/content/drive/MyDrive/features.csv')\n",
        "df1=pd.read_csv('/content/drive/MyDrive/power.csv')\n",
        "df1.tail()"
      ],
      "metadata": {
        "colab": {
          "base_uri": "https://localhost:8080/",
          "height": 206
        },
        "outputId": "0791624a-226f-4e64-d8cd-e480e5fa5042",
        "id": "8PU6IqGBFBn7"
      },
      "execution_count": null,
      "outputs": [
        {
          "output_type": "execute_result",
          "data": {
            "text/plain": [
              "                  Timestamp    Power(kW)\n",
              "136725  2021-08-14 23:10:00  2757.728271\n",
              "136726  2021-08-14 23:20:00  2758.323242\n",
              "136727  2021-08-14 23:30:00  2759.243408\n",
              "136728  2021-08-14 23:40:00  2761.261719\n",
              "136729  2021-08-14 23:50:00  2758.593262"
            ],
            "text/html": [
              "\n",
              "  <div id=\"df-6bb49ac5-2c65-4986-8416-6166393776ec\">\n",
              "    <div class=\"colab-df-container\">\n",
              "      <div>\n",
              "<style scoped>\n",
              "    .dataframe tbody tr th:only-of-type {\n",
              "        vertical-align: middle;\n",
              "    }\n",
              "\n",
              "    .dataframe tbody tr th {\n",
              "        vertical-align: top;\n",
              "    }\n",
              "\n",
              "    .dataframe thead th {\n",
              "        text-align: right;\n",
              "    }\n",
              "</style>\n",
              "<table border=\"1\" class=\"dataframe\">\n",
              "  <thead>\n",
              "    <tr style=\"text-align: right;\">\n",
              "      <th></th>\n",
              "      <th>Timestamp</th>\n",
              "      <th>Power(kW)</th>\n",
              "    </tr>\n",
              "  </thead>\n",
              "  <tbody>\n",
              "    <tr>\n",
              "      <th>136725</th>\n",
              "      <td>2021-08-14 23:10:00</td>\n",
              "      <td>2757.728271</td>\n",
              "    </tr>\n",
              "    <tr>\n",
              "      <th>136726</th>\n",
              "      <td>2021-08-14 23:20:00</td>\n",
              "      <td>2758.323242</td>\n",
              "    </tr>\n",
              "    <tr>\n",
              "      <th>136727</th>\n",
              "      <td>2021-08-14 23:30:00</td>\n",
              "      <td>2759.243408</td>\n",
              "    </tr>\n",
              "    <tr>\n",
              "      <th>136728</th>\n",
              "      <td>2021-08-14 23:40:00</td>\n",
              "      <td>2761.261719</td>\n",
              "    </tr>\n",
              "    <tr>\n",
              "      <th>136729</th>\n",
              "      <td>2021-08-14 23:50:00</td>\n",
              "      <td>2758.593262</td>\n",
              "    </tr>\n",
              "  </tbody>\n",
              "</table>\n",
              "</div>\n",
              "      <button class=\"colab-df-convert\" onclick=\"convertToInteractive('df-6bb49ac5-2c65-4986-8416-6166393776ec')\"\n",
              "              title=\"Convert this dataframe to an interactive table.\"\n",
              "              style=\"display:none;\">\n",
              "        \n",
              "  <svg xmlns=\"http://www.w3.org/2000/svg\" height=\"24px\"viewBox=\"0 0 24 24\"\n",
              "       width=\"24px\">\n",
              "    <path d=\"M0 0h24v24H0V0z\" fill=\"none\"/>\n",
              "    <path d=\"M18.56 5.44l.94 2.06.94-2.06 2.06-.94-2.06-.94-.94-2.06-.94 2.06-2.06.94zm-11 1L8.5 8.5l.94-2.06 2.06-.94-2.06-.94L8.5 2.5l-.94 2.06-2.06.94zm10 10l.94 2.06.94-2.06 2.06-.94-2.06-.94-.94-2.06-.94 2.06-2.06.94z\"/><path d=\"M17.41 7.96l-1.37-1.37c-.4-.4-.92-.59-1.43-.59-.52 0-1.04.2-1.43.59L10.3 9.45l-7.72 7.72c-.78.78-.78 2.05 0 2.83L4 21.41c.39.39.9.59 1.41.59.51 0 1.02-.2 1.41-.59l7.78-7.78 2.81-2.81c.8-.78.8-2.07 0-2.86zM5.41 20L4 18.59l7.72-7.72 1.47 1.35L5.41 20z\"/>\n",
              "  </svg>\n",
              "      </button>\n",
              "      \n",
              "  <style>\n",
              "    .colab-df-container {\n",
              "      display:flex;\n",
              "      flex-wrap:wrap;\n",
              "      gap: 12px;\n",
              "    }\n",
              "\n",
              "    .colab-df-convert {\n",
              "      background-color: #E8F0FE;\n",
              "      border: none;\n",
              "      border-radius: 50%;\n",
              "      cursor: pointer;\n",
              "      display: none;\n",
              "      fill: #1967D2;\n",
              "      height: 32px;\n",
              "      padding: 0 0 0 0;\n",
              "      width: 32px;\n",
              "    }\n",
              "\n",
              "    .colab-df-convert:hover {\n",
              "      background-color: #E2EBFA;\n",
              "      box-shadow: 0px 1px 2px rgba(60, 64, 67, 0.3), 0px 1px 3px 1px rgba(60, 64, 67, 0.15);\n",
              "      fill: #174EA6;\n",
              "    }\n",
              "\n",
              "    [theme=dark] .colab-df-convert {\n",
              "      background-color: #3B4455;\n",
              "      fill: #D2E3FC;\n",
              "    }\n",
              "\n",
              "    [theme=dark] .colab-df-convert:hover {\n",
              "      background-color: #434B5C;\n",
              "      box-shadow: 0px 1px 3px 1px rgba(0, 0, 0, 0.15);\n",
              "      filter: drop-shadow(0px 1px 2px rgba(0, 0, 0, 0.3));\n",
              "      fill: #FFFFFF;\n",
              "    }\n",
              "  </style>\n",
              "\n",
              "      <script>\n",
              "        const buttonEl =\n",
              "          document.querySelector('#df-6bb49ac5-2c65-4986-8416-6166393776ec button.colab-df-convert');\n",
              "        buttonEl.style.display =\n",
              "          google.colab.kernel.accessAllowed ? 'block' : 'none';\n",
              "\n",
              "        async function convertToInteractive(key) {\n",
              "          const element = document.querySelector('#df-6bb49ac5-2c65-4986-8416-6166393776ec');\n",
              "          const dataTable =\n",
              "            await google.colab.kernel.invokeFunction('convertToInteractive',\n",
              "                                                     [key], {});\n",
              "          if (!dataTable) return;\n",
              "\n",
              "          const docLinkHtml = 'Like what you see? Visit the ' +\n",
              "            '<a target=\"_blank\" href=https://colab.research.google.com/notebooks/data_table.ipynb>data table notebook</a>'\n",
              "            + ' to learn more about interactive tables.';\n",
              "          element.innerHTML = '';\n",
              "          dataTable['output_type'] = 'display_data';\n",
              "          await google.colab.output.renderOutput(dataTable, element);\n",
              "          const docLink = document.createElement('div');\n",
              "          docLink.innerHTML = docLinkHtml;\n",
              "          element.appendChild(docLink);\n",
              "        }\n",
              "      </script>\n",
              "    </div>\n",
              "  </div>\n",
              "  "
            ]
          },
          "metadata": {},
          "execution_count": 60
        }
      ]
    },
    {
      "cell_type": "code",
      "source": [
        "df=df0.merge(df1, how='inner', on='Timestamp')\n",
        "# df.tail(5)\n",
        "df[12000:12006]  "
      ],
      "metadata": {
        "colab": {
          "base_uri": "https://localhost:8080/",
          "height": 608
        },
        "outputId": "e104dafd-a203-4cda-b996-01d2eee45eed",
        "id": "-cUy-eIZFBn9"
      },
      "execution_count": null,
      "outputs": [
        {
          "output_type": "execute_result",
          "data": {
            "text/plain": [
              "                 Timestamp  Gearbox_T1_High_Speed_Shaft_Temperature  \\\n",
              "12000  2019-03-26 15:00:00                                29.918333   \n",
              "12001  2019-03-26 15:10:00                                31.879999   \n",
              "12002  2019-03-26 15:20:00                                33.465000   \n",
              "12003  2019-03-26 15:30:00                                36.508335   \n",
              "12004  2019-03-26 15:40:00                                39.091667   \n",
              "12005  2019-03-26 15:50:00                                42.436668   \n",
              "\n",
              "       Gearbox_T3_High_Speed_Shaft_Temperature  \\\n",
              "12000                                30.531666   \n",
              "12001                                32.544998   \n",
              "12002                                34.231667   \n",
              "12003                                37.246666   \n",
              "12004                                40.398335   \n",
              "12005                                42.983334   \n",
              "\n",
              "       Gearbox_T1_Intermediate_Speed_Shaft_Temperature  \\\n",
              "12000                                        28.885000   \n",
              "12001                                        29.955000   \n",
              "12002                                        30.971666   \n",
              "12003                                        32.570000   \n",
              "12004                                        34.491665   \n",
              "12005                                        36.696667   \n",
              "\n",
              "       Temperature Gearbox Bearing Hollow Shaft  Tower Acceleration Normal  \\\n",
              "12000                                 30.395000                  23.584162   \n",
              "12001                                 31.629999                  23.430067   \n",
              "12002                                 32.645000                  34.952438   \n",
              "12003                                 34.090000                  55.998398   \n",
              "12004                                 36.173332                  50.702705   \n",
              "12005                                 38.953335                  47.086731   \n",
              "\n",
              "       Gearbox_Oil-2_Temperature  Tower Acceleration Lateral  \\\n",
              "12000                  31.215000                   16.695858   \n",
              "12001                  32.494999                   15.542374   \n",
              "12002                  33.439999                   16.834276   \n",
              "12003                  35.291668                   27.663843   \n",
              "12004                  37.693333                   31.757063   \n",
              "12005                  40.598331                   25.574389   \n",
              "\n",
              "       Temperature Bearing_A  Temperature Trafo-3  ...  \\\n",
              "12000              22.000000            49.583332  ...   \n",
              "12001              22.146667            50.000000  ...   \n",
              "12002              23.000000            50.000000  ...   \n",
              "12003              23.000000            50.000000  ...   \n",
              "12004              23.756666            50.360001  ...   \n",
              "12005              25.056667            51.000000  ...   \n",
              "\n",
              "       Blade-2 Set Value_Degree  Pitch Demand Baseline_Degree  \\\n",
              "12000                  2.113795                      1.952327   \n",
              "12001                  0.246897                      0.000000   \n",
              "12002                  0.246897                      0.000000   \n",
              "12003                  0.246897                      0.000000   \n",
              "12004                  0.246897                      0.000000   \n",
              "12005                  0.246897                      0.000000   \n",
              "\n",
              "       Blade-1 Set Value_Degree  Blade-3 Set Value_Degree  Moment Q Direction  \\\n",
              "12000                  2.011047                  1.731741                 NaN   \n",
              "12001                  0.089877                 -0.336773                 NaN   \n",
              "12002                  0.089877                 -0.336773                 NaN   \n",
              "12003                  0.089877                 -0.336773                 NaN   \n",
              "12004                  0.089877                 -0.336773                 NaN   \n",
              "12005                  0.089877                 -0.336773                 NaN   \n",
              "\n",
              "       Moment Q Filltered  Proxy Sensor_Degree-45  Turbine State  \\\n",
              "12000            2.881961                5.888560       1.693333   \n",
              "12001           16.420889                5.877352       1.000000   \n",
              "12002           30.092041                5.865854       1.000000   \n",
              "12003           18.401083                5.857502       1.000000   \n",
              "12004           28.505899                5.822761       1.000000   \n",
              "12005            7.393946                5.804494       1.000000   \n",
              "\n",
              "       Proxy Sensor_Degree-315   Power(kW)  \n",
              "12000                 5.917824  -18.451666  \n",
              "12001                 5.914578    3.318333  \n",
              "12002                 5.910227   46.506668  \n",
              "12003                 5.895942  172.866669  \n",
              "12004                 5.866086  363.533325  \n",
              "12005                 5.836015  551.455017  \n",
              "\n",
              "[6 rows x 78 columns]"
            ],
            "text/html": [
              "\n",
              "  <div id=\"df-54916d30-51b2-4718-9e0b-2e9c6225bee6\">\n",
              "    <div class=\"colab-df-container\">\n",
              "      <div>\n",
              "<style scoped>\n",
              "    .dataframe tbody tr th:only-of-type {\n",
              "        vertical-align: middle;\n",
              "    }\n",
              "\n",
              "    .dataframe tbody tr th {\n",
              "        vertical-align: top;\n",
              "    }\n",
              "\n",
              "    .dataframe thead th {\n",
              "        text-align: right;\n",
              "    }\n",
              "</style>\n",
              "<table border=\"1\" class=\"dataframe\">\n",
              "  <thead>\n",
              "    <tr style=\"text-align: right;\">\n",
              "      <th></th>\n",
              "      <th>Timestamp</th>\n",
              "      <th>Gearbox_T1_High_Speed_Shaft_Temperature</th>\n",
              "      <th>Gearbox_T3_High_Speed_Shaft_Temperature</th>\n",
              "      <th>Gearbox_T1_Intermediate_Speed_Shaft_Temperature</th>\n",
              "      <th>Temperature Gearbox Bearing Hollow Shaft</th>\n",
              "      <th>Tower Acceleration Normal</th>\n",
              "      <th>Gearbox_Oil-2_Temperature</th>\n",
              "      <th>Tower Acceleration Lateral</th>\n",
              "      <th>Temperature Bearing_A</th>\n",
              "      <th>Temperature Trafo-3</th>\n",
              "      <th>...</th>\n",
              "      <th>Blade-2 Set Value_Degree</th>\n",
              "      <th>Pitch Demand Baseline_Degree</th>\n",
              "      <th>Blade-1 Set Value_Degree</th>\n",
              "      <th>Blade-3 Set Value_Degree</th>\n",
              "      <th>Moment Q Direction</th>\n",
              "      <th>Moment Q Filltered</th>\n",
              "      <th>Proxy Sensor_Degree-45</th>\n",
              "      <th>Turbine State</th>\n",
              "      <th>Proxy Sensor_Degree-315</th>\n",
              "      <th>Power(kW)</th>\n",
              "    </tr>\n",
              "  </thead>\n",
              "  <tbody>\n",
              "    <tr>\n",
              "      <th>12000</th>\n",
              "      <td>2019-03-26 15:00:00</td>\n",
              "      <td>29.918333</td>\n",
              "      <td>30.531666</td>\n",
              "      <td>28.885000</td>\n",
              "      <td>30.395000</td>\n",
              "      <td>23.584162</td>\n",
              "      <td>31.215000</td>\n",
              "      <td>16.695858</td>\n",
              "      <td>22.000000</td>\n",
              "      <td>49.583332</td>\n",
              "      <td>...</td>\n",
              "      <td>2.113795</td>\n",
              "      <td>1.952327</td>\n",
              "      <td>2.011047</td>\n",
              "      <td>1.731741</td>\n",
              "      <td>NaN</td>\n",
              "      <td>2.881961</td>\n",
              "      <td>5.888560</td>\n",
              "      <td>1.693333</td>\n",
              "      <td>5.917824</td>\n",
              "      <td>-18.451666</td>\n",
              "    </tr>\n",
              "    <tr>\n",
              "      <th>12001</th>\n",
              "      <td>2019-03-26 15:10:00</td>\n",
              "      <td>31.879999</td>\n",
              "      <td>32.544998</td>\n",
              "      <td>29.955000</td>\n",
              "      <td>31.629999</td>\n",
              "      <td>23.430067</td>\n",
              "      <td>32.494999</td>\n",
              "      <td>15.542374</td>\n",
              "      <td>22.146667</td>\n",
              "      <td>50.000000</td>\n",
              "      <td>...</td>\n",
              "      <td>0.246897</td>\n",
              "      <td>0.000000</td>\n",
              "      <td>0.089877</td>\n",
              "      <td>-0.336773</td>\n",
              "      <td>NaN</td>\n",
              "      <td>16.420889</td>\n",
              "      <td>5.877352</td>\n",
              "      <td>1.000000</td>\n",
              "      <td>5.914578</td>\n",
              "      <td>3.318333</td>\n",
              "    </tr>\n",
              "    <tr>\n",
              "      <th>12002</th>\n",
              "      <td>2019-03-26 15:20:00</td>\n",
              "      <td>33.465000</td>\n",
              "      <td>34.231667</td>\n",
              "      <td>30.971666</td>\n",
              "      <td>32.645000</td>\n",
              "      <td>34.952438</td>\n",
              "      <td>33.439999</td>\n",
              "      <td>16.834276</td>\n",
              "      <td>23.000000</td>\n",
              "      <td>50.000000</td>\n",
              "      <td>...</td>\n",
              "      <td>0.246897</td>\n",
              "      <td>0.000000</td>\n",
              "      <td>0.089877</td>\n",
              "      <td>-0.336773</td>\n",
              "      <td>NaN</td>\n",
              "      <td>30.092041</td>\n",
              "      <td>5.865854</td>\n",
              "      <td>1.000000</td>\n",
              "      <td>5.910227</td>\n",
              "      <td>46.506668</td>\n",
              "    </tr>\n",
              "    <tr>\n",
              "      <th>12003</th>\n",
              "      <td>2019-03-26 15:30:00</td>\n",
              "      <td>36.508335</td>\n",
              "      <td>37.246666</td>\n",
              "      <td>32.570000</td>\n",
              "      <td>34.090000</td>\n",
              "      <td>55.998398</td>\n",
              "      <td>35.291668</td>\n",
              "      <td>27.663843</td>\n",
              "      <td>23.000000</td>\n",
              "      <td>50.000000</td>\n",
              "      <td>...</td>\n",
              "      <td>0.246897</td>\n",
              "      <td>0.000000</td>\n",
              "      <td>0.089877</td>\n",
              "      <td>-0.336773</td>\n",
              "      <td>NaN</td>\n",
              "      <td>18.401083</td>\n",
              "      <td>5.857502</td>\n",
              "      <td>1.000000</td>\n",
              "      <td>5.895942</td>\n",
              "      <td>172.866669</td>\n",
              "    </tr>\n",
              "    <tr>\n",
              "      <th>12004</th>\n",
              "      <td>2019-03-26 15:40:00</td>\n",
              "      <td>39.091667</td>\n",
              "      <td>40.398335</td>\n",
              "      <td>34.491665</td>\n",
              "      <td>36.173332</td>\n",
              "      <td>50.702705</td>\n",
              "      <td>37.693333</td>\n",
              "      <td>31.757063</td>\n",
              "      <td>23.756666</td>\n",
              "      <td>50.360001</td>\n",
              "      <td>...</td>\n",
              "      <td>0.246897</td>\n",
              "      <td>0.000000</td>\n",
              "      <td>0.089877</td>\n",
              "      <td>-0.336773</td>\n",
              "      <td>NaN</td>\n",
              "      <td>28.505899</td>\n",
              "      <td>5.822761</td>\n",
              "      <td>1.000000</td>\n",
              "      <td>5.866086</td>\n",
              "      <td>363.533325</td>\n",
              "    </tr>\n",
              "    <tr>\n",
              "      <th>12005</th>\n",
              "      <td>2019-03-26 15:50:00</td>\n",
              "      <td>42.436668</td>\n",
              "      <td>42.983334</td>\n",
              "      <td>36.696667</td>\n",
              "      <td>38.953335</td>\n",
              "      <td>47.086731</td>\n",
              "      <td>40.598331</td>\n",
              "      <td>25.574389</td>\n",
              "      <td>25.056667</td>\n",
              "      <td>51.000000</td>\n",
              "      <td>...</td>\n",
              "      <td>0.246897</td>\n",
              "      <td>0.000000</td>\n",
              "      <td>0.089877</td>\n",
              "      <td>-0.336773</td>\n",
              "      <td>NaN</td>\n",
              "      <td>7.393946</td>\n",
              "      <td>5.804494</td>\n",
              "      <td>1.000000</td>\n",
              "      <td>5.836015</td>\n",
              "      <td>551.455017</td>\n",
              "    </tr>\n",
              "  </tbody>\n",
              "</table>\n",
              "<p>6 rows × 78 columns</p>\n",
              "</div>\n",
              "      <button class=\"colab-df-convert\" onclick=\"convertToInteractive('df-54916d30-51b2-4718-9e0b-2e9c6225bee6')\"\n",
              "              title=\"Convert this dataframe to an interactive table.\"\n",
              "              style=\"display:none;\">\n",
              "        \n",
              "  <svg xmlns=\"http://www.w3.org/2000/svg\" height=\"24px\"viewBox=\"0 0 24 24\"\n",
              "       width=\"24px\">\n",
              "    <path d=\"M0 0h24v24H0V0z\" fill=\"none\"/>\n",
              "    <path d=\"M18.56 5.44l.94 2.06.94-2.06 2.06-.94-2.06-.94-.94-2.06-.94 2.06-2.06.94zm-11 1L8.5 8.5l.94-2.06 2.06-.94-2.06-.94L8.5 2.5l-.94 2.06-2.06.94zm10 10l.94 2.06.94-2.06 2.06-.94-2.06-.94-.94-2.06-.94 2.06-2.06.94z\"/><path d=\"M17.41 7.96l-1.37-1.37c-.4-.4-.92-.59-1.43-.59-.52 0-1.04.2-1.43.59L10.3 9.45l-7.72 7.72c-.78.78-.78 2.05 0 2.83L4 21.41c.39.39.9.59 1.41.59.51 0 1.02-.2 1.41-.59l7.78-7.78 2.81-2.81c.8-.78.8-2.07 0-2.86zM5.41 20L4 18.59l7.72-7.72 1.47 1.35L5.41 20z\"/>\n",
              "  </svg>\n",
              "      </button>\n",
              "      \n",
              "  <style>\n",
              "    .colab-df-container {\n",
              "      display:flex;\n",
              "      flex-wrap:wrap;\n",
              "      gap: 12px;\n",
              "    }\n",
              "\n",
              "    .colab-df-convert {\n",
              "      background-color: #E8F0FE;\n",
              "      border: none;\n",
              "      border-radius: 50%;\n",
              "      cursor: pointer;\n",
              "      display: none;\n",
              "      fill: #1967D2;\n",
              "      height: 32px;\n",
              "      padding: 0 0 0 0;\n",
              "      width: 32px;\n",
              "    }\n",
              "\n",
              "    .colab-df-convert:hover {\n",
              "      background-color: #E2EBFA;\n",
              "      box-shadow: 0px 1px 2px rgba(60, 64, 67, 0.3), 0px 1px 3px 1px rgba(60, 64, 67, 0.15);\n",
              "      fill: #174EA6;\n",
              "    }\n",
              "\n",
              "    [theme=dark] .colab-df-convert {\n",
              "      background-color: #3B4455;\n",
              "      fill: #D2E3FC;\n",
              "    }\n",
              "\n",
              "    [theme=dark] .colab-df-convert:hover {\n",
              "      background-color: #434B5C;\n",
              "      box-shadow: 0px 1px 3px 1px rgba(0, 0, 0, 0.15);\n",
              "      filter: drop-shadow(0px 1px 2px rgba(0, 0, 0, 0.3));\n",
              "      fill: #FFFFFF;\n",
              "    }\n",
              "  </style>\n",
              "\n",
              "      <script>\n",
              "        const buttonEl =\n",
              "          document.querySelector('#df-54916d30-51b2-4718-9e0b-2e9c6225bee6 button.colab-df-convert');\n",
              "        buttonEl.style.display =\n",
              "          google.colab.kernel.accessAllowed ? 'block' : 'none';\n",
              "\n",
              "        async function convertToInteractive(key) {\n",
              "          const element = document.querySelector('#df-54916d30-51b2-4718-9e0b-2e9c6225bee6');\n",
              "          const dataTable =\n",
              "            await google.colab.kernel.invokeFunction('convertToInteractive',\n",
              "                                                     [key], {});\n",
              "          if (!dataTable) return;\n",
              "\n",
              "          const docLinkHtml = 'Like what you see? Visit the ' +\n",
              "            '<a target=\"_blank\" href=https://colab.research.google.com/notebooks/data_table.ipynb>data table notebook</a>'\n",
              "            + ' to learn more about interactive tables.';\n",
              "          element.innerHTML = '';\n",
              "          dataTable['output_type'] = 'display_data';\n",
              "          await google.colab.output.renderOutput(dataTable, element);\n",
              "          const docLink = document.createElement('div');\n",
              "          docLink.innerHTML = docLinkHtml;\n",
              "          element.appendChild(docLink);\n",
              "        }\n",
              "      </script>\n",
              "    </div>\n",
              "  </div>\n",
              "  "
            ]
          },
          "metadata": {},
          "execution_count": 61
        }
      ]
    },
    {
      "cell_type": "code",
      "source": [
        "df.isnull().sum()"
      ],
      "metadata": {
        "colab": {
          "base_uri": "https://localhost:8080/"
        },
        "outputId": "bfcf9952-c435-414b-c376-6a2db6ab1d1a",
        "id": "3BWuyeKiFBn-"
      },
      "execution_count": null,
      "outputs": [
        {
          "output_type": "execute_result",
          "data": {
            "text/plain": [
              "Timestamp                                             0\n",
              "Gearbox_T1_High_Speed_Shaft_Temperature            3951\n",
              "Gearbox_T3_High_Speed_Shaft_Temperature            4292\n",
              "Gearbox_T1_Intermediate_Speed_Shaft_Temperature    3664\n",
              "Temperature Gearbox Bearing Hollow Shaft           3264\n",
              "                                                   ... \n",
              "Moment Q Filltered                                 4611\n",
              "Proxy Sensor_Degree-45                             3536\n",
              "Turbine State                                      3536\n",
              "Proxy Sensor_Degree-315                            4058\n",
              "Power(kW)                                             0\n",
              "Length: 78, dtype: int64"
            ]
          },
          "metadata": {},
          "execution_count": 62
        }
      ]
    },
    {
      "cell_type": "code",
      "source": [
        "df2=df[:300]\n",
        "df2.mean(axis = 0, skipna = True)\n",
        "\n"
      ],
      "metadata": {
        "colab": {
          "base_uri": "https://localhost:8080/"
        },
        "outputId": "4ed3cc8c-53c1-44fe-aad5-6c6ecf603fe9",
        "id": "TyrDAunBFBn_"
      },
      "execution_count": null,
      "outputs": [
        {
          "output_type": "stream",
          "name": "stderr",
          "text": [
            "/usr/local/lib/python3.7/dist-packages/ipykernel_launcher.py:2: FutureWarning: Dropping of nuisance columns in DataFrame reductions (with 'numeric_only=None') is deprecated; in a future version this will raise TypeError.  Select only valid columns before calling the reduction.\n",
            "  \n"
          ]
        },
        {
          "output_type": "execute_result",
          "data": {
            "text/plain": [
              "Gearbox_T1_High_Speed_Shaft_Temperature              53.621906\n",
              "Gearbox_T3_High_Speed_Shaft_Temperature              55.982933\n",
              "Gearbox_T1_Intermediate_Speed_Shaft_Temperature      49.593950\n",
              "Temperature Gearbox Bearing Hollow Shaft             54.790606\n",
              "Tower Acceleration Normal                            54.000615\n",
              "                                                      ...     \n",
              "Moment Q Filltered                                   -5.919748\n",
              "Proxy Sensor_Degree-45                                5.767731\n",
              "Turbine State                                         1.127022\n",
              "Proxy Sensor_Degree-315                               5.794534\n",
              "Power(kW)                                          1049.082974\n",
              "Length: 77, dtype: float64"
            ]
          },
          "metadata": {},
          "execution_count": 63
        }
      ]
    },
    {
      "cell_type": "code",
      "source": [
        "# sum([True for idx,row in df.iterrows() if any(row.isnull())])"
      ],
      "metadata": {
        "colab": {
          "base_uri": "https://localhost:8080/"
        },
        "outputId": "67803b3f-ba5e-4237-e54b-add97d59bd9e",
        "id": "RUkHjHprFBoA"
      },
      "execution_count": null,
      "outputs": [
        {
          "output_type": "execute_result",
          "data": {
            "text/plain": [
              "121146"
            ]
          },
          "metadata": {},
          "execution_count": 64
        }
      ]
    },
    {
      "cell_type": "code",
      "source": [
        "\n",
        "df.fillna(df[:200].mean(),inplace=True)"
      ],
      "metadata": {
        "colab": {
          "base_uri": "https://localhost:8080/"
        },
        "outputId": "b99c8073-f94d-4087-8abb-c487a6b56a61",
        "id": "wuvqTacjFBoB"
      },
      "execution_count": null,
      "outputs": [
        {
          "output_type": "stream",
          "name": "stderr",
          "text": [
            "/usr/local/lib/python3.7/dist-packages/ipykernel_launcher.py:2: FutureWarning: Dropping of nuisance columns in DataFrame reductions (with 'numeric_only=None') is deprecated; in a future version this will raise TypeError.  Select only valid columns before calling the reduction.\n",
            "  \n"
          ]
        }
      ]
    },
    {
      "cell_type": "code",
      "source": [
        "df.isnull().sum()"
      ],
      "metadata": {
        "colab": {
          "base_uri": "https://localhost:8080/"
        },
        "outputId": "c47fb08e-9d4f-4fcc-ccac-232a370e930b",
        "id": "-ehYDTXcFBoC"
      },
      "execution_count": null,
      "outputs": [
        {
          "output_type": "execute_result",
          "data": {
            "text/plain": [
              "Timestamp                                          0\n",
              "Gearbox_T1_High_Speed_Shaft_Temperature            0\n",
              "Gearbox_T3_High_Speed_Shaft_Temperature            0\n",
              "Gearbox_T1_Intermediate_Speed_Shaft_Temperature    0\n",
              "Temperature Gearbox Bearing Hollow Shaft           0\n",
              "                                                  ..\n",
              "Moment Q Filltered                                 0\n",
              "Proxy Sensor_Degree-45                             0\n",
              "Turbine State                                      0\n",
              "Proxy Sensor_Degree-315                            0\n",
              "Power(kW)                                          0\n",
              "Length: 78, dtype: int64"
            ]
          },
          "metadata": {},
          "execution_count": 66
        }
      ]
    },
    {
      "cell_type": "code",
      "source": [
        ""
      ],
      "metadata": {
        "id": "a--wZPMQFBoD"
      },
      "execution_count": null,
      "outputs": []
    },
    {
      "cell_type": "code",
      "source": [
        "df.index = pd.to_datetime(df['Timestamp'], format='%Y.%m.%d %H:%M:%S')\n",
        "df[:26]\n",
        "df4=df"
      ],
      "metadata": {
        "id": "9K5i-KwGoLq9"
      },
      "execution_count": null,
      "outputs": []
    },
    {
      "cell_type": "markdown",
      "source": [
        ""
      ],
      "metadata": {
        "id": "YEwcf7bsrGl4"
      }
    },
    {
      "cell_type": "code",
      "source": [
        "dff=df[:200]\n",
        "power=dff[\"Power(kW)\"]\n",
        "power.plot()"
      ],
      "metadata": {
        "colab": {
          "base_uri": "https://localhost:8080/",
          "height": 321
        },
        "id": "H-AdCAB9ocem",
        "outputId": "d6814767-f3fa-4d19-ffa2-a31e50b35da8"
      },
      "execution_count": null,
      "outputs": [
        {
          "output_type": "execute_result",
          "data": {
            "text/plain": [
              "<matplotlib.axes._subplots.AxesSubplot at 0x7f684510a4d0>"
            ]
          },
          "metadata": {},
          "execution_count": 22
        },
        {
          "output_type": "display_data",
          "data": {
            "text/plain": [
              "<Figure size 432x288 with 1 Axes>"
            ],
            "image/png": "[encoded data removed]"
          },
          "metadata": {
            "needs_background": "light"
          }
        }
      ]
    },
    {
      "cell_type": "code",
      "source": [
        "# from statsmodels.tsa.seasonal import seasonal_decompose\n",
        "# results = seasonal_decompose(df['Power(kW)'])\n",
        "# results.plot();"
      ],
      "metadata": {
        "id": "bW5S65qMJzRP"
      },
      "execution_count": null,
      "outputs": []
    },
    {
      "cell_type": "code",
      "source": [
        "dd=df[:]\n",
        "powers=df[\"Power(kW)\"]\n",
        "df1.pop('Timestamp')\n",
        "df=df1"
      ],
      "metadata": {
        "id": "RuVWmULYuXcr"
      },
      "execution_count": null,
      "outputs": []
    },
    {
      "cell_type": "code",
      "source": [
        "def df_to_X_y(df, window_size=5):\n",
        "  df_as_np = df.to_numpy()\n",
        "  X = []\n",
        "  y = []\n",
        "  for i in range(len(df_as_np)-window_size):\n",
        "    row = [[a] for a in df_as_np[i:i+window_size]]\n",
        "    X.append(row)\n",
        "    label = df_as_np[i+window_size]\n",
        "    y.append(label)\n",
        "  return np.array(X), np.array(y)"
      ],
      "metadata": {
        "id": "HVMIj4bsqzL4"
      },
      "execution_count": null,
      "outputs": []
    },
    {
      "cell_type": "code",
      "source": [
        "WINDOW_SIZE = 5\n",
        "X1, y1 = df_to_X_y(powers, WINDOW_SIZE)\n",
        "X1.shape, y1.shape"
      ],
      "metadata": {
        "colab": {
          "base_uri": "https://localhost:8080/"
        },
        "id": "fxbNGB5ruFEy",
        "outputId": "109bdb5f-a914-40ab-9185-53a07ceead3c"
      },
      "execution_count": null,
      "outputs": [
        {
          "output_type": "execute_result",
          "data": {
            "text/plain": [
              "((136725, 5, 1), (136725,))"
            ]
          },
          "metadata": {},
          "execution_count": 26
        }
      ]
    },
    {
      "cell_type": "code",
      "source": [
        "X_train1, y_train1 = X1[:18000], y1[:18000]\n",
        "X_val1, y_val1 = X1[18000:20000], y1[18000:20000]\n",
        "X_test1, y_test1 = X1[20000:], y1[20000:]\n",
        "X_train1.shape, y_train1.shape, X_val1.shape, y_val1.shape, X_test1.shape, y_test1.shape"
      ],
      "metadata": {
        "colab": {
          "base_uri": "https://localhost:8080/"
        },
        "id": "7jFOYI5puILA",
        "outputId": "1f226f3f-f9c9-40e9-a344-ad8e72f5fe71"
      },
      "execution_count": null,
      "outputs": [
        {
          "output_type": "execute_result",
          "data": {
            "text/plain": [
              "((18000, 5, 1), (18000,), (2000, 5, 1), (2000,), (116725, 5, 1), (116725,))"
            ]
          },
          "metadata": {},
          "execution_count": 27
        }
      ]
    },
    {
      "cell_type": "code",
      "source": [
        "from tensorflow.keras.models import Sequential\n",
        "from tensorflow.keras.layers import *\n",
        "from tensorflow.keras.callbacks import ModelCheckpoint\n",
        "from tensorflow.keras.losses import MeanSquaredError\n",
        "from tensorflow.keras.metrics import RootMeanSquaredError\n",
        "from tensorflow.keras.optimizers import Adam\n",
        "\n",
        "model1 = Sequential()\n",
        "model1.add(InputLayer((5, 1)))\n",
        "model1.add(LSTM(100))\n",
        "model1.add(Dense(8, 'relu'))\n",
        "model1.add(Dense(1, 'linear'))\n",
        "\n",
        "model1.summary()"
      ],
      "metadata": {
        "colab": {
          "base_uri": "https://localhost:8080/"
        },
        "id": "IIge_ag1vFXC",
        "outputId": "36372734-094d-42c5-e50d-c1226fcdf541"
      },
      "execution_count": null,
      "outputs": [
        {
          "output_type": "stream",
          "name": "stdout",
          "text": [
            "Model: \"sequential_1\"\n",
            "_________________________________________________________________\n",
            " Layer (type)                Output Shape              Param #   \n",
            "=================================================================\n",
            " lstm_1 (LSTM)               (None, 100)               40800     \n",
            "                                                                 \n",
            " dense_2 (Dense)             (None, 8)                 808       \n",
            "                                                                 \n",
            " dense_3 (Dense)             (None, 1)                 9         \n",
            "                                                                 \n",
            "=================================================================\n",
            "Total params: 41,617\n",
            "Trainable params: 41,617\n",
            "Non-trainable params: 0\n",
            "_________________________________________________________________\n"
          ]
        }
      ]
    },
    {
      "cell_type": "code",
      "source": [
        "cp1 = ModelCheckpoint('model1/', save_best_only=True)\n",
        "\n",
        "\n",
        "model1.compile(loss=MeanSquaredError(), optimizer=Adam(learning_rate=0.001), metrics=[RootMeanSquaredError()])"
      ],
      "metadata": {
        "id": "8iKIBWmkvMV8"
      },
      "execution_count": null,
      "outputs": []
    },
    {
      "cell_type": "code",
      "source": [
        "model1.fit(X_train1, y_train1, validation_data=(X_val1, y_val1), epochs=50, callbacks=[cp1])\n"
      ],
      "metadata": {
        "colab": {
          "base_uri": "https://localhost:8080/"
        },
        "id": "kvSQCgkQvqaW",
        "outputId": "01c46245-4e25-4f86-9f6c-abd62ff98dcc"
      },
      "execution_count": null,
      "outputs": [
        {
          "output_type": "stream",
          "name": "stdout",
          "text": [
            "Epoch 1/50\n",
            "558/563 [============================>.] - ETA: 0s - loss: 2311558.5000 - root_mean_squared_error: 1520.3810"
          ]
        },
        {
          "output_type": "stream",
          "name": "stderr",
          "text": [
            "WARNING:absl:Found untraced functions such as lstm_cell_1_layer_call_fn, lstm_cell_1_layer_call_and_return_conditional_losses while saving (showing 2 of 2). These functions will not be directly callable after loading.\n"
          ]
        },
        {
          "output_type": "stream",
          "name": "stdout",
          "text": [
            "INFO:tensorflow:Assets written to: model1/assets\n"
          ]
        },
        {
          "output_type": "stream",
          "name": "stderr",
          "text": [
            "INFO:tensorflow:Assets written to: model1/assets\n",
            "WARNING:absl:<keras.layers.recurrent.LSTMCell object at 0x7f68c038aad0> has the same name 'LSTMCell' as a built-in Keras object. Consider renaming <class 'keras.layers.recurrent.LSTMCell'> to avoid naming conflicts when loading with `tf.keras.models.load_model`. If renaming is not possible, pass the object in the `custom_objects` parameter of the load function.\n"
          ]
        },
        {
          "output_type": "stream",
          "name": "stdout",
          "text": [
            "\b\b\b\b\b\b\b\b\b\b\b\b\b\b\b\b\b\b\b\b\b\b\b\b\b\b\b\b\b\b\b\b\b\b\b\b\b\b\b\b\b\b\b\b\b\b\b\b\b\b\b\b\b\b\b\b\b\b\b\b\b\b\b\b\b\b\b\b\b\b\b\b\b\b\b\b\b\b\b\b\b\b\b\b\b\b\b\b\b\b\b\b\b\b\b\b\b\b\b\b\b\b\b\b\b\b\b\b\r563/563 [==============================] - 12s 11ms/step - loss: 2308366.0000 - root_mean_squared_error: 1519.3308 - val_loss: 284157.0312 - val_root_mean_squared_error: 533.0638\n",
            "Epoch 2/50\n",
            "552/563 [============================>.] - ETA: 0s - loss: 1517429.6250 - root_mean_squared_error: 1231.8398"
          ]
        },
        {
          "output_type": "stream",
          "name": "stderr",
          "text": [
            "WARNING:absl:Found untraced functions such as lstm_cell_1_layer_call_fn, lstm_cell_1_layer_call_and_return_conditional_losses while saving (showing 2 of 2). These functions will not be directly callable after loading.\n"
          ]
        },
        {
          "output_type": "stream",
          "name": "stdout",
          "text": [
            "INFO:tensorflow:Assets written to: model1/assets\n"
          ]
        },
        {
          "output_type": "stream",
          "name": "stderr",
          "text": [
            "INFO:tensorflow:Assets written to: model1/assets\n",
            "WARNING:absl:<keras.layers.recurrent.LSTMCell object at 0x7f68c038aad0> has the same name 'LSTMCell' as a built-in Keras object. Consider renaming <class 'keras.layers.recurrent.LSTMCell'> to avoid naming conflicts when loading with `tf.keras.models.load_model`. If renaming is not possible, pass the object in the `custom_objects` parameter of the load function.\n"
          ]
        },
        {
          "output_type": "stream",
          "name": "stdout",
          "text": [
            "\b\b\b\b\b\b\b\b\b\b\b\b\b\b\b\b\b\b\b\b\b\b\b\b\b\b\b\b\b\b\b\b\b\b\b\b\b\b\b\b\b\b\b\b\b\b\b\b\b\b\b\b\b\b\b\b\b\b\b\b\b\b\b\b\b\b\b\b\b\b\b\b\b\b\b\b\b\b\b\b\b\b\b\b\b\b\b\b\b\b\b\b\b\b\b\b\b\b\b\b\b\b\b\b\b\b\b\b\r563/563 [==============================] - 6s 10ms/step - loss: 1508938.2500 - root_mean_squared_error: 1228.3884 - val_loss: 124950.1172 - val_root_mean_squared_error: 353.4828\n",
            "Epoch 3/50\n",
            "550/563 [============================>.] - ETA: 0s - loss: 732724.0000 - root_mean_squared_error: 855.9930"
          ]
        },
        {
          "output_type": "stream",
          "name": "stderr",
          "text": [
            "WARNING:absl:Found untraced functions such as lstm_cell_1_layer_call_fn, lstm_cell_1_layer_call_and_return_conditional_losses while saving (showing 2 of 2). These functions will not be directly callable after loading.\n"
          ]
        },
        {
          "output_type": "stream",
          "name": "stdout",
          "text": [
            "INFO:tensorflow:Assets written to: model1/assets\n"
          ]
        },
        {
          "output_type": "stream",
          "name": "stderr",
          "text": [
            "INFO:tensorflow:Assets written to: model1/assets\n",
            "WARNING:absl:<keras.layers.recurrent.LSTMCell object at 0x7f68c038aad0> has the same name 'LSTMCell' as a built-in Keras object. Consider renaming <class 'keras.layers.recurrent.LSTMCell'> to avoid naming conflicts when loading with `tf.keras.models.load_model`. If renaming is not possible, pass the object in the `custom_objects` parameter of the load function.\n"
          ]
        },
        {
          "output_type": "stream",
          "name": "stdout",
          "text": [
            "\b\b\b\b\b\b\b\b\b\b\b\b\b\b\b\b\b\b\b\b\b\b\b\b\b\b\b\b\b\b\b\b\b\b\b\b\b\b\b\b\b\b\b\b\b\b\b\b\b\b\b\b\b\b\b\b\b\b\b\b\b\b\b\b\b\b\b\b\b\b\b\b\b\b\b\b\b\b\b\b\b\b\b\b\b\b\b\b\b\b\b\b\b\b\b\b\b\b\b\b\b\b\b\b\b\b\r563/563 [==============================] - 6s 11ms/step - loss: 726218.8750 - root_mean_squared_error: 852.1848 - val_loss: 50562.4805 - val_root_mean_squared_error: 224.8610\n",
            "Epoch 4/50\n",
            "556/563 [============================>.] - ETA: 0s - loss: 273113.4375 - root_mean_squared_error: 522.6025"
          ]
        },
        {
          "output_type": "stream",
          "name": "stderr",
          "text": [
            "WARNING:absl:Found untraced functions such as lstm_cell_1_layer_call_fn, lstm_cell_1_layer_call_and_return_conditional_losses while saving (showing 2 of 2). These functions will not be directly callable after loading.\n"
          ]
        },
        {
          "output_type": "stream",
          "name": "stdout",
          "text": [
            "INFO:tensorflow:Assets written to: model1/assets\n"
          ]
        },
        {
          "output_type": "stream",
          "name": "stderr",
          "text": [
            "INFO:tensorflow:Assets written to: model1/assets\n",
            "WARNING:absl:<keras.layers.recurrent.LSTMCell object at 0x7f68c038aad0> has the same name 'LSTMCell' as a built-in Keras object. Consider renaming <class 'keras.layers.recurrent.LSTMCell'> to avoid naming conflicts when loading with `tf.keras.models.load_model`. If renaming is not possible, pass the object in the `custom_objects` parameter of the load function.\n"
          ]
        },
        {
          "output_type": "stream",
          "name": "stdout",
          "text": [
            "\b\b\b\b\b\b\b\b\b\b\b\b\b\b\b\b\b\b\b\b\b\b\b\b\b\b\b\b\b\b\b\b\b\b\b\b\b\b\b\b\b\b\b\b\b\b\b\b\b\b\b\b\b\b\b\b\b\b\b\b\b\b\b\b\b\b\b\b\b\b\b\b\b\b\b\b\b\b\b\b\b\b\b\b\b\b\b\b\b\b\b\b\b\b\b\b\b\b\b\b\b\b\b\b\b\b\r563/563 [==============================] - 6s 10ms/step - loss: 272022.3438 - root_mean_squared_error: 521.5576 - val_loss: 38330.4023 - val_root_mean_squared_error: 195.7815\n",
            "Epoch 5/50\n",
            "555/563 [============================>.] - ETA: 0s - loss: 108413.7812 - root_mean_squared_error: 329.2625"
          ]
        },
        {
          "output_type": "stream",
          "name": "stderr",
          "text": [
            "WARNING:absl:Found untraced functions such as lstm_cell_1_layer_call_fn, lstm_cell_1_layer_call_and_return_conditional_losses while saving (showing 2 of 2). These functions will not be directly callable after loading.\n"
          ]
        },
        {
          "output_type": "stream",
          "name": "stdout",
          "text": [
            "INFO:tensorflow:Assets written to: model1/assets\n"
          ]
        },
        {
          "output_type": "stream",
          "name": "stderr",
          "text": [
            "INFO:tensorflow:Assets written to: model1/assets\n",
            "WARNING:absl:<keras.layers.recurrent.LSTMCell object at 0x7f68c038aad0> has the same name 'LSTMCell' as a built-in Keras object. Consider renaming <class 'keras.layers.recurrent.LSTMCell'> to avoid naming conflicts when loading with `tf.keras.models.load_model`. If renaming is not possible, pass the object in the `custom_objects` parameter of the load function.\n"
          ]
        },
        {
          "output_type": "stream",
          "name": "stdout",
          "text": [
            "\b\b\b\b\b\b\b\b\b\b\b\b\b\b\b\b\b\b\b\b\b\b\b\b\b\b\b\b\b\b\b\b\b\b\b\b\b\b\b\b\b\b\b\b\b\b\b\b\b\b\b\b\b\b\b\b\b\b\b\b\b\b\b\b\b\b\b\b\b\b\b\b\b\b\b\b\b\b\b\b\b\b\b\b\b\b\b\b\b\b\b\b\b\b\b\b\b\b\b\b\b\b\b\b\b\b\r563/563 [==============================] - 6s 11ms/step - loss: 108098.1250 - root_mean_squared_error: 328.7828 - val_loss: 36281.6289 - val_root_mean_squared_error: 190.4774\n",
            "Epoch 6/50\n",
            "563/563 [==============================] - 2s 4ms/step - loss: 60869.4844 - root_mean_squared_error: 246.7174 - val_loss: 37209.8203 - val_root_mean_squared_error: 192.8985\n",
            "Epoch 7/50\n",
            "558/563 [============================>.] - ETA: 0s - loss: 47938.2344 - root_mean_squared_error: 218.9480"
          ]
        },
        {
          "output_type": "stream",
          "name": "stderr",
          "text": [
            "WARNING:absl:Found untraced functions such as lstm_cell_1_layer_call_fn, lstm_cell_1_layer_call_and_return_conditional_losses while saving (showing 2 of 2). These functions will not be directly callable after loading.\n"
          ]
        },
        {
          "output_type": "stream",
          "name": "stdout",
          "text": [
            "INFO:tensorflow:Assets written to: model1/assets\n"
          ]
        },
        {
          "output_type": "stream",
          "name": "stderr",
          "text": [
            "INFO:tensorflow:Assets written to: model1/assets\n",
            "WARNING:absl:<keras.layers.recurrent.LSTMCell object at 0x7f68c038aad0> has the same name 'LSTMCell' as a built-in Keras object. Consider renaming <class 'keras.layers.recurrent.LSTMCell'> to avoid naming conflicts when loading with `tf.keras.models.load_model`. If renaming is not possible, pass the object in the `custom_objects` parameter of the load function.\n"
          ]
        },
        {
          "output_type": "stream",
          "name": "stdout",
          "text": [
            "\b\b\b\b\b\b\b\b\b\b\b\b\b\b\b\b\b\b\b\b\b\b\b\b\b\b\b\b\b\b\b\b\b\b\b\b\b\b\b\b\b\b\b\b\b\b\b\b\b\b\b\b\b\b\b\b\b\b\b\b\b\b\b\b\b\b\b\b\b\b\b\b\b\b\b\b\b\b\b\b\b\b\b\b\b\b\b\b\b\b\b\b\b\b\b\b\b\b\b\b\b\b\b\b\b\r563/563 [==============================] - 6s 11ms/step - loss: 48096.6602 - root_mean_squared_error: 219.3095 - val_loss: 34985.8008 - val_root_mean_squared_error: 187.0449\n",
            "Epoch 8/50\n",
            "560/563 [============================>.] - ETA: 0s - loss: 45779.8750 - root_mean_squared_error: 213.9623"
          ]
        },
        {
          "output_type": "stream",
          "name": "stderr",
          "text": [
            "WARNING:absl:Found untraced functions such as lstm_cell_1_layer_call_fn, lstm_cell_1_layer_call_and_return_conditional_losses while saving (showing 2 of 2). These functions will not be directly callable after loading.\n"
          ]
        },
        {
          "output_type": "stream",
          "name": "stdout",
          "text": [
            "INFO:tensorflow:Assets written to: model1/assets\n"
          ]
        },
        {
          "output_type": "stream",
          "name": "stderr",
          "text": [
            "INFO:tensorflow:Assets written to: model1/assets\n",
            "WARNING:absl:<keras.layers.recurrent.LSTMCell object at 0x7f68c038aad0> has the same name 'LSTMCell' as a built-in Keras object. Consider renaming <class 'keras.layers.recurrent.LSTMCell'> to avoid naming conflicts when loading with `tf.keras.models.load_model`. If renaming is not possible, pass the object in the `custom_objects` parameter of the load function.\n"
          ]
        },
        {
          "output_type": "stream",
          "name": "stdout",
          "text": [
            "\b\b\b\b\b\b\b\b\b\b\b\b\b\b\b\b\b\b\b\b\b\b\b\b\b\b\b\b\b\b\b\b\b\b\b\b\b\b\b\b\b\b\b\b\b\b\b\b\b\b\b\b\b\b\b\b\b\b\b\b\b\b\b\b\b\b\b\b\b\b\b\b\b\b\b\b\b\b\b\b\b\b\b\b\b\b\b\b\b\b\b\b\b\b\b\b\b\b\b\b\b\b\b\b\b\r563/563 [==============================] - 6s 11ms/step - loss: 45755.4570 - root_mean_squared_error: 213.9052 - val_loss: 34798.3555 - val_root_mean_squared_error: 186.5432\n",
            "Epoch 9/50\n",
            "563/563 [==============================] - 3s 6ms/step - loss: 48337.7891 - root_mean_squared_error: 219.8586 - val_loss: 36231.2734 - val_root_mean_squared_error: 190.3451\n",
            "Epoch 10/50\n",
            "563/563 [==============================] - 2s 4ms/step - loss: 45906.2188 - root_mean_squared_error: 214.2574 - val_loss: 35556.4062 - val_root_mean_squared_error: 188.5641\n",
            "Epoch 11/50\n",
            "563/563 [==============================] - 2s 4ms/step - loss: 44710.4453 - root_mean_squared_error: 211.4484 - val_loss: 37639.4883 - val_root_mean_squared_error: 194.0090\n",
            "Epoch 12/50\n",
            "563/563 [==============================] - 2s 4ms/step - loss: 43947.9805 - root_mean_squared_error: 209.6377 - val_loss: 35339.7617 - val_root_mean_squared_error: 187.9887\n",
            "Epoch 13/50\n",
            "563/563 [==============================] - 2s 4ms/step - loss: 44636.4023 - root_mean_squared_error: 211.2733 - val_loss: 36235.6758 - val_root_mean_squared_error: 190.3567\n",
            "Epoch 14/50\n",
            "563/563 [==============================] - 2s 4ms/step - loss: 44564.5195 - root_mean_squared_error: 211.1031 - val_loss: 36949.7109 - val_root_mean_squared_error: 192.2231\n",
            "Epoch 15/50\n",
            "563/563 [==============================] - 2s 4ms/step - loss: 44682.9180 - root_mean_squared_error: 211.3833 - val_loss: 36373.3516 - val_root_mean_squared_error: 190.7180\n",
            "Epoch 16/50\n",
            "563/563 [==============================] - 2s 4ms/step - loss: 44912.9570 - root_mean_squared_error: 211.9268 - val_loss: 36299.2266 - val_root_mean_squared_error: 190.5236\n",
            "Epoch 17/50\n",
            "563/563 [==============================] - 2s 4ms/step - loss: 44283.7891 - root_mean_squared_error: 210.4371 - val_loss: 38046.0273 - val_root_mean_squared_error: 195.0539\n",
            "Epoch 18/50\n",
            "559/563 [============================>.] - ETA: 0s - loss: 43790.9570 - root_mean_squared_error: 209.2629"
          ]
        },
        {
          "output_type": "stream",
          "name": "stderr",
          "text": [
            "WARNING:absl:Found untraced functions such as lstm_cell_1_layer_call_fn, lstm_cell_1_layer_call_and_return_conditional_losses while saving (showing 2 of 2). These functions will not be directly callable after loading.\n"
          ]
        },
        {
          "output_type": "stream",
          "name": "stdout",
          "text": [
            "INFO:tensorflow:Assets written to: model1/assets\n"
          ]
        },
        {
          "output_type": "stream",
          "name": "stderr",
          "text": [
            "INFO:tensorflow:Assets written to: model1/assets\n",
            "WARNING:absl:<keras.layers.recurrent.LSTMCell object at 0x7f68c038aad0> has the same name 'LSTMCell' as a built-in Keras object. Consider renaming <class 'keras.layers.recurrent.LSTMCell'> to avoid naming conflicts when loading with `tf.keras.models.load_model`. If renaming is not possible, pass the object in the `custom_objects` parameter of the load function.\n"
          ]
        },
        {
          "output_type": "stream",
          "name": "stdout",
          "text": [
            "\b\b\b\b\b\b\b\b\b\b\b\b\b\b\b\b\b\b\b\b\b\b\b\b\b\b\b\b\b\b\b\b\b\b\b\b\b\b\b\b\b\b\b\b\b\b\b\b\b\b\b\b\b\b\b\b\b\b\b\b\b\b\b\b\b\b\b\b\b\b\b\b\b\b\b\b\b\b\b\b\b\b\b\b\b\b\b\b\b\b\b\b\b\b\b\b\b\b\b\b\b\b\b\b\b\r563/563 [==============================] - 6s 11ms/step - loss: 43730.5742 - root_mean_squared_error: 209.1186 - val_loss: 34480.8906 - val_root_mean_squared_error: 185.6903\n",
            "Epoch 19/50\n",
            "563/563 [==============================] - 2s 4ms/step - loss: 44332.2188 - root_mean_squared_error: 210.5522 - val_loss: 36013.0977 - val_root_mean_squared_error: 189.7712\n",
            "Epoch 20/50\n",
            "563/563 [==============================] - 2s 4ms/step - loss: 44392.7500 - root_mean_squared_error: 210.6959 - val_loss: 37964.3164 - val_root_mean_squared_error: 194.8443\n",
            "Epoch 21/50\n",
            "563/563 [==============================] - 2s 4ms/step - loss: 45279.1367 - root_mean_squared_error: 212.7889 - val_loss: 40174.1562 - val_root_mean_squared_error: 200.4349\n",
            "Epoch 22/50\n",
            "563/563 [==============================] - 2s 4ms/step - loss: 44753.7891 - root_mean_squared_error: 211.5509 - val_loss: 36661.9062 - val_root_mean_squared_error: 191.4730\n",
            "Epoch 23/50\n",
            "563/563 [==============================] - 2s 4ms/step - loss: 43279.9922 - root_mean_squared_error: 208.0384 - val_loss: 37276.1641 - val_root_mean_squared_error: 193.0704\n",
            "Epoch 24/50\n",
            "555/563 [============================>.] - ETA: 0s - loss: 43845.8477 - root_mean_squared_error: 209.3940"
          ]
        },
        {
          "output_type": "stream",
          "name": "stderr",
          "text": [
            "WARNING:absl:Found untraced functions such as lstm_cell_1_layer_call_fn, lstm_cell_1_layer_call_and_return_conditional_losses while saving (showing 2 of 2). These functions will not be directly callable after loading.\n"
          ]
        },
        {
          "output_type": "stream",
          "name": "stdout",
          "text": [
            "INFO:tensorflow:Assets written to: model1/assets\n"
          ]
        },
        {
          "output_type": "stream",
          "name": "stderr",
          "text": [
            "INFO:tensorflow:Assets written to: model1/assets\n",
            "WARNING:absl:<keras.layers.recurrent.LSTMCell object at 0x7f68c038aad0> has the same name 'LSTMCell' as a built-in Keras object. Consider renaming <class 'keras.layers.recurrent.LSTMCell'> to avoid naming conflicts when loading with `tf.keras.models.load_model`. If renaming is not possible, pass the object in the `custom_objects` parameter of the load function.\n"
          ]
        },
        {
          "output_type": "stream",
          "name": "stdout",
          "text": [
            "\b\b\b\b\b\b\b\b\b\b\b\b\b\b\b\b\b\b\b\b\b\b\b\b\b\b\b\b\b\b\b\b\b\b\b\b\b\b\b\b\b\b\b\b\b\b\b\b\b\b\b\b\b\b\b\b\b\b\b\b\b\b\b\b\b\b\b\b\b\b\b\b\b\b\b\b\b\b\b\b\b\b\b\b\b\b\b\b\b\b\b\b\b\b\b\b\b\b\b\b\b\b\b\b\b\r563/563 [==============================] - 6s 11ms/step - loss: 43783.7773 - root_mean_squared_error: 209.2457 - val_loss: 34336.4805 - val_root_mean_squared_error: 185.3011\n",
            "Epoch 25/50\n",
            "563/563 [==============================] - 2s 4ms/step - loss: 42849.4844 - root_mean_squared_error: 207.0012 - val_loss: 37045.8906 - val_root_mean_squared_error: 192.4731\n",
            "Epoch 26/50\n",
            "563/563 [==============================] - 2s 4ms/step - loss: 43040.6211 - root_mean_squared_error: 207.4623 - val_loss: 38814.9141 - val_root_mean_squared_error: 197.0150\n",
            "Epoch 27/50\n",
            "563/563 [==============================] - 2s 4ms/step - loss: 43519.6836 - root_mean_squared_error: 208.6137 - val_loss: 35529.9727 - val_root_mean_squared_error: 188.4940\n",
            "Epoch 28/50\n",
            "563/563 [==============================] - 2s 4ms/step - loss: 43146.1016 - root_mean_squared_error: 207.7164 - val_loss: 37031.9688 - val_root_mean_squared_error: 192.4369\n",
            "Epoch 29/50\n",
            "563/563 [==============================] - 2s 4ms/step - loss: 44054.9297 - root_mean_squared_error: 209.8927 - val_loss: 36823.1953 - val_root_mean_squared_error: 191.8937\n",
            "Epoch 30/50\n",
            "563/563 [==============================] - 2s 4ms/step - loss: 43349.8594 - root_mean_squared_error: 208.2063 - val_loss: 36681.7109 - val_root_mean_squared_error: 191.5247\n",
            "Epoch 31/50\n",
            "563/563 [==============================] - 2s 4ms/step - loss: 42860.5820 - root_mean_squared_error: 207.0280 - val_loss: 35826.9648 - val_root_mean_squared_error: 189.2801\n",
            "Epoch 32/50\n",
            "563/563 [==============================] - 2s 4ms/step - loss: 42648.9258 - root_mean_squared_error: 206.5162 - val_loss: 36499.0938 - val_root_mean_squared_error: 191.0473\n",
            "Epoch 33/50\n",
            "563/563 [==============================] - 2s 4ms/step - loss: 42522.8320 - root_mean_squared_error: 206.2106 - val_loss: 36792.7188 - val_root_mean_squared_error: 191.8143\n",
            "Epoch 34/50\n",
            "563/563 [==============================] - 2s 4ms/step - loss: 42339.8906 - root_mean_squared_error: 205.7666 - val_loss: 39774.6211 - val_root_mean_squared_error: 199.4358\n",
            "Epoch 35/50\n",
            "563/563 [==============================] - 2s 4ms/step - loss: 43018.8555 - root_mean_squared_error: 207.4099 - val_loss: 35737.9102 - val_root_mean_squared_error: 189.0447\n",
            "Epoch 36/50\n",
            "563/563 [==============================] - 2s 4ms/step - loss: 42313.5000 - root_mean_squared_error: 205.7025 - val_loss: 38298.9570 - val_root_mean_squared_error: 195.7012\n",
            "Epoch 37/50\n",
            "563/563 [==============================] - 2s 4ms/step - loss: 44667.9414 - root_mean_squared_error: 211.3479 - val_loss: 37773.9688 - val_root_mean_squared_error: 194.3553\n",
            "Epoch 38/50\n",
            "563/563 [==============================] - 2s 4ms/step - loss: 43620.6523 - root_mean_squared_error: 208.8556 - val_loss: 37574.1758 - val_root_mean_squared_error: 193.8406\n",
            "Epoch 39/50\n",
            "563/563 [==============================] - 2s 4ms/step - loss: 43906.6250 - root_mean_squared_error: 209.5391 - val_loss: 35881.5859 - val_root_mean_squared_error: 189.4243\n",
            "Epoch 40/50\n",
            "563/563 [==============================] - 2s 4ms/step - loss: 44046.3398 - root_mean_squared_error: 209.8722 - val_loss: 37898.2031 - val_root_mean_squared_error: 194.6746\n",
            "Epoch 41/50\n",
            "563/563 [==============================] - 2s 4ms/step - loss: 42453.6445 - root_mean_squared_error: 206.0428 - val_loss: 36781.3047 - val_root_mean_squared_error: 191.7845\n",
            "Epoch 42/50\n",
            "563/563 [==============================] - 2s 4ms/step - loss: 43905.0391 - root_mean_squared_error: 209.5353 - val_loss: 35447.5781 - val_root_mean_squared_error: 188.2753\n",
            "Epoch 43/50\n",
            "563/563 [==============================] - 2s 4ms/step - loss: 43785.2891 - root_mean_squared_error: 209.2493 - val_loss: 36277.9922 - val_root_mean_squared_error: 190.4678\n",
            "Epoch 44/50\n",
            "563/563 [==============================] - 2s 4ms/step - loss: 42447.3789 - root_mean_squared_error: 206.0276 - val_loss: 37781.8398 - val_root_mean_squared_error: 194.3755\n",
            "Epoch 45/50\n",
            "563/563 [==============================] - 2s 4ms/step - loss: 43013.5430 - root_mean_squared_error: 207.3971 - val_loss: 36025.0859 - val_root_mean_squared_error: 189.8027\n",
            "Epoch 46/50\n",
            "563/563 [==============================] - 2s 4ms/step - loss: 44168.5938 - root_mean_squared_error: 210.1633 - val_loss: 36080.2266 - val_root_mean_squared_error: 189.9480\n",
            "Epoch 47/50\n",
            "563/563 [==============================] - 2s 4ms/step - loss: 43101.9805 - root_mean_squared_error: 207.6102 - val_loss: 46093.0898 - val_root_mean_squared_error: 214.6930\n",
            "Epoch 48/50\n",
            "563/563 [==============================] - 2s 4ms/step - loss: 43212.3867 - root_mean_squared_error: 207.8759 - val_loss: 36088.7109 - val_root_mean_squared_error: 189.9703\n",
            "Epoch 49/50\n",
            "563/563 [==============================] - 2s 4ms/step - loss: 43033.3477 - root_mean_squared_error: 207.4448 - val_loss: 37958.1875 - val_root_mean_squared_error: 194.8286\n",
            "Epoch 50/50\n",
            "563/563 [==============================] - 2s 4ms/step - loss: 45032.8750 - root_mean_squared_error: 212.2095 - val_loss: 42498.4844 - val_root_mean_squared_error: 206.1516\n"
          ]
        },
        {
          "output_type": "execute_result",
          "data": {
            "text/plain": [
              "<keras.callbacks.History at 0x7f6845207150>"
            ]
          },
          "metadata": {},
          "execution_count": 30
        }
      ]
    },
    {
      "cell_type": "code",
      "source": [
        ""
      ],
      "metadata": {
        "id": "uYOMr4Q8Y-xH"
      },
      "execution_count": null,
      "outputs": []
    },
    {
      "cell_type": "code",
      "source": [
        ""
      ],
      "metadata": {
        "id": "gaCoVDVhY-lg"
      },
      "execution_count": null,
      "outputs": []
    },
    {
      "cell_type": "code",
      "source": [
        "from tensorflow.keras.models import load_model\n",
        "model1 = load_model('model1/')"
      ],
      "metadata": {
        "id": "kkQPbt2WwFbV"
      },
      "execution_count": null,
      "outputs": []
    },
    {
      "cell_type": "code",
      "source": [
        "train_predictions = model1.predict(X_train1).flatten()\n",
        "train_results = pd.DataFrame(data={'Train Predictions':train_predictions, 'Actuals':y_train1})\n",
        "train_results"
      ],
      "metadata": {
        "colab": {
          "base_uri": "https://localhost:8080/",
          "height": 424
        },
        "id": "CeDTlejXxGg_",
        "outputId": "ee9ab39b-699c-4ed6-bf8b-4f70dba98ec3"
      },
      "execution_count": null,
      "outputs": [
        {
          "output_type": "execute_result",
          "data": {
            "text/plain": [
              "       Train Predictions      Actuals\n",
              "0            1265.334961  1249.811646\n",
              "1            1222.454346  1136.536621\n",
              "2            1112.531616   966.803345\n",
              "3             927.189575  1091.823364\n",
              "4            1130.577148  1234.765015\n",
              "...                  ...          ...\n",
              "17995        1847.729370  1947.505005\n",
              "17996        1931.778442  1498.800049\n",
              "17997        1427.650391  1777.474976\n",
              "17998        1805.654541  1981.046631\n",
              "17999        1966.837036  1591.479980\n",
              "\n",
              "[18000 rows x 2 columns]"
            ],
            "text/html": [
              "\n",
              "  <div id=\"df-a2950ec7-4861-482f-9ad8-af9c847dc9d4\">\n",
              "    <div class=\"colab-df-container\">\n",
              "      <div>\n",
              "<style scoped>\n",
              "    .dataframe tbody tr th:only-of-type {\n",
              "        vertical-align: middle;\n",
              "    }\n",
              "\n",
              "    .dataframe tbody tr th {\n",
              "        vertical-align: top;\n",
              "    }\n",
              "\n",
              "    .dataframe thead th {\n",
              "        text-align: right;\n",
              "    }\n",
              "</style>\n",
              "<table border=\"1\" class=\"dataframe\">\n",
              "  <thead>\n",
              "    <tr style=\"text-align: right;\">\n",
              "      <th></th>\n",
              "      <th>Train Predictions</th>\n",
              "      <th>Actuals</th>\n",
              "    </tr>\n",
              "  </thead>\n",
              "  <tbody>\n",
              "    <tr>\n",
              "      <th>0</th>\n",
              "      <td>1265.334961</td>\n",
              "      <td>1249.811646</td>\n",
              "    </tr>\n",
              "    <tr>\n",
              "      <th>1</th>\n",
              "      <td>1222.454346</td>\n",
              "      <td>1136.536621</td>\n",
              "    </tr>\n",
              "    <tr>\n",
              "      <th>2</th>\n",
              "      <td>1112.531616</td>\n",
              "      <td>966.803345</td>\n",
              "    </tr>\n",
              "    <tr>\n",
              "      <th>3</th>\n",
              "      <td>927.189575</td>\n",
              "      <td>1091.823364</td>\n",
              "    </tr>\n",
              "    <tr>\n",
              "      <th>4</th>\n",
              "      <td>1130.577148</td>\n",
              "      <td>1234.765015</td>\n",
              "    </tr>\n",
              "    <tr>\n",
              "      <th>...</th>\n",
              "      <td>...</td>\n",
              "      <td>...</td>\n",
              "    </tr>\n",
              "    <tr>\n",
              "      <th>17995</th>\n",
              "      <td>1847.729370</td>\n",
              "      <td>1947.505005</td>\n",
              "    </tr>\n",
              "    <tr>\n",
              "      <th>17996</th>\n",
              "      <td>1931.778442</td>\n",
              "      <td>1498.800049</td>\n",
              "    </tr>\n",
              "    <tr>\n",
              "      <th>17997</th>\n",
              "      <td>1427.650391</td>\n",
              "      <td>1777.474976</td>\n",
              "    </tr>\n",
              "    <tr>\n",
              "      <th>17998</th>\n",
              "      <td>1805.654541</td>\n",
              "      <td>1981.046631</td>\n",
              "    </tr>\n",
              "    <tr>\n",
              "      <th>17999</th>\n",
              "      <td>1966.837036</td>\n",
              "      <td>1591.479980</td>\n",
              "    </tr>\n",
              "  </tbody>\n",
              "</table>\n",
              "<p>18000 rows × 2 columns</p>\n",
              "</div>\n",
              "      <button class=\"colab-df-convert\" onclick=\"convertToInteractive('df-a2950ec7-4861-482f-9ad8-af9c847dc9d4')\"\n",
              "              title=\"Convert this dataframe to an interactive table.\"\n",
              "              style=\"display:none;\">\n",
              "        \n",
              "  <svg xmlns=\"http://www.w3.org/2000/svg\" height=\"24px\"viewBox=\"0 0 24 24\"\n",
              "       width=\"24px\">\n",
              "    <path d=\"M0 0h24v24H0V0z\" fill=\"none\"/>\n",
              "    <path d=\"M18.56 5.44l.94 2.06.94-2.06 2.06-.94-2.06-.94-.94-2.06-.94 2.06-2.06.94zm-11 1L8.5 8.5l.94-2.06 2.06-.94-2.06-.94L8.5 2.5l-.94 2.06-2.06.94zm10 10l.94 2.06.94-2.06 2.06-.94-2.06-.94-.94-2.06-.94 2.06-2.06.94z\"/><path d=\"M17.41 7.96l-1.37-1.37c-.4-.4-.92-.59-1.43-.59-.52 0-1.04.2-1.43.59L10.3 9.45l-7.72 7.72c-.78.78-.78 2.05 0 2.83L4 21.41c.39.39.9.59 1.41.59.51 0 1.02-.2 1.41-.59l7.78-7.78 2.81-2.81c.8-.78.8-2.07 0-2.86zM5.41 20L4 18.59l7.72-7.72 1.47 1.35L5.41 20z\"/>\n",
              "  </svg>\n",
              "      </button>\n",
              "      \n",
              "  <style>\n",
              "    .colab-df-container {\n",
              "      display:flex;\n",
              "      flex-wrap:wrap;\n",
              "      gap: 12px;\n",
              "    }\n",
              "\n",
              "    .colab-df-convert {\n",
              "      background-color: #E8F0FE;\n",
              "      border: none;\n",
              "      border-radius: 50%;\n",
              "      cursor: pointer;\n",
              "      display: none;\n",
              "      fill: #1967D2;\n",
              "      height: 32px;\n",
              "      padding: 0 0 0 0;\n",
              "      width: 32px;\n",
              "    }\n",
              "\n",
              "    .colab-df-convert:hover {\n",
              "      background-color: #E2EBFA;\n",
              "      box-shadow: 0px 1px 2px rgba(60, 64, 67, 0.3), 0px 1px 3px 1px rgba(60, 64, 67, 0.15);\n",
              "      fill: #174EA6;\n",
              "    }\n",
              "\n",
              "    [theme=dark] .colab-df-convert {\n",
              "      background-color: #3B4455;\n",
              "      fill: #D2E3FC;\n",
              "    }\n",
              "\n",
              "    [theme=dark] .colab-df-convert:hover {\n",
              "      background-color: #434B5C;\n",
              "      box-shadow: 0px 1px 3px 1px rgba(0, 0, 0, 0.15);\n",
              "      filter: drop-shadow(0px 1px 2px rgba(0, 0, 0, 0.3));\n",
              "      fill: #FFFFFF;\n",
              "    }\n",
              "  </style>\n",
              "\n",
              "      <script>\n",
              "        const buttonEl =\n",
              "          document.querySelector('#df-a2950ec7-4861-482f-9ad8-af9c847dc9d4 button.colab-df-convert');\n",
              "        buttonEl.style.display =\n",
              "          google.colab.kernel.accessAllowed ? 'block' : 'none';\n",
              "\n",
              "        async function convertToInteractive(key) {\n",
              "          const element = document.querySelector('#df-a2950ec7-4861-482f-9ad8-af9c847dc9d4');\n",
              "          const dataTable =\n",
              "            await google.colab.kernel.invokeFunction('convertToInteractive',\n",
              "                                                     [key], {});\n",
              "          if (!dataTable) return;\n",
              "\n",
              "          const docLinkHtml = 'Like what you see? Visit the ' +\n",
              "            '<a target=\"_blank\" href=https://colab.research.google.com/notebooks/data_table.ipynb>data table notebook</a>'\n",
              "            + ' to learn more about interactive tables.';\n",
              "          element.innerHTML = '';\n",
              "          dataTable['output_type'] = 'display_data';\n",
              "          await google.colab.output.renderOutput(dataTable, element);\n",
              "          const docLink = document.createElement('div');\n",
              "          docLink.innerHTML = docLinkHtml;\n",
              "          element.appendChild(docLink);\n",
              "        }\n",
              "      </script>\n",
              "    </div>\n",
              "  </div>\n",
              "  "
            ]
          },
          "metadata": {},
          "execution_count": 32
        }
      ]
    },
    {
      "cell_type": "code",
      "source": [
        "import matplotlib.pyplot as plt\n",
        "plt.plot(train_results['Train Predictions'][:100])\n",
        "plt.plot(train_results['Actuals'][:100])\n",
        "plt.figsize=(12,24)\n"
      ],
      "metadata": {
        "id": "wWE3TV65xKBn",
        "colab": {
          "base_uri": "https://localhost:8080/",
          "height": 265
        },
        "outputId": "589953f2-d520-4594-ae64-91720638a022"
      },
      "execution_count": null,
      "outputs": [
        {
          "output_type": "display_data",
          "data": {
            "text/plain": [
              "<Figure size 432x288 with 1 Axes>"
            ],
            "image/png": "[encoded data removed]"
          },
          "metadata": {
            "needs_background": "light"
          }
        }
      ]
    },
    {
      "cell_type": "code",
      "source": [
        "from sklearn.metrics import mean_squared_error as mse\n",
        "\n",
        "def plot_predictions1(model, X, y, start=0, end=100):\n",
        "  predictions = model.predict(X).flatten()\n",
        "  df = pd.DataFrame(data={'Predictions':predictions, 'Actuals':y})\n",
        "  plt.plot(df['Predictions'][start:end])\n",
        "  plt.plot(df['Actuals'][start:end])\n",
        "  return df, mse(y, predictions)"
      ],
      "metadata": {
        "id": "ukkMEWMLHnJN"
      },
      "execution_count": null,
      "outputs": []
    },
    {
      "cell_type": "code",
      "source": [
        "plot_predictions1(model1, X_test1, y_test1)"
      ],
      "metadata": {
        "colab": {
          "base_uri": "https://localhost:8080/",
          "height": 519
        },
        "id": "OM2iAUZaHo9F",
        "outputId": "cd218bcb-7943-4f9b-e7da-bad339d95233"
      },
      "execution_count": null,
      "outputs": [
        {
          "output_type": "execute_result",
          "data": {
            "text/plain": [
              "(        Predictions      Actuals\n",
              " 0       1507.796143  1291.194946\n",
              " 1       1252.584106   538.618347\n",
              " 2        522.453735   427.054993\n",
              " 3        420.216003   553.721680\n",
              " 4        597.137451   313.158325\n",
              " ...             ...          ...\n",
              " 116720  2506.795166  2757.728271\n",
              " 116721  2506.371826  2758.323242\n",
              " 116722  2506.654053  2759.243408\n",
              " 116723  2507.030762  2761.261719\n",
              " 116724  2507.862549  2758.593262\n",
              " \n",
              " [116725 rows x 2 columns], 47359.50630692494)"
            ]
          },
          "metadata": {},
          "execution_count": 35
        },
        {
          "output_type": "display_data",
          "data": {
            "text/plain": [
              "<Figure size 432x288 with 1 Axes>"
            ],
            "image/png": "[encoded data removed]"
          },
          "metadata": {
            "needs_background": "light"
          }
        }
      ]
    },
    {
      "cell_type": "code",
      "source": [
        "model2 = Sequential()\n",
        "model2.add(InputLayer((5, 1)))\n",
        "model2.add(Conv1D(64, kernel_size=2))\n",
        "model2.add(Flatten())\n",
        "model2.add(Dense(8, 'relu'))\n",
        "model2.add(Dense(1, 'linear'))\n",
        "\n",
        "model2.summary()"
      ],
      "metadata": {
        "colab": {
          "base_uri": "https://localhost:8080/"
        },
        "id": "zROiy1r1HsfW",
        "outputId": "17dcfd5b-674a-41f5-ffbb-40ab880360d8"
      },
      "execution_count": null,
      "outputs": [
        {
          "output_type": "stream",
          "name": "stdout",
          "text": [
            "Model: \"sequential_2\"\n",
            "_________________________________________________________________\n",
            " Layer (type)                Output Shape              Param #   \n",
            "=================================================================\n",
            " conv1d (Conv1D)             (None, 4, 64)             192       \n",
            "                                                                 \n",
            " flatten (Flatten)           (None, 256)               0         \n",
            "                                                                 \n",
            " dense_4 (Dense)             (None, 8)                 2056      \n",
            "                                                                 \n",
            " dense_5 (Dense)             (None, 1)                 9         \n",
            "                                                                 \n",
            "=================================================================\n",
            "Total params: 2,257\n",
            "Trainable params: 2,257\n",
            "Non-trainable params: 0\n",
            "_________________________________________________________________\n"
          ]
        }
      ]
    },
    {
      "cell_type": "code",
      "source": [
        "model2 = Sequential()\n",
        "model2.add(InputLayer((5, 1)))\n",
        "model2.add(Conv1D(64, kernel_size=2))\n",
        "model2.add(Flatten())\n",
        "model2.add(Dense(8, 'relu'))\n",
        "model2.add(Dense(1, 'linear'))\n",
        "\n",
        "model2.summary()"
      ],
      "metadata": {
        "colab": {
          "base_uri": "https://localhost:8080/"
        },
        "id": "JI9RWrSIH8x5",
        "outputId": "f465449e-74b9-4e40-bae1-2a371b0a1b4f"
      },
      "execution_count": null,
      "outputs": [
        {
          "output_type": "stream",
          "name": "stdout",
          "text": [
            "Model: \"sequential_3\"\n",
            "_________________________________________________________________\n",
            " Layer (type)                Output Shape              Param #   \n",
            "=================================================================\n",
            " conv1d_1 (Conv1D)           (None, 4, 64)             192       \n",
            "                                                                 \n",
            " flatten_1 (Flatten)         (None, 256)               0         \n",
            "                                                                 \n",
            " dense_6 (Dense)             (None, 8)                 2056      \n",
            "                                                                 \n",
            " dense_7 (Dense)             (None, 1)                 9         \n",
            "                                                                 \n",
            "=================================================================\n",
            "Total params: 2,257\n",
            "Trainable params: 2,257\n",
            "Non-trainable params: 0\n",
            "_________________________________________________________________\n"
          ]
        }
      ]
    },
    {
      "cell_type": "code",
      "source": [
        ""
      ],
      "metadata": {
        "id": "4bKGm-M2IfkV"
      },
      "execution_count": null,
      "outputs": []
    },
    {
      "cell_type": "code",
      "metadata": {
        "id": "YoGw3DQeeTES"
      },
      "source": [
        "cp2 = ModelCheckpoint('model2/', save_best_only=True)\n",
        "model2.compile(loss=MeanSquaredError(), optimizer=Adam(learning_rate=0.001), metrics=[RootMeanSquaredError()])"
      ],
      "execution_count": null,
      "outputs": []
    },
    {
      "cell_type": "code",
      "metadata": {
        "colab": {
          "base_uri": "https://localhost:8080/"
        },
        "id": "fUe56iajetZe",
        "outputId": "8ceeb885-a696-47d2-ebb2-fc3e9a30f9f9"
      },
      "source": [
        "model2.fit(X_train1, y_train1, validation_data=(X_val1, y_val1), epochs=50, callbacks=[cp2])"
      ],
      "execution_count": null,
      "outputs": [
        {
          "output_type": "stream",
          "name": "stdout",
          "text": [
            "Epoch 1/50\n",
            "563/563 [==============================] - ETA: 0s - loss: 69899.0078 - root_mean_squared_error: 264.3842INFO:tensorflow:Assets written to: model2/assets\n"
          ]
        },
        {
          "output_type": "stream",
          "name": "stderr",
          "text": [
            "INFO:tensorflow:Assets written to: model2/assets\n"
          ]
        },
        {
          "output_type": "stream",
          "name": "stdout",
          "text": [
            "\b\b\b\b\b\b\b\b\b\b\b\b\b\b\b\b\b\b\b\b\b\b\b\b\b\b\b\b\b\b\b\b\b\b\b\b\b\b\b\b\b\b\b\b\b\b\b\b\b\b\b\b\b\b\b\b\b\b\b\b\b\b\b\b\b\b\b\b\b\b\b\b\b\b\b\b\b\b\b\b\b\b\b\b\b\b\b\b\b\b\b\b\b\b\b\b\b\b\b\b\b\b\b\b\b\r563/563 [==============================] - 9s 4ms/step - loss: 69899.0078 - root_mean_squared_error: 264.3842 - val_loss: 35619.9805 - val_root_mean_squared_error: 188.7326\n",
            "Epoch 2/50\n",
            "563/563 [==============================] - 2s 3ms/step - loss: 41447.8984 - root_mean_squared_error: 203.5876 - val_loss: 36286.7422 - val_root_mean_squared_error: 190.4908\n",
            "Epoch 3/50\n",
            "558/563 [============================>.] - ETA: 0s - loss: 42082.7070 - root_mean_squared_error: 205.1407INFO:tensorflow:Assets written to: model2/assets\n"
          ]
        },
        {
          "output_type": "stream",
          "name": "stderr",
          "text": [
            "INFO:tensorflow:Assets written to: model2/assets\n"
          ]
        },
        {
          "output_type": "stream",
          "name": "stdout",
          "text": [
            "\b\b\b\b\b\b\b\b\b\b\b\b\b\b\b\b\b\b\b\b\b\b\b\b\b\b\b\b\b\b\b\b\b\b\b\b\b\b\b\b\b\b\b\b\b\b\b\b\b\b\b\b\b\b\b\b\b\b\b\b\b\b\b\b\b\b\b\b\b\b\b\b\b\b\b\b\b\b\b\b\b\b\b\b\b\b\b\b\b\b\b\b\b\b\b\b\b\b\b\b\b\b\b\b\b\r563/563 [==============================] - 2s 4ms/step - loss: 42015.7031 - root_mean_squared_error: 204.9773 - val_loss: 34855.3203 - val_root_mean_squared_error: 186.6958\n",
            "Epoch 4/50\n",
            "563/563 [==============================] - 2s 3ms/step - loss: 42003.4258 - root_mean_squared_error: 204.9474 - val_loss: 34884.2344 - val_root_mean_squared_error: 186.7732\n",
            "Epoch 5/50\n",
            "563/563 [==============================] - 2s 3ms/step - loss: 41245.7734 - root_mean_squared_error: 203.0906 - val_loss: 36237.8281 - val_root_mean_squared_error: 190.3624\n",
            "Epoch 6/50\n",
            "563/563 [==============================] - 2s 3ms/step - loss: 41398.6758 - root_mean_squared_error: 203.4666 - val_loss: 36078.7891 - val_root_mean_squared_error: 189.9442\n",
            "Epoch 7/50\n",
            "549/563 [============================>.] - ETA: 0s - loss: 41184.5430 - root_mean_squared_error: 202.9397INFO:tensorflow:Assets written to: model2/assets\n"
          ]
        },
        {
          "output_type": "stream",
          "name": "stderr",
          "text": [
            "INFO:tensorflow:Assets written to: model2/assets\n"
          ]
        },
        {
          "output_type": "stream",
          "name": "stdout",
          "text": [
            "\b\b\b\b\b\b\b\b\b\b\b\b\b\b\b\b\b\b\b\b\b\b\b\b\b\b\b\b\b\b\b\b\b\b\b\b\b\b\b\b\b\b\b\b\b\b\b\b\b\b\b\b\b\b\b\b\b\b\b\b\b\b\b\b\b\b\b\b\b\b\b\b\b\b\b\b\b\b\b\b\b\b\b\b\b\b\b\b\b\b\b\b\b\b\b\b\b\b\b\b\b\b\b\b\b\r563/563 [==============================] - 2s 4ms/step - loss: 41133.5664 - root_mean_squared_error: 202.8141 - val_loss: 34180.6719 - val_root_mean_squared_error: 184.8802\n",
            "Epoch 8/50\n",
            "563/563 [==============================] - 2s 3ms/step - loss: 40827.7656 - root_mean_squared_error: 202.0588 - val_loss: 34963.1758 - val_root_mean_squared_error: 186.9844\n",
            "Epoch 9/50\n",
            "563/563 [==============================] - 2s 3ms/step - loss: 40601.8945 - root_mean_squared_error: 201.4991 - val_loss: 34680.5156 - val_root_mean_squared_error: 186.2271\n",
            "Epoch 10/50\n",
            "563/563 [==============================] - 2s 3ms/step - loss: 40880.2695 - root_mean_squared_error: 202.1887 - val_loss: 35097.4219 - val_root_mean_squared_error: 187.3431\n",
            "Epoch 11/50\n",
            "553/563 [============================>.] - ETA: 0s - loss: 40343.9883 - root_mean_squared_error: 200.8581INFO:tensorflow:Assets written to: model2/assets\n"
          ]
        },
        {
          "output_type": "stream",
          "name": "stderr",
          "text": [
            "INFO:tensorflow:Assets written to: model2/assets\n"
          ]
        },
        {
          "output_type": "stream",
          "name": "stdout",
          "text": [
            "\b\b\b\b\b\b\b\b\b\b\b\b\b\b\b\b\b\b\b\b\b\b\b\b\b\b\b\b\b\b\b\b\b\b\b\b\b\b\b\b\b\b\b\b\b\b\b\b\b\b\b\b\b\b\b\b\b\b\b\b\b\b\b\b\b\b\b\b\b\b\b\b\b\b\b\b\b\b\b\b\b\b\b\b\b\b\b\b\b\b\b\b\b\b\b\b\b\b\b\b\b\b\b\b\b\r563/563 [==============================] - 2s 4ms/step - loss: 40149.2969 - root_mean_squared_error: 200.3729 - val_loss: 34026.2148 - val_root_mean_squared_error: 184.4620\n",
            "Epoch 12/50\n",
            "563/563 [==============================] - 2s 3ms/step - loss: 40648.1367 - root_mean_squared_error: 201.6138 - val_loss: 34242.7891 - val_root_mean_squared_error: 185.0481\n",
            "Epoch 13/50\n",
            "563/563 [==============================] - 2s 3ms/step - loss: 40198.0664 - root_mean_squared_error: 200.4946 - val_loss: 34433.9805 - val_root_mean_squared_error: 185.5639\n",
            "Epoch 14/50\n",
            "563/563 [==============================] - 2s 3ms/step - loss: 40555.5078 - root_mean_squared_error: 201.3840 - val_loss: 34435.4570 - val_root_mean_squared_error: 185.5679\n",
            "Epoch 15/50\n",
            "554/563 [============================>.] - ETA: 0s - loss: 39889.7969 - root_mean_squared_error: 199.7243INFO:tensorflow:Assets written to: model2/assets\n"
          ]
        },
        {
          "output_type": "stream",
          "name": "stderr",
          "text": [
            "INFO:tensorflow:Assets written to: model2/assets\n"
          ]
        },
        {
          "output_type": "stream",
          "name": "stdout",
          "text": [
            "\b\b\b\b\b\b\b\b\b\b\b\b\b\b\b\b\b\b\b\b\b\b\b\b\b\b\b\b\b\b\b\b\b\b\b\b\b\b\b\b\b\b\b\b\b\b\b\b\b\b\b\b\b\b\b\b\b\b\b\b\b\b\b\b\b\b\b\b\b\b\b\b\b\b\b\b\b\b\b\b\b\b\b\b\b\b\b\b\b\b\b\b\b\b\b\b\b\b\b\b\b\b\b\b\b\r563/563 [==============================] - 2s 4ms/step - loss: 40138.3320 - root_mean_squared_error: 200.3455 - val_loss: 33906.2578 - val_root_mean_squared_error: 184.1365\n",
            "Epoch 16/50\n",
            "563/563 [==============================] - 2s 3ms/step - loss: 40154.8398 - root_mean_squared_error: 200.3867 - val_loss: 36362.2227 - val_root_mean_squared_error: 190.6888\n",
            "Epoch 17/50\n",
            "559/563 [============================>.] - ETA: 0s - loss: 39633.4414 - root_mean_squared_error: 199.0815INFO:tensorflow:Assets written to: model2/assets\n"
          ]
        },
        {
          "output_type": "stream",
          "name": "stderr",
          "text": [
            "INFO:tensorflow:Assets written to: model2/assets\n"
          ]
        },
        {
          "output_type": "stream",
          "name": "stdout",
          "text": [
            "\b\b\b\b\b\b\b\b\b\b\b\b\b\b\b\b\b\b\b\b\b\b\b\b\b\b\b\b\b\b\b\b\b\b\b\b\b\b\b\b\b\b\b\b\b\b\b\b\b\b\b\b\b\b\b\b\b\b\b\b\b\b\b\b\b\b\b\b\b\b\b\b\b\b\b\b\b\b\b\b\b\b\b\b\b\b\b\b\b\b\b\b\b\b\b\b\b\b\b\b\b\b\b\b\b\r563/563 [==============================] - 2s 4ms/step - loss: 39718.6562 - root_mean_squared_error: 199.2954 - val_loss: 33768.2617 - val_root_mean_squared_error: 183.7614\n",
            "Epoch 18/50\n",
            "563/563 [==============================] - 2s 3ms/step - loss: 39699.2227 - root_mean_squared_error: 199.2466 - val_loss: 33885.8438 - val_root_mean_squared_error: 184.0811\n",
            "Epoch 19/50\n",
            "563/563 [==============================] - 2s 3ms/step - loss: 39797.8047 - root_mean_squared_error: 199.4939 - val_loss: 35957.5625 - val_root_mean_squared_error: 189.6248\n",
            "Epoch 20/50\n",
            "563/563 [==============================] - 2s 3ms/step - loss: 39701.6055 - root_mean_squared_error: 199.2526 - val_loss: 34501.9883 - val_root_mean_squared_error: 185.7471\n",
            "Epoch 21/50\n",
            "563/563 [==============================] - 2s 3ms/step - loss: 39688.9883 - root_mean_squared_error: 199.2209 - val_loss: 35198.9961 - val_root_mean_squared_error: 187.6140\n",
            "Epoch 22/50\n",
            "563/563 [==============================] - 2s 3ms/step - loss: 39614.9883 - root_mean_squared_error: 199.0351 - val_loss: 35094.1523 - val_root_mean_squared_error: 187.3343\n",
            "Epoch 23/50\n",
            "563/563 [==============================] - 2s 3ms/step - loss: 39642.2773 - root_mean_squared_error: 199.1037 - val_loss: 35396.0938 - val_root_mean_squared_error: 188.1385\n",
            "Epoch 24/50\n",
            "563/563 [==============================] - 2s 3ms/step - loss: 39787.0703 - root_mean_squared_error: 199.4670 - val_loss: 34836.2266 - val_root_mean_squared_error: 186.6447\n",
            "Epoch 25/50\n",
            "563/563 [==============================] - 2s 3ms/step - loss: 39771.5742 - root_mean_squared_error: 199.4281 - val_loss: 33815.6406 - val_root_mean_squared_error: 183.8903\n",
            "Epoch 26/50\n",
            "548/563 [============================>.] - ETA: 0s - loss: 39658.0273 - root_mean_squared_error: 199.1432INFO:tensorflow:Assets written to: model2/assets\n"
          ]
        },
        {
          "output_type": "stream",
          "name": "stderr",
          "text": [
            "INFO:tensorflow:Assets written to: model2/assets\n"
          ]
        },
        {
          "output_type": "stream",
          "name": "stdout",
          "text": [
            "\b\b\b\b\b\b\b\b\b\b\b\b\b\b\b\b\b\b\b\b\b\b\b\b\b\b\b\b\b\b\b\b\b\b\b\b\b\b\b\b\b\b\b\b\b\b\b\b\b\b\b\b\b\b\b\b\b\b\b\b\b\b\b\b\b\b\b\b\b\b\b\b\b\b\b\b\b\b\b\b\b\b\b\b\b\b\b\b\b\b\b\b\b\b\b\b\b\b\b\b\b\b\b\b\b\r563/563 [==============================] - 2s 4ms/step - loss: 39783.6055 - root_mean_squared_error: 199.4583 - val_loss: 33652.9531 - val_root_mean_squared_error: 183.4474\n",
            "Epoch 27/50\n",
            "563/563 [==============================] - 2s 3ms/step - loss: 39529.6445 - root_mean_squared_error: 198.8206 - val_loss: 34127.8203 - val_root_mean_squared_error: 184.7372\n",
            "Epoch 28/50\n",
            "563/563 [==============================] - 2s 3ms/step - loss: 39579.1172 - root_mean_squared_error: 198.9450 - val_loss: 34952.0586 - val_root_mean_squared_error: 186.9547\n",
            "Epoch 29/50\n",
            "563/563 [==============================] - 2s 3ms/step - loss: 39854.5273 - root_mean_squared_error: 199.6360 - val_loss: 34164.4336 - val_root_mean_squared_error: 184.8362\n",
            "Epoch 30/50\n",
            "563/563 [==============================] - 2s 3ms/step - loss: 39746.4180 - root_mean_squared_error: 199.3650 - val_loss: 34593.7891 - val_root_mean_squared_error: 185.9940\n",
            "Epoch 31/50\n",
            "563/563 [==============================] - 2s 3ms/step - loss: 39799.6641 - root_mean_squared_error: 199.4985 - val_loss: 35247.5469 - val_root_mean_squared_error: 187.7433\n",
            "Epoch 32/50\n",
            "563/563 [==============================] - 2s 3ms/step - loss: 39335.0938 - root_mean_squared_error: 198.3308 - val_loss: 33760.5703 - val_root_mean_squared_error: 183.7405\n",
            "Epoch 33/50\n",
            "563/563 [==============================] - 2s 3ms/step - loss: 39456.2695 - root_mean_squared_error: 198.6360 - val_loss: 34425.6992 - val_root_mean_squared_error: 185.5416\n",
            "Epoch 34/50\n",
            "563/563 [==============================] - 2s 3ms/step - loss: 39652.3516 - root_mean_squared_error: 199.1290 - val_loss: 33714.3438 - val_root_mean_squared_error: 183.6147\n",
            "Epoch 35/50\n",
            "563/563 [==============================] - 2s 3ms/step - loss: 39401.3320 - root_mean_squared_error: 198.4977 - val_loss: 34117.6484 - val_root_mean_squared_error: 184.7096\n",
            "Epoch 36/50\n",
            "563/563 [==============================] - 2s 3ms/step - loss: 39526.7773 - root_mean_squared_error: 198.8134 - val_loss: 36062.6055 - val_root_mean_squared_error: 189.9016\n",
            "Epoch 37/50\n",
            "563/563 [==============================] - 2s 3ms/step - loss: 39356.9062 - root_mean_squared_error: 198.3858 - val_loss: 35038.5898 - val_root_mean_squared_error: 187.1860\n",
            "Epoch 38/50\n",
            "563/563 [==============================] - 2s 3ms/step - loss: 39301.4062 - root_mean_squared_error: 198.2458 - val_loss: 34192.5781 - val_root_mean_squared_error: 184.9124\n",
            "Epoch 39/50\n",
            "563/563 [==============================] - 2s 3ms/step - loss: 39313.4453 - root_mean_squared_error: 198.2762 - val_loss: 34088.7109 - val_root_mean_squared_error: 184.6313\n",
            "Epoch 40/50\n",
            "563/563 [==============================] - 2s 3ms/step - loss: 39485.7305 - root_mean_squared_error: 198.7102 - val_loss: 35412.7891 - val_root_mean_squared_error: 188.1829\n",
            "Epoch 41/50\n",
            "563/563 [==============================] - 2s 3ms/step - loss: 39466.1406 - root_mean_squared_error: 198.6609 - val_loss: 33854.1172 - val_root_mean_squared_error: 183.9949\n",
            "Epoch 42/50\n",
            "563/563 [==============================] - 2s 3ms/step - loss: 39363.8398 - root_mean_squared_error: 198.4032 - val_loss: 34004.9219 - val_root_mean_squared_error: 184.4042\n",
            "Epoch 43/50\n",
            "563/563 [==============================] - 2s 3ms/step - loss: 39419.9102 - root_mean_squared_error: 198.5445 - val_loss: 34077.0586 - val_root_mean_squared_error: 184.5997\n",
            "Epoch 44/50\n",
            "563/563 [==============================] - 2s 3ms/step - loss: 39463.0312 - root_mean_squared_error: 198.6530 - val_loss: 34834.2266 - val_root_mean_squared_error: 186.6393\n",
            "Epoch 45/50\n",
            "563/563 [==============================] - 2s 3ms/step - loss: 39349.7266 - root_mean_squared_error: 198.3677 - val_loss: 35345.6875 - val_root_mean_squared_error: 188.0045\n",
            "Epoch 46/50\n",
            "548/563 [============================>.] - ETA: 0s - loss: 39489.6055 - root_mean_squared_error: 198.7199INFO:tensorflow:Assets written to: model2/assets\n"
          ]
        },
        {
          "output_type": "stream",
          "name": "stderr",
          "text": [
            "INFO:tensorflow:Assets written to: model2/assets\n"
          ]
        },
        {
          "output_type": "stream",
          "name": "stdout",
          "text": [
            "\b\b\b\b\b\b\b\b\b\b\b\b\b\b\b\b\b\b\b\b\b\b\b\b\b\b\b\b\b\b\b\b\b\b\b\b\b\b\b\b\b\b\b\b\b\b\b\b\b\b\b\b\b\b\b\b\b\b\b\b\b\b\b\b\b\b\b\b\b\b\b\b\b\b\b\b\b\b\b\b\b\b\b\b\b\b\b\b\b\b\b\b\b\b\b\b\b\b\b\b\b\b\b\b\b\r563/563 [==============================] - 2s 4ms/step - loss: 39360.0820 - root_mean_squared_error: 198.3938 - val_loss: 33509.8906 - val_root_mean_squared_error: 183.0571\n",
            "Epoch 47/50\n",
            "563/563 [==============================] - 2s 3ms/step - loss: 39383.0430 - root_mean_squared_error: 198.4516 - val_loss: 33862.1836 - val_root_mean_squared_error: 184.0168\n",
            "Epoch 48/50\n",
            "563/563 [==============================] - 2s 3ms/step - loss: 39299.6719 - root_mean_squared_error: 198.2415 - val_loss: 34780.2383 - val_root_mean_squared_error: 186.4946\n",
            "Epoch 49/50\n",
            "563/563 [==============================] - 2s 3ms/step - loss: 39210.7891 - root_mean_squared_error: 198.0172 - val_loss: 34478.6016 - val_root_mean_squared_error: 185.6841\n",
            "Epoch 50/50\n",
            "563/563 [==============================] - 2s 3ms/step - loss: 39298.8945 - root_mean_squared_error: 198.2395 - val_loss: 33945.5078 - val_root_mean_squared_error: 184.2431\n"
          ]
        },
        {
          "output_type": "execute_result",
          "data": {
            "text/plain": [
              "<keras.callbacks.History at 0x7f6852e14fd0>"
            ]
          },
          "metadata": {},
          "execution_count": 39
        }
      ]
    },
    {
      "cell_type": "code",
      "source": [
        "model3 = Sequential()\n",
        "model3.add(InputLayer((5, 1)))\n",
        "model3.add(GRU(64))\n",
        "model3.add(Dense(8, 'relu'))\n",
        "model3.add(Dense(1, 'linear'))\n",
        "model3.summary()"
      ],
      "metadata": {
        "colab": {
          "base_uri": "https://localhost:8080/"
        },
        "id": "I19SWg0iIstW",
        "outputId": "25182f7a-9bbd-458b-93ef-fb236da98065"
      },
      "execution_count": null,
      "outputs": [
        {
          "output_type": "stream",
          "name": "stdout",
          "text": [
            "Model: \"sequential_4\"\n",
            "_________________________________________________________________\n",
            " Layer (type)                Output Shape              Param #   \n",
            "=================================================================\n",
            " gru (GRU)                   (None, 64)                12864     \n",
            "                                                                 \n",
            " dense_8 (Dense)             (None, 8)                 520       \n",
            "                                                                 \n",
            " dense_9 (Dense)             (None, 1)                 9         \n",
            "                                                                 \n",
            "=================================================================\n",
            "Total params: 13,393\n",
            "Trainable params: 13,393\n",
            "Non-trainable params: 0\n",
            "_________________________________________________________________\n"
          ]
        }
      ]
    },
    {
      "cell_type": "code",
      "source": [
        "cp3 = ModelCheckpoint('model3/', save_best_only=True)\n",
        "model3.compile(loss=MeanSquaredError(), optimizer=Adam(learning_rate=0.0001), metrics=[RootMeanSquaredError()])"
      ],
      "metadata": {
        "id": "bu7iAe5dJfSs"
      },
      "execution_count": null,
      "outputs": []
    },
    {
      "cell_type": "code",
      "source": [
        "model3.fit(X_train1, y_train1, validation_data=(X_val1, y_val1), epochs=50, callbacks=[cp3])"
      ],
      "metadata": {
        "colab": {
          "base_uri": "https://localhost:8080/"
        },
        "id": "MYln6yZmJhyh",
        "outputId": "f5feb2fc-1614-4b72-cda1-94228d9414c8"
      },
      "execution_count": null,
      "outputs": [
        {
          "output_type": "stream",
          "name": "stdout",
          "text": [
            "Epoch 1/50\n",
            "551/563 [============================>.] - ETA: 0s - loss: 2517524.0000 - root_mean_squared_error: 1586.6708"
          ]
        },
        {
          "output_type": "stream",
          "name": "stderr",
          "text": [
            "WARNING:absl:Found untraced functions such as gru_cell_layer_call_fn, gru_cell_layer_call_and_return_conditional_losses while saving (showing 2 of 2). These functions will not be directly callable after loading.\n"
          ]
        },
        {
          "output_type": "stream",
          "name": "stdout",
          "text": [
            "INFO:tensorflow:Assets written to: model3/assets\n"
          ]
        },
        {
          "output_type": "stream",
          "name": "stderr",
          "text": [
            "INFO:tensorflow:Assets written to: model3/assets\n",
            "WARNING:absl:<keras.layers.recurrent.GRUCell object at 0x7f6855fd5bd0> has the same name 'GRUCell' as a built-in Keras object. Consider renaming <class 'keras.layers.recurrent.GRUCell'> to avoid naming conflicts when loading with `tf.keras.models.load_model`. If renaming is not possible, pass the object in the `custom_objects` parameter of the load function.\n"
          ]
        },
        {
          "output_type": "stream",
          "name": "stdout",
          "text": [
            "\b\b\b\b\b\b\b\b\b\b\b\b\b\b\b\b\b\b\b\b\b\b\b\b\b\b\b\b\b\b\b\b\b\b\b\b\b\b\b\b\b\b\b\b\b\b\b\b\b\b\b\b\b\b\b\b\b\b\b\b\b\b\b\b\b\b\b\b\b\b\b\b\b\b\b\b\b\b\b\b\b\b\b\b\b\b\b\b\b\b\b\b\b\b\b\b\b\b\b\b\b\b\b\b\b\b\b\b\r563/563 [==============================] - 8s 11ms/step - loss: 2514559.7500 - root_mean_squared_error: 1585.7363 - val_loss: 426841.0000 - val_root_mean_squared_error: 653.3307\n",
            "Epoch 2/50\n",
            "557/563 [============================>.] - ETA: 0s - loss: 2503234.5000 - root_mean_squared_error: 1582.1614"
          ]
        },
        {
          "output_type": "stream",
          "name": "stderr",
          "text": [
            "WARNING:absl:Found untraced functions such as gru_cell_layer_call_fn, gru_cell_layer_call_and_return_conditional_losses while saving (showing 2 of 2). These functions will not be directly callable after loading.\n"
          ]
        },
        {
          "output_type": "stream",
          "name": "stdout",
          "text": [
            "INFO:tensorflow:Assets written to: model3/assets\n"
          ]
        },
        {
          "output_type": "stream",
          "name": "stderr",
          "text": [
            "INFO:tensorflow:Assets written to: model3/assets\n",
            "WARNING:absl:<keras.layers.recurrent.GRUCell object at 0x7f6855fd5bd0> has the same name 'GRUCell' as a built-in Keras object. Consider renaming <class 'keras.layers.recurrent.GRUCell'> to avoid naming conflicts when loading with `tf.keras.models.load_model`. If renaming is not possible, pass the object in the `custom_objects` parameter of the load function.\n"
          ]
        },
        {
          "output_type": "stream",
          "name": "stdout",
          "text": [
            "\b\b\b\b\b\b\b\b\b\b\b\b\b\b\b\b\b\b\b\b\b\b\b\b\b\b\b\b\b\b\b\b\b\b\b\b\b\b\b\b\b\b\b\b\b\b\b\b\b\b\b\b\b\b\b\b\b\b\b\b\b\b\b\b\b\b\b\b\b\b\b\b\b\b\b\b\b\b\b\b\b\b\b\b\b\b\b\b\b\b\b\b\b\b\b\b\b\b\b\b\b\b\b\b\b\b\b\b\r563/563 [==============================] - 6s 11ms/step - loss: 2506521.2500 - root_mean_squared_error: 1583.1997 - val_loss: 422602.9375 - val_root_mean_squared_error: 650.0792\n",
            "Epoch 3/50\n",
            "554/563 [============================>.] - ETA: 0s - loss: 2492773.2500 - root_mean_squared_error: 1578.8518"
          ]
        },
        {
          "output_type": "stream",
          "name": "stderr",
          "text": [
            "WARNING:absl:Found untraced functions such as gru_cell_layer_call_fn, gru_cell_layer_call_and_return_conditional_losses while saving (showing 2 of 2). These functions will not be directly callable after loading.\n"
          ]
        },
        {
          "output_type": "stream",
          "name": "stdout",
          "text": [
            "INFO:tensorflow:Assets written to: model3/assets\n"
          ]
        },
        {
          "output_type": "stream",
          "name": "stderr",
          "text": [
            "INFO:tensorflow:Assets written to: model3/assets\n",
            "WARNING:absl:<keras.layers.recurrent.GRUCell object at 0x7f6855fd5bd0> has the same name 'GRUCell' as a built-in Keras object. Consider renaming <class 'keras.layers.recurrent.GRUCell'> to avoid naming conflicts when loading with `tf.keras.models.load_model`. If renaming is not possible, pass the object in the `custom_objects` parameter of the load function.\n"
          ]
        },
        {
          "output_type": "stream",
          "name": "stdout",
          "text": [
            "\b\b\b\b\b\b\b\b\b\b\b\b\b\b\b\b\b\b\b\b\b\b\b\b\b\b\b\b\b\b\b\b\b\b\b\b\b\b\b\b\b\b\b\b\b\b\b\b\b\b\b\b\b\b\b\b\b\b\b\b\b\b\b\b\b\b\b\b\b\b\b\b\b\b\b\b\b\b\b\b\b\b\b\b\b\b\b\b\b\b\b\b\b\b\b\b\b\b\b\b\b\b\b\b\b\b\b\b\r563/563 [==============================] - 5s 9ms/step - loss: 2492575.5000 - root_mean_squared_error: 1578.7892 - val_loss: 418951.8438 - val_root_mean_squared_error: 647.2649\n",
            "Epoch 4/50\n",
            "557/563 [============================>.] - ETA: 0s - loss: 2477299.7500 - root_mean_squared_error: 1573.9440"
          ]
        },
        {
          "output_type": "stream",
          "name": "stderr",
          "text": [
            "WARNING:absl:Found untraced functions such as gru_cell_layer_call_fn, gru_cell_layer_call_and_return_conditional_losses while saving (showing 2 of 2). These functions will not be directly callable after loading.\n"
          ]
        },
        {
          "output_type": "stream",
          "name": "stdout",
          "text": [
            "INFO:tensorflow:Assets written to: model3/assets\n"
          ]
        },
        {
          "output_type": "stream",
          "name": "stderr",
          "text": [
            "INFO:tensorflow:Assets written to: model3/assets\n",
            "WARNING:absl:<keras.layers.recurrent.GRUCell object at 0x7f6855fd5bd0> has the same name 'GRUCell' as a built-in Keras object. Consider renaming <class 'keras.layers.recurrent.GRUCell'> to avoid naming conflicts when loading with `tf.keras.models.load_model`. If renaming is not possible, pass the object in the `custom_objects` parameter of the load function.\n"
          ]
        },
        {
          "output_type": "stream",
          "name": "stdout",
          "text": [
            "\b\b\b\b\b\b\b\b\b\b\b\b\b\b\b\b\b\b\b\b\b\b\b\b\b\b\b\b\b\b\b\b\b\b\b\b\b\b\b\b\b\b\b\b\b\b\b\b\b\b\b\b\b\b\b\b\b\b\b\b\b\b\b\b\b\b\b\b\b\b\b\b\b\b\b\b\b\b\b\b\b\b\b\b\b\b\b\b\b\b\b\b\b\b\b\b\b\b\b\b\b\b\b\b\b\b\b\b\r563/563 [==============================] - 6s 10ms/step - loss: 2480277.5000 - root_mean_squared_error: 1574.8896 - val_loss: 415424.3750 - val_root_mean_squared_error: 644.5342\n",
            "Epoch 5/50\n",
            "554/563 [============================>.] - ETA: 0s - loss: 2465382.0000 - root_mean_squared_error: 1570.1534"
          ]
        },
        {
          "output_type": "stream",
          "name": "stderr",
          "text": [
            "WARNING:absl:Found untraced functions such as gru_cell_layer_call_fn, gru_cell_layer_call_and_return_conditional_losses while saving (showing 2 of 2). These functions will not be directly callable after loading.\n"
          ]
        },
        {
          "output_type": "stream",
          "name": "stdout",
          "text": [
            "INFO:tensorflow:Assets written to: model3/assets\n"
          ]
        },
        {
          "output_type": "stream",
          "name": "stderr",
          "text": [
            "INFO:tensorflow:Assets written to: model3/assets\n",
            "WARNING:absl:<keras.layers.recurrent.GRUCell object at 0x7f6855fd5bd0> has the same name 'GRUCell' as a built-in Keras object. Consider renaming <class 'keras.layers.recurrent.GRUCell'> to avoid naming conflicts when loading with `tf.keras.models.load_model`. If renaming is not possible, pass the object in the `custom_objects` parameter of the load function.\n"
          ]
        },
        {
          "output_type": "stream",
          "name": "stdout",
          "text": [
            "\b\b\b\b\b\b\b\b\b\b\b\b\b\b\b\b\b\b\b\b\b\b\b\b\b\b\b\b\b\b\b\b\b\b\b\b\b\b\b\b\b\b\b\b\b\b\b\b\b\b\b\b\b\b\b\b\b\b\b\b\b\b\b\b\b\b\b\b\b\b\b\b\b\b\b\b\b\b\b\b\b\b\b\b\b\b\b\b\b\b\b\b\b\b\b\b\b\b\b\b\b\b\b\b\b\b\b\b\r563/563 [==============================] - 5s 9ms/step - loss: 2468422.2500 - root_mean_squared_error: 1571.1213 - val_loss: 412004.7188 - val_root_mean_squared_error: 641.8759\n",
            "Epoch 6/50\n",
            "559/563 [============================>.] - ETA: 0s - loss: 2454971.5000 - root_mean_squared_error: 1566.8348"
          ]
        },
        {
          "output_type": "stream",
          "name": "stderr",
          "text": [
            "WARNING:absl:Found untraced functions such as gru_cell_layer_call_fn, gru_cell_layer_call_and_return_conditional_losses while saving (showing 2 of 2). These functions will not be directly callable after loading.\n"
          ]
        },
        {
          "output_type": "stream",
          "name": "stdout",
          "text": [
            "INFO:tensorflow:Assets written to: model3/assets\n"
          ]
        },
        {
          "output_type": "stream",
          "name": "stderr",
          "text": [
            "INFO:tensorflow:Assets written to: model3/assets\n",
            "WARNING:absl:<keras.layers.recurrent.GRUCell object at 0x7f6855fd5bd0> has the same name 'GRUCell' as a built-in Keras object. Consider renaming <class 'keras.layers.recurrent.GRUCell'> to avoid naming conflicts when loading with `tf.keras.models.load_model`. If renaming is not possible, pass the object in the `custom_objects` parameter of the load function.\n"
          ]
        },
        {
          "output_type": "stream",
          "name": "stdout",
          "text": [
            "\b\b\b\b\b\b\b\b\b\b\b\b\b\b\b\b\b\b\b\b\b\b\b\b\b\b\b\b\b\b\b\b\b\b\b\b\b\b\b\b\b\b\b\b\b\b\b\b\b\b\b\b\b\b\b\b\b\b\b\b\b\b\b\b\b\b\b\b\b\b\b\b\b\b\b\b\b\b\b\b\b\b\b\b\b\b\b\b\b\b\b\b\b\b\b\b\b\b\b\b\b\b\b\b\b\b\b\b\r563/563 [==============================] - 5s 9ms/step - loss: 2456307.7500 - root_mean_squared_error: 1567.2612 - val_loss: 408441.1875 - val_root_mean_squared_error: 639.0941\n",
            "Epoch 7/50\n",
            "562/563 [============================>.] - ETA: 0s - loss: 2443875.7500 - root_mean_squared_error: 1563.2900"
          ]
        },
        {
          "output_type": "stream",
          "name": "stderr",
          "text": [
            "WARNING:absl:Found untraced functions such as gru_cell_layer_call_fn, gru_cell_layer_call_and_return_conditional_losses while saving (showing 2 of 2). These functions will not be directly callable after loading.\n"
          ]
        },
        {
          "output_type": "stream",
          "name": "stdout",
          "text": [
            "INFO:tensorflow:Assets written to: model3/assets\n"
          ]
        },
        {
          "output_type": "stream",
          "name": "stderr",
          "text": [
            "INFO:tensorflow:Assets written to: model3/assets\n",
            "WARNING:absl:<keras.layers.recurrent.GRUCell object at 0x7f6855fd5bd0> has the same name 'GRUCell' as a built-in Keras object. Consider renaming <class 'keras.layers.recurrent.GRUCell'> to avoid naming conflicts when loading with `tf.keras.models.load_model`. If renaming is not possible, pass the object in the `custom_objects` parameter of the load function.\n"
          ]
        },
        {
          "output_type": "stream",
          "name": "stdout",
          "text": [
            "\b\b\b\b\b\b\b\b\b\b\b\b\b\b\b\b\b\b\b\b\b\b\b\b\b\b\b\b\b\b\b\b\b\b\b\b\b\b\b\b\b\b\b\b\b\b\b\b\b\b\b\b\b\b\b\b\b\b\b\b\b\b\b\b\b\b\b\b\b\b\b\b\b\b\b\b\b\b\b\b\b\b\b\b\b\b\b\b\b\b\b\b\b\b\b\b\b\b\b\b\b\b\b\b\b\b\b\b\r563/563 [==============================] - 6s 10ms/step - loss: 2443543.2500 - root_mean_squared_error: 1563.1837 - val_loss: 404704.9375 - val_root_mean_squared_error: 636.1642\n",
            "Epoch 8/50\n",
            "558/563 [============================>.] - ETA: 0s - loss: 2426098.7500 - root_mean_squared_error: 1557.5939"
          ]
        },
        {
          "output_type": "stream",
          "name": "stderr",
          "text": [
            "WARNING:absl:Found untraced functions such as gru_cell_layer_call_fn, gru_cell_layer_call_and_return_conditional_losses while saving (showing 2 of 2). These functions will not be directly callable after loading.\n"
          ]
        },
        {
          "output_type": "stream",
          "name": "stdout",
          "text": [
            "INFO:tensorflow:Assets written to: model3/assets\n"
          ]
        },
        {
          "output_type": "stream",
          "name": "stderr",
          "text": [
            "INFO:tensorflow:Assets written to: model3/assets\n",
            "WARNING:absl:<keras.layers.recurrent.GRUCell object at 0x7f6855fd5bd0> has the same name 'GRUCell' as a built-in Keras object. Consider renaming <class 'keras.layers.recurrent.GRUCell'> to avoid naming conflicts when loading with `tf.keras.models.load_model`. If renaming is not possible, pass the object in the `custom_objects` parameter of the load function.\n"
          ]
        },
        {
          "output_type": "stream",
          "name": "stdout",
          "text": [
            "\b\b\b\b\b\b\b\b\b\b\b\b\b\b\b\b\b\b\b\b\b\b\b\b\b\b\b\b\b\b\b\b\b\b\b\b\b\b\b\b\b\b\b\b\b\b\b\b\b\b\b\b\b\b\b\b\b\b\b\b\b\b\b\b\b\b\b\b\b\b\b\b\b\b\b\b\b\b\b\b\b\b\b\b\b\b\b\b\b\b\b\b\b\b\b\b\b\b\b\b\b\b\b\b\b\b\b\b\r563/563 [==============================] - 5s 9ms/step - loss: 2430079.2500 - root_mean_squared_error: 1558.8711 - val_loss: 400793.1875 - val_root_mean_squared_error: 633.0823\n",
            "Epoch 9/50\n",
            "553/563 [============================>.] - ETA: 0s - loss: 2416878.2500 - root_mean_squared_error: 1554.6312"
          ]
        },
        {
          "output_type": "stream",
          "name": "stderr",
          "text": [
            "WARNING:absl:Found untraced functions such as gru_cell_layer_call_fn, gru_cell_layer_call_and_return_conditional_losses while saving (showing 2 of 2). These functions will not be directly callable after loading.\n"
          ]
        },
        {
          "output_type": "stream",
          "name": "stdout",
          "text": [
            "INFO:tensorflow:Assets written to: model3/assets\n"
          ]
        },
        {
          "output_type": "stream",
          "name": "stderr",
          "text": [
            "INFO:tensorflow:Assets written to: model3/assets\n",
            "WARNING:absl:<keras.layers.recurrent.GRUCell object at 0x7f6855fd5bd0> has the same name 'GRUCell' as a built-in Keras object. Consider renaming <class 'keras.layers.recurrent.GRUCell'> to avoid naming conflicts when loading with `tf.keras.models.load_model`. If renaming is not possible, pass the object in the `custom_objects` parameter of the load function.\n"
          ]
        },
        {
          "output_type": "stream",
          "name": "stdout",
          "text": [
            "\b\b\b\b\b\b\b\b\b\b\b\b\b\b\b\b\b\b\b\b\b\b\b\b\b\b\b\b\b\b\b\b\b\b\b\b\b\b\b\b\b\b\b\b\b\b\b\b\b\b\b\b\b\b\b\b\b\b\b\b\b\b\b\b\b\b\b\b\b\b\b\b\b\b\b\b\b\b\b\b\b\b\b\b\b\b\b\b\b\b\b\b\b\b\b\b\b\b\b\b\b\b\b\b\b\b\b\b\r563/563 [==============================] - 6s 10ms/step - loss: 2415830.2500 - root_mean_squared_error: 1554.2942 - val_loss: 396185.8125 - val_root_mean_squared_error: 629.4329\n",
            "Epoch 10/50\n",
            "553/563 [============================>.] - ETA: 0s - loss: 2399466.2500 - root_mean_squared_error: 1549.0210"
          ]
        },
        {
          "output_type": "stream",
          "name": "stderr",
          "text": [
            "WARNING:absl:Found untraced functions such as gru_cell_layer_call_fn, gru_cell_layer_call_and_return_conditional_losses while saving (showing 2 of 2). These functions will not be directly callable after loading.\n"
          ]
        },
        {
          "output_type": "stream",
          "name": "stdout",
          "text": [
            "INFO:tensorflow:Assets written to: model3/assets\n"
          ]
        },
        {
          "output_type": "stream",
          "name": "stderr",
          "text": [
            "INFO:tensorflow:Assets written to: model3/assets\n",
            "WARNING:absl:<keras.layers.recurrent.GRUCell object at 0x7f6855fd5bd0> has the same name 'GRUCell' as a built-in Keras object. Consider renaming <class 'keras.layers.recurrent.GRUCell'> to avoid naming conflicts when loading with `tf.keras.models.load_model`. If renaming is not possible, pass the object in the `custom_objects` parameter of the load function.\n"
          ]
        },
        {
          "output_type": "stream",
          "name": "stdout",
          "text": [
            "\b\b\b\b\b\b\b\b\b\b\b\b\b\b\b\b\b\b\b\b\b\b\b\b\b\b\b\b\b\b\b\b\b\b\b\b\b\b\b\b\b\b\b\b\b\b\b\b\b\b\b\b\b\b\b\b\b\b\b\b\b\b\b\b\b\b\b\b\b\b\b\b\b\b\b\b\b\b\b\b\b\b\b\b\b\b\b\b\b\b\b\b\b\b\b\b\b\b\b\b\b\b\b\b\b\b\b\b\r563/563 [==============================] - 5s 9ms/step - loss: 2397722.5000 - root_mean_squared_error: 1548.4580 - val_loss: 391489.9062 - val_root_mean_squared_error: 625.6915\n",
            "Epoch 11/50\n",
            "562/563 [============================>.] - ETA: 0s - loss: 2381370.0000 - root_mean_squared_error: 1543.1688"
          ]
        },
        {
          "output_type": "stream",
          "name": "stderr",
          "text": [
            "WARNING:absl:Found untraced functions such as gru_cell_layer_call_fn, gru_cell_layer_call_and_return_conditional_losses while saving (showing 2 of 2). These functions will not be directly callable after loading.\n"
          ]
        },
        {
          "output_type": "stream",
          "name": "stdout",
          "text": [
            "INFO:tensorflow:Assets written to: model3/assets\n"
          ]
        },
        {
          "output_type": "stream",
          "name": "stderr",
          "text": [
            "INFO:tensorflow:Assets written to: model3/assets\n",
            "WARNING:absl:<keras.layers.recurrent.GRUCell object at 0x7f6855fd5bd0> has the same name 'GRUCell' as a built-in Keras object. Consider renaming <class 'keras.layers.recurrent.GRUCell'> to avoid naming conflicts when loading with `tf.keras.models.load_model`. If renaming is not possible, pass the object in the `custom_objects` parameter of the load function.\n"
          ]
        },
        {
          "output_type": "stream",
          "name": "stdout",
          "text": [
            "\b\b\b\b\b\b\b\b\b\b\b\b\b\b\b\b\b\b\b\b\b\b\b\b\b\b\b\b\b\b\b\b\b\b\b\b\b\b\b\b\b\b\b\b\b\b\b\b\b\b\b\b\b\b\b\b\b\b\b\b\b\b\b\b\b\b\b\b\b\b\b\b\b\b\b\b\b\b\b\b\b\b\b\b\b\b\b\b\b\b\b\b\b\b\b\b\b\b\b\b\b\b\b\b\b\b\b\b\r563/563 [==============================] - 6s 10ms/step - loss: 2381290.5000 - root_mean_squared_error: 1543.1431 - val_loss: 386909.5625 - val_root_mean_squared_error: 622.0206\n",
            "Epoch 12/50\n",
            "562/563 [============================>.] - ETA: 0s - loss: 2365550.7500 - root_mean_squared_error: 1538.0347"
          ]
        },
        {
          "output_type": "stream",
          "name": "stderr",
          "text": [
            "WARNING:absl:Found untraced functions such as gru_cell_layer_call_fn, gru_cell_layer_call_and_return_conditional_losses while saving (showing 2 of 2). These functions will not be directly callable after loading.\n"
          ]
        },
        {
          "output_type": "stream",
          "name": "stdout",
          "text": [
            "INFO:tensorflow:Assets written to: model3/assets\n"
          ]
        },
        {
          "output_type": "stream",
          "name": "stderr",
          "text": [
            "INFO:tensorflow:Assets written to: model3/assets\n",
            "WARNING:absl:<keras.layers.recurrent.GRUCell object at 0x7f6855fd5bd0> has the same name 'GRUCell' as a built-in Keras object. Consider renaming <class 'keras.layers.recurrent.GRUCell'> to avoid naming conflicts when loading with `tf.keras.models.load_model`. If renaming is not possible, pass the object in the `custom_objects` parameter of the load function.\n"
          ]
        },
        {
          "output_type": "stream",
          "name": "stdout",
          "text": [
            "\b\b\b\b\b\b\b\b\b\b\b\b\b\b\b\b\b\b\b\b\b\b\b\b\b\b\b\b\b\b\b\b\b\b\b\b\b\b\b\b\b\b\b\b\b\b\b\b\b\b\b\b\b\b\b\b\b\b\b\b\b\b\b\b\b\b\b\b\b\b\b\b\b\b\b\b\b\b\b\b\b\b\b\b\b\b\b\b\b\b\b\b\b\b\b\b\b\b\b\b\b\b\b\b\b\b\b\b\r563/563 [==============================] - 5s 9ms/step - loss: 2364330.0000 - root_mean_squared_error: 1537.6377 - val_loss: 382185.0938 - val_root_mean_squared_error: 618.2112\n",
            "Epoch 13/50\n",
            "556/563 [============================>.] - ETA: 0s - loss: 2346129.2500 - root_mean_squared_error: 1531.7080"
          ]
        },
        {
          "output_type": "stream",
          "name": "stderr",
          "text": [
            "WARNING:absl:Found untraced functions such as gru_cell_layer_call_fn, gru_cell_layer_call_and_return_conditional_losses while saving (showing 2 of 2). These functions will not be directly callable after loading.\n"
          ]
        },
        {
          "output_type": "stream",
          "name": "stdout",
          "text": [
            "INFO:tensorflow:Assets written to: model3/assets\n"
          ]
        },
        {
          "output_type": "stream",
          "name": "stderr",
          "text": [
            "INFO:tensorflow:Assets written to: model3/assets\n",
            "WARNING:absl:<keras.layers.recurrent.GRUCell object at 0x7f6855fd5bd0> has the same name 'GRUCell' as a built-in Keras object. Consider renaming <class 'keras.layers.recurrent.GRUCell'> to avoid naming conflicts when loading with `tf.keras.models.load_model`. If renaming is not possible, pass the object in the `custom_objects` parameter of the load function.\n"
          ]
        },
        {
          "output_type": "stream",
          "name": "stdout",
          "text": [
            "\b\b\b\b\b\b\b\b\b\b\b\b\b\b\b\b\b\b\b\b\b\b\b\b\b\b\b\b\b\b\b\b\b\b\b\b\b\b\b\b\b\b\b\b\b\b\b\b\b\b\b\b\b\b\b\b\b\b\b\b\b\b\b\b\b\b\b\b\b\b\b\b\b\b\b\b\b\b\b\b\b\b\b\b\b\b\b\b\b\b\b\b\b\b\b\b\b\b\b\b\b\b\b\b\b\b\b\b\r563/563 [==============================] - 6s 10ms/step - loss: 2345880.0000 - root_mean_squared_error: 1531.6266 - val_loss: 376905.6250 - val_root_mean_squared_error: 613.9264\n",
            "Epoch 14/50\n",
            "554/563 [============================>.] - ETA: 0s - loss: 2325411.7500 - root_mean_squared_error: 1524.9301"
          ]
        },
        {
          "output_type": "stream",
          "name": "stderr",
          "text": [
            "WARNING:absl:Found untraced functions such as gru_cell_layer_call_fn, gru_cell_layer_call_and_return_conditional_losses while saving (showing 2 of 2). These functions will not be directly callable after loading.\n"
          ]
        },
        {
          "output_type": "stream",
          "name": "stdout",
          "text": [
            "INFO:tensorflow:Assets written to: model3/assets\n"
          ]
        },
        {
          "output_type": "stream",
          "name": "stderr",
          "text": [
            "INFO:tensorflow:Assets written to: model3/assets\n",
            "WARNING:absl:<keras.layers.recurrent.GRUCell object at 0x7f6855fd5bd0> has the same name 'GRUCell' as a built-in Keras object. Consider renaming <class 'keras.layers.recurrent.GRUCell'> to avoid naming conflicts when loading with `tf.keras.models.load_model`. If renaming is not possible, pass the object in the `custom_objects` parameter of the load function.\n"
          ]
        },
        {
          "output_type": "stream",
          "name": "stdout",
          "text": [
            "\b\b\b\b\b\b\b\b\b\b\b\b\b\b\b\b\b\b\b\b\b\b\b\b\b\b\b\b\b\b\b\b\b\b\b\b\b\b\b\b\b\b\b\b\b\b\b\b\b\b\b\b\b\b\b\b\b\b\b\b\b\b\b\b\b\b\b\b\b\b\b\b\b\b\b\b\b\b\b\b\b\b\b\b\b\b\b\b\b\b\b\b\b\b\b\b\b\b\b\b\b\b\b\b\b\b\b\b\r563/563 [==============================] - 5s 10ms/step - loss: 2325214.0000 - root_mean_squared_error: 1524.8652 - val_loss: 371310.9688 - val_root_mean_squared_error: 609.3529\n",
            "Epoch 15/50\n",
            "552/563 [============================>.] - ETA: 0s - loss: 2303544.0000 - root_mean_squared_error: 1517.7430"
          ]
        },
        {
          "output_type": "stream",
          "name": "stderr",
          "text": [
            "WARNING:absl:Found untraced functions such as gru_cell_layer_call_fn, gru_cell_layer_call_and_return_conditional_losses while saving (showing 2 of 2). These functions will not be directly callable after loading.\n"
          ]
        },
        {
          "output_type": "stream",
          "name": "stdout",
          "text": [
            "INFO:tensorflow:Assets written to: model3/assets\n"
          ]
        },
        {
          "output_type": "stream",
          "name": "stderr",
          "text": [
            "INFO:tensorflow:Assets written to: model3/assets\n",
            "WARNING:absl:<keras.layers.recurrent.GRUCell object at 0x7f6855fd5bd0> has the same name 'GRUCell' as a built-in Keras object. Consider renaming <class 'keras.layers.recurrent.GRUCell'> to avoid naming conflicts when loading with `tf.keras.models.load_model`. If renaming is not possible, pass the object in the `custom_objects` parameter of the load function.\n"
          ]
        },
        {
          "output_type": "stream",
          "name": "stdout",
          "text": [
            "\b\b\b\b\b\b\b\b\b\b\b\b\b\b\b\b\b\b\b\b\b\b\b\b\b\b\b\b\b\b\b\b\b\b\b\b\b\b\b\b\b\b\b\b\b\b\b\b\b\b\b\b\b\b\b\b\b\b\b\b\b\b\b\b\b\b\b\b\b\b\b\b\b\b\b\b\b\b\b\b\b\b\b\b\b\b\b\b\b\b\b\b\b\b\b\b\b\b\b\b\b\b\b\b\b\b\b\b\r563/563 [==============================] - 5s 9ms/step - loss: 2305010.0000 - root_mean_squared_error: 1518.2260 - val_loss: 366038.3438 - val_root_mean_squared_error: 605.0110\n",
            "Epoch 16/50\n",
            "560/563 [============================>.] - ETA: 0s - loss: 2287223.7500 - root_mean_squared_error: 1512.3571"
          ]
        },
        {
          "output_type": "stream",
          "name": "stderr",
          "text": [
            "WARNING:absl:Found untraced functions such as gru_cell_layer_call_fn, gru_cell_layer_call_and_return_conditional_losses while saving (showing 2 of 2). These functions will not be directly callable after loading.\n"
          ]
        },
        {
          "output_type": "stream",
          "name": "stdout",
          "text": [
            "INFO:tensorflow:Assets written to: model3/assets\n"
          ]
        },
        {
          "output_type": "stream",
          "name": "stderr",
          "text": [
            "INFO:tensorflow:Assets written to: model3/assets\n",
            "WARNING:absl:<keras.layers.recurrent.GRUCell object at 0x7f6855fd5bd0> has the same name 'GRUCell' as a built-in Keras object. Consider renaming <class 'keras.layers.recurrent.GRUCell'> to avoid naming conflicts when loading with `tf.keras.models.load_model`. If renaming is not possible, pass the object in the `custom_objects` parameter of the load function.\n"
          ]
        },
        {
          "output_type": "stream",
          "name": "stdout",
          "text": [
            "\b\b\b\b\b\b\b\b\b\b\b\b\b\b\b\b\b\b\b\b\b\b\b\b\b\b\b\b\b\b\b\b\b\b\b\b\b\b\b\b\b\b\b\b\b\b\b\b\b\b\b\b\b\b\b\b\b\b\b\b\b\b\b\b\b\b\b\b\b\b\b\b\b\b\b\b\b\b\b\b\b\b\b\b\b\b\b\b\b\b\b\b\b\b\b\b\b\b\b\b\b\b\b\b\b\b\b\b\r563/563 [==============================] - 5s 9ms/step - loss: 2284790.7500 - root_mean_squared_error: 1511.5525 - val_loss: 360665.8125 - val_root_mean_squared_error: 600.5546\n",
            "Epoch 17/50\n",
            "560/563 [============================>.] - ETA: 0s - loss: 2265325.2500 - root_mean_squared_error: 1505.0997"
          ]
        },
        {
          "output_type": "stream",
          "name": "stderr",
          "text": [
            "WARNING:absl:Found untraced functions such as gru_cell_layer_call_fn, gru_cell_layer_call_and_return_conditional_losses while saving (showing 2 of 2). These functions will not be directly callable after loading.\n"
          ]
        },
        {
          "output_type": "stream",
          "name": "stdout",
          "text": [
            "INFO:tensorflow:Assets written to: model3/assets\n"
          ]
        },
        {
          "output_type": "stream",
          "name": "stderr",
          "text": [
            "INFO:tensorflow:Assets written to: model3/assets\n",
            "WARNING:absl:<keras.layers.recurrent.GRUCell object at 0x7f6855fd5bd0> has the same name 'GRUCell' as a built-in Keras object. Consider renaming <class 'keras.layers.recurrent.GRUCell'> to avoid naming conflicts when loading with `tf.keras.models.load_model`. If renaming is not possible, pass the object in the `custom_objects` parameter of the load function.\n"
          ]
        },
        {
          "output_type": "stream",
          "name": "stdout",
          "text": [
            "\b\b\b\b\b\b\b\b\b\b\b\b\b\b\b\b\b\b\b\b\b\b\b\b\b\b\b\b\b\b\b\b\b\b\b\b\b\b\b\b\b\b\b\b\b\b\b\b\b\b\b\b\b\b\b\b\b\b\b\b\b\b\b\b\b\b\b\b\b\b\b\b\b\b\b\b\b\b\b\b\b\b\b\b\b\b\b\b\b\b\b\b\b\b\b\b\b\b\b\b\b\b\b\b\b\b\b\b\r563/563 [==============================] - 6s 10ms/step - loss: 2263959.7500 - root_mean_squared_error: 1504.6460 - val_loss: 355189.5312 - val_root_mean_squared_error: 595.9778\n",
            "Epoch 18/50\n",
            "549/563 [============================>.] - ETA: 0s - loss: 2242551.2500 - root_mean_squared_error: 1497.5150"
          ]
        },
        {
          "output_type": "stream",
          "name": "stderr",
          "text": [
            "WARNING:absl:Found untraced functions such as gru_cell_layer_call_fn, gru_cell_layer_call_and_return_conditional_losses while saving (showing 2 of 2). These functions will not be directly callable after loading.\n"
          ]
        },
        {
          "output_type": "stream",
          "name": "stdout",
          "text": [
            "INFO:tensorflow:Assets written to: model3/assets\n"
          ]
        },
        {
          "output_type": "stream",
          "name": "stderr",
          "text": [
            "INFO:tensorflow:Assets written to: model3/assets\n",
            "WARNING:absl:<keras.layers.recurrent.GRUCell object at 0x7f6855fd5bd0> has the same name 'GRUCell' as a built-in Keras object. Consider renaming <class 'keras.layers.recurrent.GRUCell'> to avoid naming conflicts when loading with `tf.keras.models.load_model`. If renaming is not possible, pass the object in the `custom_objects` parameter of the load function.\n"
          ]
        },
        {
          "output_type": "stream",
          "name": "stdout",
          "text": [
            "\b\b\b\b\b\b\b\b\b\b\b\b\b\b\b\b\b\b\b\b\b\b\b\b\b\b\b\b\b\b\b\b\b\b\b\b\b\b\b\b\b\b\b\b\b\b\b\b\b\b\b\b\b\b\b\b\b\b\b\b\b\b\b\b\b\b\b\b\b\b\b\b\b\b\b\b\b\b\b\b\b\b\b\b\b\b\b\b\b\b\b\b\b\b\b\b\b\b\b\b\b\b\b\b\b\b\b\b\r563/563 [==============================] - 5s 9ms/step - loss: 2242515.7500 - root_mean_squared_error: 1497.5032 - val_loss: 349615.9375 - val_root_mean_squared_error: 591.2833\n",
            "Epoch 19/50\n",
            "550/563 [============================>.] - ETA: 0s - loss: 2218498.7500 - root_mean_squared_error: 1489.4625"
          ]
        },
        {
          "output_type": "stream",
          "name": "stderr",
          "text": [
            "WARNING:absl:Found untraced functions such as gru_cell_layer_call_fn, gru_cell_layer_call_and_return_conditional_losses while saving (showing 2 of 2). These functions will not be directly callable after loading.\n"
          ]
        },
        {
          "output_type": "stream",
          "name": "stdout",
          "text": [
            "INFO:tensorflow:Assets written to: model3/assets\n"
          ]
        },
        {
          "output_type": "stream",
          "name": "stderr",
          "text": [
            "INFO:tensorflow:Assets written to: model3/assets\n",
            "WARNING:absl:<keras.layers.recurrent.GRUCell object at 0x7f6855fd5bd0> has the same name 'GRUCell' as a built-in Keras object. Consider renaming <class 'keras.layers.recurrent.GRUCell'> to avoid naming conflicts when loading with `tf.keras.models.load_model`. If renaming is not possible, pass the object in the `custom_objects` parameter of the load function.\n"
          ]
        },
        {
          "output_type": "stream",
          "name": "stdout",
          "text": [
            "\b\b\b\b\b\b\b\b\b\b\b\b\b\b\b\b\b\b\b\b\b\b\b\b\b\b\b\b\b\b\b\b\b\b\b\b\b\b\b\b\b\b\b\b\b\b\b\b\b\b\b\b\b\b\b\b\b\b\b\b\b\b\b\b\b\b\b\b\b\b\b\b\b\b\b\b\b\b\b\b\b\b\b\b\b\b\b\b\b\b\b\b\b\b\b\b\b\b\b\b\b\b\b\b\b\b\b\b\r563/563 [==============================] - 6s 10ms/step - loss: 2220536.2500 - root_mean_squared_error: 1490.1464 - val_loss: 343985.7812 - val_root_mean_squared_error: 586.5030\n",
            "Epoch 20/50\n",
            "556/563 [============================>.] - ETA: 0s - loss: 2200452.5000 - root_mean_squared_error: 1483.3922"
          ]
        },
        {
          "output_type": "stream",
          "name": "stderr",
          "text": [
            "WARNING:absl:Found untraced functions such as gru_cell_layer_call_fn, gru_cell_layer_call_and_return_conditional_losses while saving (showing 2 of 2). These functions will not be directly callable after loading.\n"
          ]
        },
        {
          "output_type": "stream",
          "name": "stdout",
          "text": [
            "INFO:tensorflow:Assets written to: model3/assets\n"
          ]
        },
        {
          "output_type": "stream",
          "name": "stderr",
          "text": [
            "INFO:tensorflow:Assets written to: model3/assets\n",
            "WARNING:absl:<keras.layers.recurrent.GRUCell object at 0x7f6855fd5bd0> has the same name 'GRUCell' as a built-in Keras object. Consider renaming <class 'keras.layers.recurrent.GRUCell'> to avoid naming conflicts when loading with `tf.keras.models.load_model`. If renaming is not possible, pass the object in the `custom_objects` parameter of the load function.\n"
          ]
        },
        {
          "output_type": "stream",
          "name": "stdout",
          "text": [
            "\b\b\b\b\b\b\b\b\b\b\b\b\b\b\b\b\b\b\b\b\b\b\b\b\b\b\b\b\b\b\b\b\b\b\b\b\b\b\b\b\b\b\b\b\b\b\b\b\b\b\b\b\b\b\b\b\b\b\b\b\b\b\b\b\b\b\b\b\b\b\b\b\b\b\b\b\b\b\b\b\b\b\b\b\b\b\b\b\b\b\b\b\b\b\b\b\b\b\b\b\b\b\b\b\b\b\b\b\r563/563 [==============================] - 5s 9ms/step - loss: 2197996.7500 - root_mean_squared_error: 1482.5642 - val_loss: 338245.7500 - val_root_mean_squared_error: 581.5890\n",
            "Epoch 21/50\n",
            "552/563 [============================>.] - ETA: 0s - loss: 2174869.7500 - root_mean_squared_error: 1474.7439"
          ]
        },
        {
          "output_type": "stream",
          "name": "stderr",
          "text": [
            "WARNING:absl:Found untraced functions such as gru_cell_layer_call_fn, gru_cell_layer_call_and_return_conditional_losses while saving (showing 2 of 2). These functions will not be directly callable after loading.\n"
          ]
        },
        {
          "output_type": "stream",
          "name": "stdout",
          "text": [
            "INFO:tensorflow:Assets written to: model3/assets\n"
          ]
        },
        {
          "output_type": "stream",
          "name": "stderr",
          "text": [
            "INFO:tensorflow:Assets written to: model3/assets\n",
            "WARNING:absl:<keras.layers.recurrent.GRUCell object at 0x7f6855fd5bd0> has the same name 'GRUCell' as a built-in Keras object. Consider renaming <class 'keras.layers.recurrent.GRUCell'> to avoid naming conflicts when loading with `tf.keras.models.load_model`. If renaming is not possible, pass the object in the `custom_objects` parameter of the load function.\n"
          ]
        },
        {
          "output_type": "stream",
          "name": "stdout",
          "text": [
            "\b\b\b\b\b\b\b\b\b\b\b\b\b\b\b\b\b\b\b\b\b\b\b\b\b\b\b\b\b\b\b\b\b\b\b\b\b\b\b\b\b\b\b\b\b\b\b\b\b\b\b\b\b\b\b\b\b\b\b\b\b\b\b\b\b\b\b\b\b\b\b\b\b\b\b\b\b\b\b\b\b\b\b\b\b\b\b\b\b\b\b\b\b\b\b\b\b\b\b\b\b\b\b\b\b\b\b\b\r563/563 [==============================] - 6s 10ms/step - loss: 2174878.7500 - root_mean_squared_error: 1474.7469 - val_loss: 332450.9688 - val_root_mean_squared_error: 576.5856\n",
            "Epoch 22/50\n",
            "553/563 [============================>.] - ETA: 0s - loss: 2155698.5000 - root_mean_squared_error: 1468.2297"
          ]
        },
        {
          "output_type": "stream",
          "name": "stderr",
          "text": [
            "WARNING:absl:Found untraced functions such as gru_cell_layer_call_fn, gru_cell_layer_call_and_return_conditional_losses while saving (showing 2 of 2). These functions will not be directly callable after loading.\n"
          ]
        },
        {
          "output_type": "stream",
          "name": "stdout",
          "text": [
            "INFO:tensorflow:Assets written to: model3/assets\n"
          ]
        },
        {
          "output_type": "stream",
          "name": "stderr",
          "text": [
            "INFO:tensorflow:Assets written to: model3/assets\n",
            "WARNING:absl:<keras.layers.recurrent.GRUCell object at 0x7f6855fd5bd0> has the same name 'GRUCell' as a built-in Keras object. Consider renaming <class 'keras.layers.recurrent.GRUCell'> to avoid naming conflicts when loading with `tf.keras.models.load_model`. If renaming is not possible, pass the object in the `custom_objects` parameter of the load function.\n"
          ]
        },
        {
          "output_type": "stream",
          "name": "stdout",
          "text": [
            "\b\b\b\b\b\b\b\b\b\b\b\b\b\b\b\b\b\b\b\b\b\b\b\b\b\b\b\b\b\b\b\b\b\b\b\b\b\b\b\b\b\b\b\b\b\b\b\b\b\b\b\b\b\b\b\b\b\b\b\b\b\b\b\b\b\b\b\b\b\b\b\b\b\b\b\b\b\b\b\b\b\b\b\b\b\b\b\b\b\b\b\b\b\b\b\b\b\b\b\b\b\b\b\b\b\b\b\b\r563/563 [==============================] - 5s 9ms/step - loss: 2151227.0000 - root_mean_squared_error: 1466.7062 - val_loss: 326578.1875 - val_root_mean_squared_error: 571.4702\n",
            "Epoch 23/50\n",
            "553/563 [============================>.] - ETA: 0s - loss: 2128076.5000 - root_mean_squared_error: 1458.7928"
          ]
        },
        {
          "output_type": "stream",
          "name": "stderr",
          "text": [
            "WARNING:absl:Found untraced functions such as gru_cell_layer_call_fn, gru_cell_layer_call_and_return_conditional_losses while saving (showing 2 of 2). These functions will not be directly callable after loading.\n"
          ]
        },
        {
          "output_type": "stream",
          "name": "stdout",
          "text": [
            "INFO:tensorflow:Assets written to: model3/assets\n"
          ]
        },
        {
          "output_type": "stream",
          "name": "stderr",
          "text": [
            "INFO:tensorflow:Assets written to: model3/assets\n",
            "WARNING:absl:<keras.layers.recurrent.GRUCell object at 0x7f6855fd5bd0> has the same name 'GRUCell' as a built-in Keras object. Consider renaming <class 'keras.layers.recurrent.GRUCell'> to avoid naming conflicts when loading with `tf.keras.models.load_model`. If renaming is not possible, pass the object in the `custom_objects` parameter of the load function.\n"
          ]
        },
        {
          "output_type": "stream",
          "name": "stdout",
          "text": [
            "\b\b\b\b\b\b\b\b\b\b\b\b\b\b\b\b\b\b\b\b\b\b\b\b\b\b\b\b\b\b\b\b\b\b\b\b\b\b\b\b\b\b\b\b\b\b\b\b\b\b\b\b\b\b\b\b\b\b\b\b\b\b\b\b\b\b\b\b\b\b\b\b\b\b\b\b\b\b\b\b\b\b\b\b\b\b\b\b\b\b\b\b\b\b\b\b\b\b\b\b\b\b\b\b\b\b\b\b\r563/563 [==============================] - 6s 10ms/step - loss: 2127034.5000 - root_mean_squared_error: 1458.4357 - val_loss: 320652.5938 - val_root_mean_squared_error: 566.2619\n",
            "Epoch 24/50\n",
            "561/563 [============================>.] - ETA: 0s - loss: 2102925.5000 - root_mean_squared_error: 1450.1467"
          ]
        },
        {
          "output_type": "stream",
          "name": "stderr",
          "text": [
            "WARNING:absl:Found untraced functions such as gru_cell_layer_call_fn, gru_cell_layer_call_and_return_conditional_losses while saving (showing 2 of 2). These functions will not be directly callable after loading.\n"
          ]
        },
        {
          "output_type": "stream",
          "name": "stdout",
          "text": [
            "INFO:tensorflow:Assets written to: model3/assets\n"
          ]
        },
        {
          "output_type": "stream",
          "name": "stderr",
          "text": [
            "INFO:tensorflow:Assets written to: model3/assets\n",
            "WARNING:absl:<keras.layers.recurrent.GRUCell object at 0x7f6855fd5bd0> has the same name 'GRUCell' as a built-in Keras object. Consider renaming <class 'keras.layers.recurrent.GRUCell'> to avoid naming conflicts when loading with `tf.keras.models.load_model`. If renaming is not possible, pass the object in the `custom_objects` parameter of the load function.\n"
          ]
        },
        {
          "output_type": "stream",
          "name": "stdout",
          "text": [
            "\b\b\b\b\b\b\b\b\b\b\b\b\b\b\b\b\b\b\b\b\b\b\b\b\b\b\b\b\b\b\b\b\b\b\b\b\b\b\b\b\b\b\b\b\b\b\b\b\b\b\b\b\b\b\b\b\b\b\b\b\b\b\b\b\b\b\b\b\b\b\b\b\b\b\b\b\b\b\b\b\b\b\b\b\b\b\b\b\b\b\b\b\b\b\b\b\b\b\b\b\b\b\b\b\b\b\b\b\r563/563 [==============================] - 5s 9ms/step - loss: 2102319.0000 - root_mean_squared_error: 1449.9375 - val_loss: 314674.2812 - val_root_mean_squared_error: 560.9584\n",
            "Epoch 25/50\n",
            "551/563 [============================>.] - ETA: 0s - loss: 2077127.7500 - root_mean_squared_error: 1441.2244"
          ]
        },
        {
          "output_type": "stream",
          "name": "stderr",
          "text": [
            "WARNING:absl:Found untraced functions such as gru_cell_layer_call_fn, gru_cell_layer_call_and_return_conditional_losses while saving (showing 2 of 2). These functions will not be directly callable after loading.\n"
          ]
        },
        {
          "output_type": "stream",
          "name": "stdout",
          "text": [
            "INFO:tensorflow:Assets written to: model3/assets\n"
          ]
        },
        {
          "output_type": "stream",
          "name": "stderr",
          "text": [
            "INFO:tensorflow:Assets written to: model3/assets\n",
            "WARNING:absl:<keras.layers.recurrent.GRUCell object at 0x7f6855fd5bd0> has the same name 'GRUCell' as a built-in Keras object. Consider renaming <class 'keras.layers.recurrent.GRUCell'> to avoid naming conflicts when loading with `tf.keras.models.load_model`. If renaming is not possible, pass the object in the `custom_objects` parameter of the load function.\n"
          ]
        },
        {
          "output_type": "stream",
          "name": "stdout",
          "text": [
            "\b\b\b\b\b\b\b\b\b\b\b\b\b\b\b\b\b\b\b\b\b\b\b\b\b\b\b\b\b\b\b\b\b\b\b\b\b\b\b\b\b\b\b\b\b\b\b\b\b\b\b\b\b\b\b\b\b\b\b\b\b\b\b\b\b\b\b\b\b\b\b\b\b\b\b\b\b\b\b\b\b\b\b\b\b\b\b\b\b\b\b\b\b\b\b\b\b\b\b\b\b\b\b\b\b\b\b\b\r563/563 [==============================] - 6s 10ms/step - loss: 2077122.7500 - root_mean_squared_error: 1441.2227 - val_loss: 308657.0312 - val_root_mean_squared_error: 555.5691\n",
            "Epoch 26/50\n",
            "562/563 [============================>.] - ETA: 0s - loss: 2052283.2500 - root_mean_squared_error: 1432.5792"
          ]
        },
        {
          "output_type": "stream",
          "name": "stderr",
          "text": [
            "WARNING:absl:Found untraced functions such as gru_cell_layer_call_fn, gru_cell_layer_call_and_return_conditional_losses while saving (showing 2 of 2). These functions will not be directly callable after loading.\n"
          ]
        },
        {
          "output_type": "stream",
          "name": "stdout",
          "text": [
            "INFO:tensorflow:Assets written to: model3/assets\n"
          ]
        },
        {
          "output_type": "stream",
          "name": "stderr",
          "text": [
            "INFO:tensorflow:Assets written to: model3/assets\n",
            "WARNING:absl:<keras.layers.recurrent.GRUCell object at 0x7f6855fd5bd0> has the same name 'GRUCell' as a built-in Keras object. Consider renaming <class 'keras.layers.recurrent.GRUCell'> to avoid naming conflicts when loading with `tf.keras.models.load_model`. If renaming is not possible, pass the object in the `custom_objects` parameter of the load function.\n"
          ]
        },
        {
          "output_type": "stream",
          "name": "stdout",
          "text": [
            "\b\b\b\b\b\b\b\b\b\b\b\b\b\b\b\b\b\b\b\b\b\b\b\b\b\b\b\b\b\b\b\b\b\b\b\b\b\b\b\b\b\b\b\b\b\b\b\b\b\b\b\b\b\b\b\b\b\b\b\b\b\b\b\b\b\b\b\b\b\b\b\b\b\b\b\b\b\b\b\b\b\b\b\b\b\b\b\b\b\b\b\b\b\b\b\b\b\b\b\b\b\b\b\b\b\b\b\b\r563/563 [==============================] - 5s 9ms/step - loss: 2051434.7500 - root_mean_squared_error: 1432.2831 - val_loss: 302592.5000 - val_root_mean_squared_error: 550.0840\n",
            "Epoch 27/50\n",
            "561/563 [============================>.] - ETA: 0s - loss: 2024477.0000 - root_mean_squared_error: 1422.8412"
          ]
        },
        {
          "output_type": "stream",
          "name": "stderr",
          "text": [
            "WARNING:absl:Found untraced functions such as gru_cell_layer_call_fn, gru_cell_layer_call_and_return_conditional_losses while saving (showing 2 of 2). These functions will not be directly callable after loading.\n"
          ]
        },
        {
          "output_type": "stream",
          "name": "stdout",
          "text": [
            "INFO:tensorflow:Assets written to: model3/assets\n"
          ]
        },
        {
          "output_type": "stream",
          "name": "stderr",
          "text": [
            "INFO:tensorflow:Assets written to: model3/assets\n",
            "WARNING:absl:<keras.layers.recurrent.GRUCell object at 0x7f6855fd5bd0> has the same name 'GRUCell' as a built-in Keras object. Consider renaming <class 'keras.layers.recurrent.GRUCell'> to avoid naming conflicts when loading with `tf.keras.models.load_model`. If renaming is not possible, pass the object in the `custom_objects` parameter of the load function.\n"
          ]
        },
        {
          "output_type": "stream",
          "name": "stdout",
          "text": [
            "\b\b\b\b\b\b\b\b\b\b\b\b\b\b\b\b\b\b\b\b\b\b\b\b\b\b\b\b\b\b\b\b\b\b\b\b\b\b\b\b\b\b\b\b\b\b\b\b\b\b\b\b\b\b\b\b\b\b\b\b\b\b\b\b\b\b\b\b\b\b\b\b\b\b\b\b\b\b\b\b\b\b\b\b\b\b\b\b\b\b\b\b\b\b\b\b\b\b\b\b\b\b\b\b\b\b\b\b\r563/563 [==============================] - 7s 12ms/step - loss: 2025291.1250 - root_mean_squared_error: 1423.1272 - val_loss: 296516.1875 - val_root_mean_squared_error: 544.5330\n",
            "Epoch 28/50\n",
            "561/563 [============================>.] - ETA: 0s - loss: 1998368.8750 - root_mean_squared_error: 1413.6368"
          ]
        },
        {
          "output_type": "stream",
          "name": "stderr",
          "text": [
            "WARNING:absl:Found untraced functions such as gru_cell_layer_call_fn, gru_cell_layer_call_and_return_conditional_losses while saving (showing 2 of 2). These functions will not be directly callable after loading.\n"
          ]
        },
        {
          "output_type": "stream",
          "name": "stdout",
          "text": [
            "INFO:tensorflow:Assets written to: model3/assets\n"
          ]
        },
        {
          "output_type": "stream",
          "name": "stderr",
          "text": [
            "INFO:tensorflow:Assets written to: model3/assets\n",
            "WARNING:absl:<keras.layers.recurrent.GRUCell object at 0x7f6855fd5bd0> has the same name 'GRUCell' as a built-in Keras object. Consider renaming <class 'keras.layers.recurrent.GRUCell'> to avoid naming conflicts when loading with `tf.keras.models.load_model`. If renaming is not possible, pass the object in the `custom_objects` parameter of the load function.\n"
          ]
        },
        {
          "output_type": "stream",
          "name": "stdout",
          "text": [
            "\b\b\b\b\b\b\b\b\b\b\b\b\b\b\b\b\b\b\b\b\b\b\b\b\b\b\b\b\b\b\b\b\b\b\b\b\b\b\b\b\b\b\b\b\b\b\b\b\b\b\b\b\b\b\b\b\b\b\b\b\b\b\b\b\b\b\b\b\b\b\b\b\b\b\b\b\b\b\b\b\b\b\b\b\b\b\b\b\b\b\b\b\b\b\b\b\b\b\b\b\b\b\b\b\b\b\b\b\r563/563 [==============================] - 5s 9ms/step - loss: 1998744.5000 - root_mean_squared_error: 1413.7697 - val_loss: 290422.2812 - val_root_mean_squared_error: 538.9084\n",
            "Epoch 29/50\n",
            "554/563 [============================>.] - ETA: 0s - loss: 1970280.0000 - root_mean_squared_error: 1403.6666"
          ]
        },
        {
          "output_type": "stream",
          "name": "stderr",
          "text": [
            "WARNING:absl:Found untraced functions such as gru_cell_layer_call_fn, gru_cell_layer_call_and_return_conditional_losses while saving (showing 2 of 2). These functions will not be directly callable after loading.\n"
          ]
        },
        {
          "output_type": "stream",
          "name": "stdout",
          "text": [
            "INFO:tensorflow:Assets written to: model3/assets\n"
          ]
        },
        {
          "output_type": "stream",
          "name": "stderr",
          "text": [
            "INFO:tensorflow:Assets written to: model3/assets\n",
            "WARNING:absl:<keras.layers.recurrent.GRUCell object at 0x7f6855fd5bd0> has the same name 'GRUCell' as a built-in Keras object. Consider renaming <class 'keras.layers.recurrent.GRUCell'> to avoid naming conflicts when loading with `tf.keras.models.load_model`. If renaming is not possible, pass the object in the `custom_objects` parameter of the load function.\n"
          ]
        },
        {
          "output_type": "stream",
          "name": "stdout",
          "text": [
            "\b\b\b\b\b\b\b\b\b\b\b\b\b\b\b\b\b\b\b\b\b\b\b\b\b\b\b\b\b\b\b\b\b\b\b\b\b\b\b\b\b\b\b\b\b\b\b\b\b\b\b\b\b\b\b\b\b\b\b\b\b\b\b\b\b\b\b\b\b\b\b\b\b\b\b\b\b\b\b\b\b\b\b\b\b\b\b\b\b\b\b\b\b\b\b\b\b\b\b\b\b\b\b\b\b\b\b\b\r563/563 [==============================] - 5s 9ms/step - loss: 1971806.2500 - root_mean_squared_error: 1404.2102 - val_loss: 284316.8750 - val_root_mean_squared_error: 533.2137\n",
            "Epoch 30/50\n",
            "560/563 [============================>.] - ETA: 0s - loss: 1944309.0000 - root_mean_squared_error: 1394.3848"
          ]
        },
        {
          "output_type": "stream",
          "name": "stderr",
          "text": [
            "WARNING:absl:Found untraced functions such as gru_cell_layer_call_fn, gru_cell_layer_call_and_return_conditional_losses while saving (showing 2 of 2). These functions will not be directly callable after loading.\n"
          ]
        },
        {
          "output_type": "stream",
          "name": "stdout",
          "text": [
            "INFO:tensorflow:Assets written to: model3/assets\n"
          ]
        },
        {
          "output_type": "stream",
          "name": "stderr",
          "text": [
            "INFO:tensorflow:Assets written to: model3/assets\n",
            "WARNING:absl:<keras.layers.recurrent.GRUCell object at 0x7f6855fd5bd0> has the same name 'GRUCell' as a built-in Keras object. Consider renaming <class 'keras.layers.recurrent.GRUCell'> to avoid naming conflicts when loading with `tf.keras.models.load_model`. If renaming is not possible, pass the object in the `custom_objects` parameter of the load function.\n"
          ]
        },
        {
          "output_type": "stream",
          "name": "stdout",
          "text": [
            "\b\b\b\b\b\b\b\b\b\b\b\b\b\b\b\b\b\b\b\b\b\b\b\b\b\b\b\b\b\b\b\b\b\b\b\b\b\b\b\b\b\b\b\b\b\b\b\b\b\b\b\b\b\b\b\b\b\b\b\b\b\b\b\b\b\b\b\b\b\b\b\b\b\b\b\b\b\b\b\b\b\b\b\b\b\b\b\b\b\b\b\b\b\b\b\b\b\b\b\b\b\b\b\b\b\b\b\b\r563/563 [==============================] - 6s 10ms/step - loss: 1944413.5000 - root_mean_squared_error: 1394.4222 - val_loss: 278200.8125 - val_root_mean_squared_error: 527.4474\n",
            "Epoch 31/50\n",
            "556/563 [============================>.] - ETA: 0s - loss: 1919714.5000 - root_mean_squared_error: 1385.5376"
          ]
        },
        {
          "output_type": "stream",
          "name": "stderr",
          "text": [
            "WARNING:absl:Found untraced functions such as gru_cell_layer_call_fn, gru_cell_layer_call_and_return_conditional_losses while saving (showing 2 of 2). These functions will not be directly callable after loading.\n"
          ]
        },
        {
          "output_type": "stream",
          "name": "stdout",
          "text": [
            "INFO:tensorflow:Assets written to: model3/assets\n"
          ]
        },
        {
          "output_type": "stream",
          "name": "stderr",
          "text": [
            "INFO:tensorflow:Assets written to: model3/assets\n",
            "WARNING:absl:<keras.layers.recurrent.GRUCell object at 0x7f6855fd5bd0> has the same name 'GRUCell' as a built-in Keras object. Consider renaming <class 'keras.layers.recurrent.GRUCell'> to avoid naming conflicts when loading with `tf.keras.models.load_model`. If renaming is not possible, pass the object in the `custom_objects` parameter of the load function.\n"
          ]
        },
        {
          "output_type": "stream",
          "name": "stdout",
          "text": [
            "\b\b\b\b\b\b\b\b\b\b\b\b\b\b\b\b\b\b\b\b\b\b\b\b\b\b\b\b\b\b\b\b\b\b\b\b\b\b\b\b\b\b\b\b\b\b\b\b\b\b\b\b\b\b\b\b\b\b\b\b\b\b\b\b\b\b\b\b\b\b\b\b\b\b\b\b\b\b\b\b\b\b\b\b\b\b\b\b\b\b\b\b\b\b\b\b\b\b\b\b\b\b\b\b\b\b\b\b\r563/563 [==============================] - 5s 9ms/step - loss: 1916660.6250 - root_mean_squared_error: 1384.4351 - val_loss: 272089.2188 - val_root_mean_squared_error: 521.6217\n",
            "Epoch 32/50\n",
            "554/563 [============================>.] - ETA: 0s - loss: 1884815.1250 - root_mean_squared_error: 1372.8856"
          ]
        },
        {
          "output_type": "stream",
          "name": "stderr",
          "text": [
            "WARNING:absl:Found untraced functions such as gru_cell_layer_call_fn, gru_cell_layer_call_and_return_conditional_losses while saving (showing 2 of 2). These functions will not be directly callable after loading.\n"
          ]
        },
        {
          "output_type": "stream",
          "name": "stdout",
          "text": [
            "INFO:tensorflow:Assets written to: model3/assets\n"
          ]
        },
        {
          "output_type": "stream",
          "name": "stderr",
          "text": [
            "INFO:tensorflow:Assets written to: model3/assets\n",
            "WARNING:absl:<keras.layers.recurrent.GRUCell object at 0x7f6855fd5bd0> has the same name 'GRUCell' as a built-in Keras object. Consider renaming <class 'keras.layers.recurrent.GRUCell'> to avoid naming conflicts when loading with `tf.keras.models.load_model`. If renaming is not possible, pass the object in the `custom_objects` parameter of the load function.\n"
          ]
        },
        {
          "output_type": "stream",
          "name": "stdout",
          "text": [
            "\b\b\b\b\b\b\b\b\b\b\b\b\b\b\b\b\b\b\b\b\b\b\b\b\b\b\b\b\b\b\b\b\b\b\b\b\b\b\b\b\b\b\b\b\b\b\b\b\b\b\b\b\b\b\b\b\b\b\b\b\b\b\b\b\b\b\b\b\b\b\b\b\b\b\b\b\b\b\b\b\b\b\b\b\b\b\b\b\b\b\b\b\b\b\b\b\b\b\b\b\b\b\b\b\b\b\b\b\r563/563 [==============================] - 6s 10ms/step - loss: 1888568.8750 - root_mean_squared_error: 1374.2521 - val_loss: 265987.9062 - val_root_mean_squared_error: 515.7402\n",
            "Epoch 33/50\n",
            "563/563 [==============================] - ETA: 0s - loss: 1860080.2500 - root_mean_squared_error: 1363.8475"
          ]
        },
        {
          "output_type": "stream",
          "name": "stderr",
          "text": [
            "WARNING:absl:Found untraced functions such as gru_cell_layer_call_fn, gru_cell_layer_call_and_return_conditional_losses while saving (showing 2 of 2). These functions will not be directly callable after loading.\n"
          ]
        },
        {
          "output_type": "stream",
          "name": "stdout",
          "text": [
            "INFO:tensorflow:Assets written to: model3/assets\n"
          ]
        },
        {
          "output_type": "stream",
          "name": "stderr",
          "text": [
            "INFO:tensorflow:Assets written to: model3/assets\n",
            "WARNING:absl:<keras.layers.recurrent.GRUCell object at 0x7f6855fd5bd0> has the same name 'GRUCell' as a built-in Keras object. Consider renaming <class 'keras.layers.recurrent.GRUCell'> to avoid naming conflicts when loading with `tf.keras.models.load_model`. If renaming is not possible, pass the object in the `custom_objects` parameter of the load function.\n"
          ]
        },
        {
          "output_type": "stream",
          "name": "stdout",
          "text": [
            "\b\b\b\b\b\b\b\b\b\b\b\b\b\b\b\b\b\b\b\b\b\b\b\b\b\b\b\b\b\b\b\b\b\b\b\b\b\b\b\b\b\b\b\b\b\b\b\b\b\b\b\b\b\b\b\b\b\b\b\b\b\b\b\b\b\b\b\b\b\b\b\b\b\b\b\b\b\b\b\b\b\b\b\b\b\b\b\b\b\b\b\b\b\b\b\b\b\b\b\b\b\b\b\b\b\b\b\b\r563/563 [==============================] - 5s 9ms/step - loss: 1860080.2500 - root_mean_squared_error: 1363.8475 - val_loss: 259906.4531 - val_root_mean_squared_error: 509.8102\n",
            "Epoch 34/50\n",
            "558/563 [============================>.] - ETA: 0s - loss: 1829749.0000 - root_mean_squared_error: 1352.6821"
          ]
        },
        {
          "output_type": "stream",
          "name": "stderr",
          "text": [
            "WARNING:absl:Found untraced functions such as gru_cell_layer_call_fn, gru_cell_layer_call_and_return_conditional_losses while saving (showing 2 of 2). These functions will not be directly callable after loading.\n"
          ]
        },
        {
          "output_type": "stream",
          "name": "stdout",
          "text": [
            "INFO:tensorflow:Assets written to: model3/assets\n"
          ]
        },
        {
          "output_type": "stream",
          "name": "stderr",
          "text": [
            "INFO:tensorflow:Assets written to: model3/assets\n",
            "WARNING:absl:<keras.layers.recurrent.GRUCell object at 0x7f6855fd5bd0> has the same name 'GRUCell' as a built-in Keras object. Consider renaming <class 'keras.layers.recurrent.GRUCell'> to avoid naming conflicts when loading with `tf.keras.models.load_model`. If renaming is not possible, pass the object in the `custom_objects` parameter of the load function.\n"
          ]
        },
        {
          "output_type": "stream",
          "name": "stdout",
          "text": [
            "\b\b\b\b\b\b\b\b\b\b\b\b\b\b\b\b\b\b\b\b\b\b\b\b\b\b\b\b\b\b\b\b\b\b\b\b\b\b\b\b\b\b\b\b\b\b\b\b\b\b\b\b\b\b\b\b\b\b\b\b\b\b\b\b\b\b\b\b\b\b\b\b\b\b\b\b\b\b\b\b\b\b\b\b\b\b\b\b\b\b\b\b\b\b\b\b\b\b\b\b\b\b\b\b\b\b\b\b\r563/563 [==============================] - 6s 10ms/step - loss: 1831330.8750 - root_mean_squared_error: 1353.2667 - val_loss: 253834.1250 - val_root_mean_squared_error: 503.8195\n",
            "Epoch 35/50\n",
            "561/563 [============================>.] - ETA: 0s - loss: 1802644.8750 - root_mean_squared_error: 1342.6261"
          ]
        },
        {
          "output_type": "stream",
          "name": "stderr",
          "text": [
            "WARNING:absl:Found untraced functions such as gru_cell_layer_call_fn, gru_cell_layer_call_and_return_conditional_losses while saving (showing 2 of 2). These functions will not be directly callable after loading.\n"
          ]
        },
        {
          "output_type": "stream",
          "name": "stdout",
          "text": [
            "INFO:tensorflow:Assets written to: model3/assets\n"
          ]
        },
        {
          "output_type": "stream",
          "name": "stderr",
          "text": [
            "INFO:tensorflow:Assets written to: model3/assets\n",
            "WARNING:absl:<keras.layers.recurrent.GRUCell object at 0x7f6855fd5bd0> has the same name 'GRUCell' as a built-in Keras object. Consider renaming <class 'keras.layers.recurrent.GRUCell'> to avoid naming conflicts when loading with `tf.keras.models.load_model`. If renaming is not possible, pass the object in the `custom_objects` parameter of the load function.\n"
          ]
        },
        {
          "output_type": "stream",
          "name": "stdout",
          "text": [
            "\b\b\b\b\b\b\b\b\b\b\b\b\b\b\b\b\b\b\b\b\b\b\b\b\b\b\b\b\b\b\b\b\b\b\b\b\b\b\b\b\b\b\b\b\b\b\b\b\b\b\b\b\b\b\b\b\b\b\b\b\b\b\b\b\b\b\b\b\b\b\b\b\b\b\b\b\b\b\b\b\b\b\b\b\b\b\b\b\b\b\b\b\b\b\b\b\b\b\b\b\b\b\b\b\b\b\b\b\r563/563 [==============================] - 6s 10ms/step - loss: 1802271.0000 - root_mean_squared_error: 1342.4868 - val_loss: 247759.4531 - val_root_mean_squared_error: 497.7544\n",
            "Epoch 36/50\n",
            "559/563 [============================>.] - ETA: 0s - loss: 1773487.1250 - root_mean_squared_error: 1331.7234"
          ]
        },
        {
          "output_type": "stream",
          "name": "stderr",
          "text": [
            "WARNING:absl:Found untraced functions such as gru_cell_layer_call_fn, gru_cell_layer_call_and_return_conditional_losses while saving (showing 2 of 2). These functions will not be directly callable after loading.\n"
          ]
        },
        {
          "output_type": "stream",
          "name": "stdout",
          "text": [
            "INFO:tensorflow:Assets written to: model3/assets\n"
          ]
        },
        {
          "output_type": "stream",
          "name": "stderr",
          "text": [
            "INFO:tensorflow:Assets written to: model3/assets\n",
            "WARNING:absl:<keras.layers.recurrent.GRUCell object at 0x7f6855fd5bd0> has the same name 'GRUCell' as a built-in Keras object. Consider renaming <class 'keras.layers.recurrent.GRUCell'> to avoid naming conflicts when loading with `tf.keras.models.load_model`. If renaming is not possible, pass the object in the `custom_objects` parameter of the load function.\n"
          ]
        },
        {
          "output_type": "stream",
          "name": "stdout",
          "text": [
            "\b\b\b\b\b\b\b\b\b\b\b\b\b\b\b\b\b\b\b\b\b\b\b\b\b\b\b\b\b\b\b\b\b\b\b\b\b\b\b\b\b\b\b\b\b\b\b\b\b\b\b\b\b\b\b\b\b\b\b\b\b\b\b\b\b\b\b\b\b\b\b\b\b\b\b\b\b\b\b\b\b\b\b\b\b\b\b\b\b\b\b\b\b\b\b\b\b\b\b\b\b\b\b\b\b\b\b\b\r563/563 [==============================] - 5s 9ms/step - loss: 1772939.5000 - root_mean_squared_error: 1331.5177 - val_loss: 241736.7344 - val_root_mean_squared_error: 491.6673\n",
            "Epoch 37/50\n",
            "555/563 [============================>.] - ETA: 0s - loss: 1743727.7500 - root_mean_squared_error: 1320.5028"
          ]
        },
        {
          "output_type": "stream",
          "name": "stderr",
          "text": [
            "WARNING:absl:Found untraced functions such as gru_cell_layer_call_fn, gru_cell_layer_call_and_return_conditional_losses while saving (showing 2 of 2). These functions will not be directly callable after loading.\n"
          ]
        },
        {
          "output_type": "stream",
          "name": "stdout",
          "text": [
            "INFO:tensorflow:Assets written to: model3/assets\n"
          ]
        },
        {
          "output_type": "stream",
          "name": "stderr",
          "text": [
            "INFO:tensorflow:Assets written to: model3/assets\n",
            "WARNING:absl:<keras.layers.recurrent.GRUCell object at 0x7f6855fd5bd0> has the same name 'GRUCell' as a built-in Keras object. Consider renaming <class 'keras.layers.recurrent.GRUCell'> to avoid naming conflicts when loading with `tf.keras.models.load_model`. If renaming is not possible, pass the object in the `custom_objects` parameter of the load function.\n"
          ]
        },
        {
          "output_type": "stream",
          "name": "stdout",
          "text": [
            "\b\b\b\b\b\b\b\b\b\b\b\b\b\b\b\b\b\b\b\b\b\b\b\b\b\b\b\b\b\b\b\b\b\b\b\b\b\b\b\b\b\b\b\b\b\b\b\b\b\b\b\b\b\b\b\b\b\b\b\b\b\b\b\b\b\b\b\b\b\b\b\b\b\b\b\b\b\b\b\b\b\b\b\b\b\b\b\b\b\b\b\b\b\b\b\b\b\b\b\b\b\b\b\b\b\b\b\b\r563/563 [==============================] - 5s 9ms/step - loss: 1743365.6250 - root_mean_squared_error: 1320.3657 - val_loss: 235776.9688 - val_root_mean_squared_error: 485.5687\n",
            "Epoch 38/50\n",
            "558/563 [============================>.] - ETA: 0s - loss: 1712303.2500 - root_mean_squared_error: 1308.5500"
          ]
        },
        {
          "output_type": "stream",
          "name": "stderr",
          "text": [
            "WARNING:absl:Found untraced functions such as gru_cell_layer_call_fn, gru_cell_layer_call_and_return_conditional_losses while saving (showing 2 of 2). These functions will not be directly callable after loading.\n"
          ]
        },
        {
          "output_type": "stream",
          "name": "stdout",
          "text": [
            "INFO:tensorflow:Assets written to: model3/assets\n"
          ]
        },
        {
          "output_type": "stream",
          "name": "stderr",
          "text": [
            "INFO:tensorflow:Assets written to: model3/assets\n",
            "WARNING:absl:<keras.layers.recurrent.GRUCell object at 0x7f6855fd5bd0> has the same name 'GRUCell' as a built-in Keras object. Consider renaming <class 'keras.layers.recurrent.GRUCell'> to avoid naming conflicts when loading with `tf.keras.models.load_model`. If renaming is not possible, pass the object in the `custom_objects` parameter of the load function.\n"
          ]
        },
        {
          "output_type": "stream",
          "name": "stdout",
          "text": [
            "\b\b\b\b\b\b\b\b\b\b\b\b\b\b\b\b\b\b\b\b\b\b\b\b\b\b\b\b\b\b\b\b\b\b\b\b\b\b\b\b\b\b\b\b\b\b\b\b\b\b\b\b\b\b\b\b\b\b\b\b\b\b\b\b\b\b\b\b\b\b\b\b\b\b\b\b\b\b\b\b\b\b\b\b\b\b\b\b\b\b\b\b\b\b\b\b\b\b\b\b\b\b\b\b\b\b\b\b\r563/563 [==============================] - 6s 10ms/step - loss: 1713533.5000 - root_mean_squared_error: 1309.0200 - val_loss: 229841.8281 - val_root_mean_squared_error: 479.4182\n",
            "Epoch 39/50\n",
            "553/563 [============================>.] - ETA: 0s - loss: 1683229.5000 - root_mean_squared_error: 1297.3933"
          ]
        },
        {
          "output_type": "stream",
          "name": "stderr",
          "text": [
            "WARNING:absl:Found untraced functions such as gru_cell_layer_call_fn, gru_cell_layer_call_and_return_conditional_losses while saving (showing 2 of 2). These functions will not be directly callable after loading.\n"
          ]
        },
        {
          "output_type": "stream",
          "name": "stdout",
          "text": [
            "INFO:tensorflow:Assets written to: model3/assets\n"
          ]
        },
        {
          "output_type": "stream",
          "name": "stderr",
          "text": [
            "INFO:tensorflow:Assets written to: model3/assets\n",
            "WARNING:absl:<keras.layers.recurrent.GRUCell object at 0x7f6855fd5bd0> has the same name 'GRUCell' as a built-in Keras object. Consider renaming <class 'keras.layers.recurrent.GRUCell'> to avoid naming conflicts when loading with `tf.keras.models.load_model`. If renaming is not possible, pass the object in the `custom_objects` parameter of the load function.\n"
          ]
        },
        {
          "output_type": "stream",
          "name": "stdout",
          "text": [
            "\b\b\b\b\b\b\b\b\b\b\b\b\b\b\b\b\b\b\b\b\b\b\b\b\b\b\b\b\b\b\b\b\b\b\b\b\b\b\b\b\b\b\b\b\b\b\b\b\b\b\b\b\b\b\b\b\b\b\b\b\b\b\b\b\b\b\b\b\b\b\b\b\b\b\b\b\b\b\b\b\b\b\b\b\b\b\b\b\b\b\b\b\b\b\b\b\b\b\b\b\b\b\b\b\b\b\b\b\r563/563 [==============================] - 5s 9ms/step - loss: 1683501.3750 - root_mean_squared_error: 1297.4982 - val_loss: 223933.2656 - val_root_mean_squared_error: 473.2159\n",
            "Epoch 40/50\n",
            "563/563 [==============================] - ETA: 0s - loss: 1653255.3750 - root_mean_squared_error: 1285.7898"
          ]
        },
        {
          "output_type": "stream",
          "name": "stderr",
          "text": [
            "WARNING:absl:Found untraced functions such as gru_cell_layer_call_fn, gru_cell_layer_call_and_return_conditional_losses while saving (showing 2 of 2). These functions will not be directly callable after loading.\n"
          ]
        },
        {
          "output_type": "stream",
          "name": "stdout",
          "text": [
            "INFO:tensorflow:Assets written to: model3/assets\n"
          ]
        },
        {
          "output_type": "stream",
          "name": "stderr",
          "text": [
            "INFO:tensorflow:Assets written to: model3/assets\n",
            "WARNING:absl:<keras.layers.recurrent.GRUCell object at 0x7f6855fd5bd0> has the same name 'GRUCell' as a built-in Keras object. Consider renaming <class 'keras.layers.recurrent.GRUCell'> to avoid naming conflicts when loading with `tf.keras.models.load_model`. If renaming is not possible, pass the object in the `custom_objects` parameter of the load function.\n"
          ]
        },
        {
          "output_type": "stream",
          "name": "stdout",
          "text": [
            "\b\b\b\b\b\b\b\b\b\b\b\b\b\b\b\b\b\b\b\b\b\b\b\b\b\b\b\b\b\b\b\b\b\b\b\b\b\b\b\b\b\b\b\b\b\b\b\b\b\b\b\b\b\b\b\b\b\b\b\b\b\b\b\b\b\b\b\b\b\b\b\b\b\b\b\b\b\b\b\b\b\b\b\b\b\b\b\b\b\b\b\b\b\b\b\b\b\b\b\b\b\b\b\b\b\b\b\b\r563/563 [==============================] - 6s 10ms/step - loss: 1653255.3750 - root_mean_squared_error: 1285.7898 - val_loss: 218014.6875 - val_root_mean_squared_error: 466.9204\n",
            "Epoch 41/50\n",
            "553/563 [============================>.] - ETA: 0s - loss: 1622636.6250 - root_mean_squared_error: 1273.8275"
          ]
        },
        {
          "output_type": "stream",
          "name": "stderr",
          "text": [
            "WARNING:absl:Found untraced functions such as gru_cell_layer_call_fn, gru_cell_layer_call_and_return_conditional_losses while saving (showing 2 of 2). These functions will not be directly callable after loading.\n"
          ]
        },
        {
          "output_type": "stream",
          "name": "stdout",
          "text": [
            "INFO:tensorflow:Assets written to: model3/assets\n"
          ]
        },
        {
          "output_type": "stream",
          "name": "stderr",
          "text": [
            "INFO:tensorflow:Assets written to: model3/assets\n",
            "WARNING:absl:<keras.layers.recurrent.GRUCell object at 0x7f6855fd5bd0> has the same name 'GRUCell' as a built-in Keras object. Consider renaming <class 'keras.layers.recurrent.GRUCell'> to avoid naming conflicts when loading with `tf.keras.models.load_model`. If renaming is not possible, pass the object in the `custom_objects` parameter of the load function.\n"
          ]
        },
        {
          "output_type": "stream",
          "name": "stdout",
          "text": [
            "\b\b\b\b\b\b\b\b\b\b\b\b\b\b\b\b\b\b\b\b\b\b\b\b\b\b\b\b\b\b\b\b\b\b\b\b\b\b\b\b\b\b\b\b\b\b\b\b\b\b\b\b\b\b\b\b\b\b\b\b\b\b\b\b\b\b\b\b\b\b\b\b\b\b\b\b\b\b\b\b\b\b\b\b\b\b\b\b\b\b\b\b\b\b\b\b\b\b\b\b\b\b\b\b\b\b\b\b\r563/563 [==============================] - 5s 9ms/step - loss: 1622860.1250 - root_mean_squared_error: 1273.9153 - val_loss: 212204.6094 - val_root_mean_squared_error: 460.6567\n",
            "Epoch 42/50\n",
            "553/563 [============================>.] - ETA: 0s - loss: 1592704.3750 - root_mean_squared_error: 1262.0239"
          ]
        },
        {
          "output_type": "stream",
          "name": "stderr",
          "text": [
            "WARNING:absl:Found untraced functions such as gru_cell_layer_call_fn, gru_cell_layer_call_and_return_conditional_losses while saving (showing 2 of 2). These functions will not be directly callable after loading.\n"
          ]
        },
        {
          "output_type": "stream",
          "name": "stdout",
          "text": [
            "INFO:tensorflow:Assets written to: model3/assets\n"
          ]
        },
        {
          "output_type": "stream",
          "name": "stderr",
          "text": [
            "INFO:tensorflow:Assets written to: model3/assets\n",
            "WARNING:absl:<keras.layers.recurrent.GRUCell object at 0x7f6855fd5bd0> has the same name 'GRUCell' as a built-in Keras object. Consider renaming <class 'keras.layers.recurrent.GRUCell'> to avoid naming conflicts when loading with `tf.keras.models.load_model`. If renaming is not possible, pass the object in the `custom_objects` parameter of the load function.\n"
          ]
        },
        {
          "output_type": "stream",
          "name": "stdout",
          "text": [
            "\b\b\b\b\b\b\b\b\b\b\b\b\b\b\b\b\b\b\b\b\b\b\b\b\b\b\b\b\b\b\b\b\b\b\b\b\b\b\b\b\b\b\b\b\b\b\b\b\b\b\b\b\b\b\b\b\b\b\b\b\b\b\b\b\b\b\b\b\b\b\b\b\b\b\b\b\b\b\b\b\b\b\b\b\b\b\b\b\b\b\b\b\b\b\b\b\b\b\b\b\b\b\b\b\b\b\b\b\r563/563 [==============================] - 6s 10ms/step - loss: 1592293.7500 - root_mean_squared_error: 1261.8612 - val_loss: 206457.3281 - val_root_mean_squared_error: 454.3758\n",
            "Epoch 43/50\n",
            "552/563 [============================>.] - ETA: 0s - loss: 1559158.5000 - root_mean_squared_error: 1248.6627"
          ]
        },
        {
          "output_type": "stream",
          "name": "stderr",
          "text": [
            "WARNING:absl:Found untraced functions such as gru_cell_layer_call_fn, gru_cell_layer_call_and_return_conditional_losses while saving (showing 2 of 2). These functions will not be directly callable after loading.\n"
          ]
        },
        {
          "output_type": "stream",
          "name": "stdout",
          "text": [
            "INFO:tensorflow:Assets written to: model3/assets\n"
          ]
        },
        {
          "output_type": "stream",
          "name": "stderr",
          "text": [
            "INFO:tensorflow:Assets written to: model3/assets\n",
            "WARNING:absl:<keras.layers.recurrent.GRUCell object at 0x7f6855fd5bd0> has the same name 'GRUCell' as a built-in Keras object. Consider renaming <class 'keras.layers.recurrent.GRUCell'> to avoid naming conflicts when loading with `tf.keras.models.load_model`. If renaming is not possible, pass the object in the `custom_objects` parameter of the load function.\n"
          ]
        },
        {
          "output_type": "stream",
          "name": "stdout",
          "text": [
            "\b\b\b\b\b\b\b\b\b\b\b\b\b\b\b\b\b\b\b\b\b\b\b\b\b\b\b\b\b\b\b\b\b\b\b\b\b\b\b\b\b\b\b\b\b\b\b\b\b\b\b\b\b\b\b\b\b\b\b\b\b\b\b\b\b\b\b\b\b\b\b\b\b\b\b\b\b\b\b\b\b\b\b\b\b\b\b\b\b\b\b\b\b\b\b\b\b\b\b\b\b\b\b\b\b\b\b\b\r563/563 [==============================] - 5s 9ms/step - loss: 1561621.6250 - root_mean_squared_error: 1249.6486 - val_loss: 200810.4219 - val_root_mean_squared_error: 448.1187\n",
            "Epoch 44/50\n",
            "559/563 [============================>.] - ETA: 0s - loss: 1531602.0000 - root_mean_squared_error: 1237.5791"
          ]
        },
        {
          "output_type": "stream",
          "name": "stderr",
          "text": [
            "WARNING:absl:Found untraced functions such as gru_cell_layer_call_fn, gru_cell_layer_call_and_return_conditional_losses while saving (showing 2 of 2). These functions will not be directly callable after loading.\n"
          ]
        },
        {
          "output_type": "stream",
          "name": "stdout",
          "text": [
            "INFO:tensorflow:Assets written to: model3/assets\n"
          ]
        },
        {
          "output_type": "stream",
          "name": "stderr",
          "text": [
            "INFO:tensorflow:Assets written to: model3/assets\n",
            "WARNING:absl:<keras.layers.recurrent.GRUCell object at 0x7f6855fd5bd0> has the same name 'GRUCell' as a built-in Keras object. Consider renaming <class 'keras.layers.recurrent.GRUCell'> to avoid naming conflicts when loading with `tf.keras.models.load_model`. If renaming is not possible, pass the object in the `custom_objects` parameter of the load function.\n"
          ]
        },
        {
          "output_type": "stream",
          "name": "stdout",
          "text": [
            "\b\b\b\b\b\b\b\b\b\b\b\b\b\b\b\b\b\b\b\b\b\b\b\b\b\b\b\b\b\b\b\b\b\b\b\b\b\b\b\b\b\b\b\b\b\b\b\b\b\b\b\b\b\b\b\b\b\b\b\b\b\b\b\b\b\b\b\b\b\b\b\b\b\b\b\b\b\b\b\b\b\b\b\b\b\b\b\b\b\b\b\b\b\b\b\b\b\b\b\b\b\b\b\b\b\b\b\b\r563/563 [==============================] - 6s 10ms/step - loss: 1530834.3750 - root_mean_squared_error: 1237.2689 - val_loss: 195204.7812 - val_root_mean_squared_error: 441.8199\n",
            "Epoch 45/50\n",
            "562/563 [============================>.] - ETA: 0s - loss: 1498953.7500 - root_mean_squared_error: 1224.3176"
          ]
        },
        {
          "output_type": "stream",
          "name": "stderr",
          "text": [
            "WARNING:absl:Found untraced functions such as gru_cell_layer_call_fn, gru_cell_layer_call_and_return_conditional_losses while saving (showing 2 of 2). These functions will not be directly callable after loading.\n"
          ]
        },
        {
          "output_type": "stream",
          "name": "stdout",
          "text": [
            "INFO:tensorflow:Assets written to: model3/assets\n"
          ]
        },
        {
          "output_type": "stream",
          "name": "stderr",
          "text": [
            "INFO:tensorflow:Assets written to: model3/assets\n",
            "WARNING:absl:<keras.layers.recurrent.GRUCell object at 0x7f6855fd5bd0> has the same name 'GRUCell' as a built-in Keras object. Consider renaming <class 'keras.layers.recurrent.GRUCell'> to avoid naming conflicts when loading with `tf.keras.models.load_model`. If renaming is not possible, pass the object in the `custom_objects` parameter of the load function.\n"
          ]
        },
        {
          "output_type": "stream",
          "name": "stdout",
          "text": [
            "\b\b\b\b\b\b\b\b\b\b\b\b\b\b\b\b\b\b\b\b\b\b\b\b\b\b\b\b\b\b\b\b\b\b\b\b\b\b\b\b\b\b\b\b\b\b\b\b\b\b\b\b\b\b\b\b\b\b\b\b\b\b\b\b\b\b\b\b\b\b\b\b\b\b\b\b\b\b\b\b\b\b\b\b\b\b\b\b\b\b\b\b\b\b\b\b\b\b\b\b\b\b\b\b\b\b\b\b\r563/563 [==============================] - 5s 9ms/step - loss: 1499961.3750 - root_mean_squared_error: 1224.7291 - val_loss: 189628.8125 - val_root_mean_squared_error: 435.4639\n",
            "Epoch 46/50\n",
            "552/563 [============================>.] - ETA: 0s - loss: 1471382.0000 - root_mean_squared_error: 1213.0054"
          ]
        },
        {
          "output_type": "stream",
          "name": "stderr",
          "text": [
            "WARNING:absl:Found untraced functions such as gru_cell_layer_call_fn, gru_cell_layer_call_and_return_conditional_losses while saving (showing 2 of 2). These functions will not be directly callable after loading.\n"
          ]
        },
        {
          "output_type": "stream",
          "name": "stdout",
          "text": [
            "INFO:tensorflow:Assets written to: model3/assets\n"
          ]
        },
        {
          "output_type": "stream",
          "name": "stderr",
          "text": [
            "INFO:tensorflow:Assets written to: model3/assets\n",
            "WARNING:absl:<keras.layers.recurrent.GRUCell object at 0x7f6855fd5bd0> has the same name 'GRUCell' as a built-in Keras object. Consider renaming <class 'keras.layers.recurrent.GRUCell'> to avoid naming conflicts when loading with `tf.keras.models.load_model`. If renaming is not possible, pass the object in the `custom_objects` parameter of the load function.\n"
          ]
        },
        {
          "output_type": "stream",
          "name": "stdout",
          "text": [
            "\b\b\b\b\b\b\b\b\b\b\b\b\b\b\b\b\b\b\b\b\b\b\b\b\b\b\b\b\b\b\b\b\b\b\b\b\b\b\b\b\b\b\b\b\b\b\b\b\b\b\b\b\b\b\b\b\b\b\b\b\b\b\b\b\b\b\b\b\b\b\b\b\b\b\b\b\b\b\b\b\b\b\b\b\b\b\b\b\b\b\b\b\b\b\b\b\b\b\b\b\b\b\b\b\b\b\b\b\r563/563 [==============================] - 6s 10ms/step - loss: 1468996.8750 - root_mean_squared_error: 1212.0219 - val_loss: 184279.4844 - val_root_mean_squared_error: 429.2779\n",
            "Epoch 47/50\n",
            "549/563 [============================>.] - ETA: 0s - loss: 1439178.2500 - root_mean_squared_error: 1199.6576"
          ]
        },
        {
          "output_type": "stream",
          "name": "stderr",
          "text": [
            "WARNING:absl:Found untraced functions such as gru_cell_layer_call_fn, gru_cell_layer_call_and_return_conditional_losses while saving (showing 2 of 2). These functions will not be directly callable after loading.\n"
          ]
        },
        {
          "output_type": "stream",
          "name": "stdout",
          "text": [
            "INFO:tensorflow:Assets written to: model3/assets\n"
          ]
        },
        {
          "output_type": "stream",
          "name": "stderr",
          "text": [
            "INFO:tensorflow:Assets written to: model3/assets\n",
            "WARNING:absl:<keras.layers.recurrent.GRUCell object at 0x7f6855fd5bd0> has the same name 'GRUCell' as a built-in Keras object. Consider renaming <class 'keras.layers.recurrent.GRUCell'> to avoid naming conflicts when loading with `tf.keras.models.load_model`. If renaming is not possible, pass the object in the `custom_objects` parameter of the load function.\n"
          ]
        },
        {
          "output_type": "stream",
          "name": "stdout",
          "text": [
            "\b\b\b\b\b\b\b\b\b\b\b\b\b\b\b\b\b\b\b\b\b\b\b\b\b\b\b\b\b\b\b\b\b\b\b\b\b\b\b\b\b\b\b\b\b\b\b\b\b\b\b\b\b\b\b\b\b\b\b\b\b\b\b\b\b\b\b\b\b\b\b\b\b\b\b\b\b\b\b\b\b\b\b\b\b\b\b\b\b\b\b\b\b\b\b\b\b\b\b\b\b\b\b\b\b\b\b\b\r563/563 [==============================] - 5s 9ms/step - loss: 1437985.7500 - root_mean_squared_error: 1199.1604 - val_loss: 179151.0156 - val_root_mean_squared_error: 423.2624\n",
            "Epoch 48/50\n",
            "553/563 [============================>.] - ETA: 0s - loss: 1406500.1250 - root_mean_squared_error: 1185.9596"
          ]
        },
        {
          "output_type": "stream",
          "name": "stderr",
          "text": [
            "WARNING:absl:Found untraced functions such as gru_cell_layer_call_fn, gru_cell_layer_call_and_return_conditional_losses while saving (showing 2 of 2). These functions will not be directly callable after loading.\n"
          ]
        },
        {
          "output_type": "stream",
          "name": "stdout",
          "text": [
            "INFO:tensorflow:Assets written to: model3/assets\n"
          ]
        },
        {
          "output_type": "stream",
          "name": "stderr",
          "text": [
            "INFO:tensorflow:Assets written to: model3/assets\n",
            "WARNING:absl:<keras.layers.recurrent.GRUCell object at 0x7f6855fd5bd0> has the same name 'GRUCell' as a built-in Keras object. Consider renaming <class 'keras.layers.recurrent.GRUCell'> to avoid naming conflicts when loading with `tf.keras.models.load_model`. If renaming is not possible, pass the object in the `custom_objects` parameter of the load function.\n"
          ]
        },
        {
          "output_type": "stream",
          "name": "stdout",
          "text": [
            "\b\b\b\b\b\b\b\b\b\b\b\b\b\b\b\b\b\b\b\b\b\b\b\b\b\b\b\b\b\b\b\b\b\b\b\b\b\b\b\b\b\b\b\b\b\b\b\b\b\b\b\b\b\b\b\b\b\b\b\b\b\b\b\b\b\b\b\b\b\b\b\b\b\b\b\b\b\b\b\b\b\b\b\b\b\b\b\b\b\b\b\b\b\b\b\b\b\b\b\b\b\b\b\b\b\b\b\b\r563/563 [==============================] - 6s 10ms/step - loss: 1406900.6250 - root_mean_squared_error: 1186.1284 - val_loss: 173569.2812 - val_root_mean_squared_error: 416.6165\n",
            "Epoch 49/50\n",
            "557/563 [============================>.] - ETA: 0s - loss: 1375997.8750 - root_mean_squared_error: 1173.0294"
          ]
        },
        {
          "output_type": "stream",
          "name": "stderr",
          "text": [
            "WARNING:absl:Found untraced functions such as gru_cell_layer_call_fn, gru_cell_layer_call_and_return_conditional_losses while saving (showing 2 of 2). These functions will not be directly callable after loading.\n"
          ]
        },
        {
          "output_type": "stream",
          "name": "stdout",
          "text": [
            "INFO:tensorflow:Assets written to: model3/assets\n"
          ]
        },
        {
          "output_type": "stream",
          "name": "stderr",
          "text": [
            "INFO:tensorflow:Assets written to: model3/assets\n",
            "WARNING:absl:<keras.layers.recurrent.GRUCell object at 0x7f6855fd5bd0> has the same name 'GRUCell' as a built-in Keras object. Consider renaming <class 'keras.layers.recurrent.GRUCell'> to avoid naming conflicts when loading with `tf.keras.models.load_model`. If renaming is not possible, pass the object in the `custom_objects` parameter of the load function.\n"
          ]
        },
        {
          "output_type": "stream",
          "name": "stdout",
          "text": [
            "\b\b\b\b\b\b\b\b\b\b\b\b\b\b\b\b\b\b\b\b\b\b\b\b\b\b\b\b\b\b\b\b\b\b\b\b\b\b\b\b\b\b\b\b\b\b\b\b\b\b\b\b\b\b\b\b\b\b\b\b\b\b\b\b\b\b\b\b\b\b\b\b\b\b\b\b\b\b\b\b\b\b\b\b\b\b\b\b\b\b\b\b\b\b\b\b\b\b\b\b\b\b\b\b\b\b\b\b\r563/563 [==============================] - 5s 9ms/step - loss: 1375888.3750 - root_mean_squared_error: 1172.9827 - val_loss: 168296.9844 - val_root_mean_squared_error: 410.2401\n",
            "Epoch 50/50\n",
            "562/563 [============================>.] - ETA: 0s - loss: 1344197.7500 - root_mean_squared_error: 1159.3954"
          ]
        },
        {
          "output_type": "stream",
          "name": "stderr",
          "text": [
            "WARNING:absl:Found untraced functions such as gru_cell_layer_call_fn, gru_cell_layer_call_and_return_conditional_losses while saving (showing 2 of 2). These functions will not be directly callable after loading.\n"
          ]
        },
        {
          "output_type": "stream",
          "name": "stdout",
          "text": [
            "INFO:tensorflow:Assets written to: model3/assets\n"
          ]
        },
        {
          "output_type": "stream",
          "name": "stderr",
          "text": [
            "INFO:tensorflow:Assets written to: model3/assets\n",
            "WARNING:absl:<keras.layers.recurrent.GRUCell object at 0x7f6855fd5bd0> has the same name 'GRUCell' as a built-in Keras object. Consider renaming <class 'keras.layers.recurrent.GRUCell'> to avoid naming conflicts when loading with `tf.keras.models.load_model`. If renaming is not possible, pass the object in the `custom_objects` parameter of the load function.\n"
          ]
        },
        {
          "output_type": "stream",
          "name": "stdout",
          "text": [
            "\b\b\b\b\b\b\b\b\b\b\b\b\b\b\b\b\b\b\b\b\b\b\b\b\b\b\b\b\b\b\b\b\b\b\b\b\b\b\b\b\b\b\b\b\b\b\b\b\b\b\b\b\b\b\b\b\b\b\b\b\b\b\b\b\b\b\b\b\b\b\b\b\b\b\b\b\b\b\b\b\b\b\b\b\b\b\b\b\b\b\b\b\b\b\b\b\b\b\b\b\b\b\b\b\b\b\b\b\r563/563 [==============================] - 6s 10ms/step - loss: 1344861.3750 - root_mean_squared_error: 1159.6815 - val_loss: 163125.2500 - val_root_mean_squared_error: 403.8877\n"
          ]
        },
        {
          "output_type": "execute_result",
          "data": {
            "text/plain": [
              "<keras.callbacks.History at 0x7f68529e8ad0>"
            ]
          },
          "metadata": {},
          "execution_count": 42
        }
      ]
    },
    {
      "cell_type": "code",
      "source": [
        "def df_to_X_y2(df, window_size=6):\n",
        "  df_as_np = df.to_numpy()\n",
        "  X = []\n",
        "  y = []\n",
        "  for i in range(len(df_as_np)-window_size):\n",
        "    row = [r for r in df_as_np[i:i+window_size]]\n",
        "    X.append(row)\n",
        "    label = df_as_np[i+window_size][0]\n",
        "    y.append(label)\n",
        "  return np.array(X), np.array(y)"
      ],
      "metadata": {
        "id": "xd9zPP6cJk16"
      },
      "execution_count": null,
      "outputs": []
    },
    {
      "cell_type": "code",
      "source": [
        ""
      ],
      "metadata": {
        "id": "p8sk0WH3NqgI"
      },
      "execution_count": null,
      "outputs": []
    },
    {
      "cell_type": "code",
      "metadata": {
        "id": "eJhF1cIDleQ1"
      },
      "source": [
        "df3=df4.iloc[:,1:]\n",
        "\n"
      ],
      "execution_count": null,
      "outputs": []
    },
    {
      "cell_type": "code",
      "source": [
        "from sklearn import preprocessing\n",
        "scaler = preprocessing.MinMaxScaler()\n",
        "scaler.fit(df3)\n",
        "scaled = scaler.transform(df3)\n",
        "scaled"
      ],
      "metadata": {
        "id": "CjbH5AHWNw_c",
        "colab": {
          "base_uri": "https://localhost:8080/"
        },
        "outputId": "209d4edf-8248-437a-f1e5-5da2a45023a9"
      },
      "execution_count": null,
      "outputs": [
        {
          "output_type": "execute_result",
          "data": {
            "text/plain": [
              "array([[3.29104835e-03, 3.31099410e-03, 3.24118398e-03, ...,\n",
              "        0.00000000e+00, 6.01875924e-05, 2.66784999e-01],\n",
              "       [3.29796287e-03, 3.31583095e-03, 3.24567178e-03, ...,\n",
              "        0.00000000e+00, 6.03560317e-05, 3.30021830e-01],\n",
              "       [3.31099410e-03, 3.32851313e-03, 3.25650896e-03, ...,\n",
              "        0.00000000e+00, 6.01180404e-05, 3.64732804e-01],\n",
              "       ...,\n",
              "       [3.33093984e-03, 3.34091272e-03, 3.28107547e-03, ...,\n",
              "        0.00000000e+00, 6.00052914e-05, 9.92864290e-01],\n",
              "       [3.33093984e-03, 3.34091272e-03, 3.28107547e-03, ...,\n",
              "        0.00000000e+00, 6.01158231e-05, 9.93577973e-01],\n",
              "       [3.33093984e-03, 3.34091272e-03, 3.28107547e-03, ...,\n",
              "        0.00000000e+00, 5.99246100e-05, 9.92634395e-01]])"
            ]
          },
          "metadata": {},
          "execution_count": 168
        }
      ]
    },
    {
      "cell_type": "code",
      "source": [
        "X2, y2 = df_to_X_y2(df3)\n",
        "X2.shape, y2.shape"
      ],
      "metadata": {
        "colab": {
          "base_uri": "https://localhost:8080/"
        },
        "id": "IPbybEFSYVYM",
        "outputId": "a8d63aea-6ceb-464d-9481-10a5cb27b71c"
      },
      "execution_count": null,
      "outputs": [
        {
          "output_type": "execute_result",
          "data": {
            "text/plain": [
              "((136724, 6, 77), (136724,))"
            ]
          },
          "metadata": {},
          "execution_count": 169
        }
      ]
    },
    {
      "cell_type": "code",
      "metadata": {
        "colab": {
          "base_uri": "https://localhost:8080/"
        },
        "id": "FMOArQgyoTnq",
        "outputId": "6a472b9b-b351-457a-cb9d-8c40c93b3ab3"
      },
      "source": [
        "X2_train, y2_train = X2[:60000], y2[:60000]\n",
        "X2_val, y2_val = X2[60000:65000], y2[60000:65000]\n",
        "X2_test, y2_test = X2[65000:80000], y2[65000:80000]\n",
        "X2_train.shape, y2_train.shape, X2_val.shape, y2_val.shape, X2_test.shape, y2_test.shape"
      ],
      "execution_count": null,
      "outputs": [
        {
          "output_type": "execute_result",
          "data": {
            "text/plain": [
              "((60000, 6, 77), (60000,), (5000, 6, 77), (5000,), (15000, 6, 77), (15000,))"
            ]
          },
          "metadata": {},
          "execution_count": 170
        }
      ]
    },
    {
      "cell_type": "code",
      "metadata": {
        "id": "887KpvYwpkZq"
      },
      "source": [
        "temp_training_mean = np.mean(X2_train[:, :, 0])\n",
        "temp_training_std = np.std(X2_train[:, :, 0])\n",
        "                           "
      ],
      "execution_count": null,
      "outputs": []
    },
    {
      "cell_type": "code",
      "source": [
        "# def preprocess(X):\n",
        "#   X[:, :, 0] = (X[:, :, 0] - temp_training_mean) / temp_training_std\n",
        "#   return X"
      ],
      "metadata": {
        "id": "M3m6ufG4VjK_"
      },
      "execution_count": null,
      "outputs": []
    },
    {
      "cell_type": "code",
      "source": [
        "# preprocess(X2_train)\n",
        "# preprocess(X2_val)\n",
        "# preprocess(X2_test)"
      ],
      "metadata": {
        "id": "_KiIjCVyO9Kg"
      },
      "execution_count": null,
      "outputs": []
    },
    {
      "cell_type": "code",
      "source": [
        "model4 = Sequential()\n",
        "model4.add(InputLayer((6, 77)))\n",
        "model4.add(LSTM(64))\n",
        "model4.add(Dense(8, 'relu'))\n",
        "model4.add(Dense(1, 'linear'))\n",
        "\n",
        "model4.summary()"
      ],
      "metadata": {
        "colab": {
          "base_uri": "https://localhost:8080/"
        },
        "id": "CRdvSqXWaiya",
        "outputId": "5c853258-089e-46e1-e6ec-6c7450f09f67"
      },
      "execution_count": null,
      "outputs": [
        {
          "output_type": "stream",
          "name": "stdout",
          "text": [
            "Model: \"sequential_14\"\n",
            "_________________________________________________________________\n",
            " Layer (type)                Output Shape              Param #   \n",
            "=================================================================\n",
            " lstm_11 (LSTM)              (None, 64)                36352     \n",
            "                                                                 \n",
            " dense_28 (Dense)            (None, 8)                 520       \n",
            "                                                                 \n",
            " dense_29 (Dense)            (None, 1)                 9         \n",
            "                                                                 \n",
            "=================================================================\n",
            "Total params: 36,881\n",
            "Trainable params: 36,881\n",
            "Non-trainable params: 0\n",
            "_________________________________________________________________\n"
          ]
        }
      ]
    },
    {
      "cell_type": "code",
      "source": [
        "cp4 = ModelCheckpoint('model4/', save_best_only=True)\n",
        "model4.compile(loss=MeanSquaredError(), optimizer=Adam(learning_rate=0.001), metrics=[RootMeanSquaredError()])"
      ],
      "metadata": {
        "id": "_u3Bj71lalJu"
      },
      "execution_count": null,
      "outputs": []
    },
    {
      "cell_type": "code",
      "source": [
        "model4.fit(X2_train, y2_train, validation_data=(X2_val, y2_val), epochs=10, callbacks=[cp4])"
      ],
      "metadata": {
        "colab": {
          "base_uri": "https://localhost:8080/"
        },
        "id": "QcwJJko_a-31",
        "outputId": "c269bac3-c7cb-49fc-f986-3cdec4dac6eb"
      },
      "execution_count": null,
      "outputs": [
        {
          "output_type": "stream",
          "name": "stdout",
          "text": [
            "Epoch 1/10\n",
            "1870/1875 [============================>.] - ETA: 0s - loss: 69298216.0000 - root_mean_squared_error: 8324.5547"
          ]
        },
        {
          "output_type": "stream",
          "name": "stderr",
          "text": [
            "WARNING:absl:Found untraced functions such as lstm_cell_12_layer_call_fn, lstm_cell_12_layer_call_and_return_conditional_losses while saving (showing 2 of 2). These functions will not be directly callable after loading.\n"
          ]
        },
        {
          "output_type": "stream",
          "name": "stdout",
          "text": [
            "INFO:tensorflow:Assets written to: model4/assets\n"
          ]
        },
        {
          "output_type": "stream",
          "name": "stderr",
          "text": [
            "INFO:tensorflow:Assets written to: model4/assets\n",
            "WARNING:absl:<keras.layers.recurrent.LSTMCell object at 0x7f68404f1090> has the same name 'LSTMCell' as a built-in Keras object. Consider renaming <class 'keras.layers.recurrent.LSTMCell'> to avoid naming conflicts when loading with `tf.keras.models.load_model`. If renaming is not possible, pass the object in the `custom_objects` parameter of the load function.\n"
          ]
        },
        {
          "output_type": "stream",
          "name": "stdout",
          "text": [
            "\b\b\b\b\b\b\b\b\b\b\b\b\b\b\b\b\b\b\b\b\b\b\b\b\b\b\b\b\b\b\b\b\b\b\b\b\b\b\b\b\b\b\b\b\b\b\b\b\b\b\b\b\b\b\b\b\b\b\b\b\b\b\b\b\b\b\b\b\b\b\b\b\b\b\b\b\b\b\b\b\b\b\b\b\b\b\b\b\b\b\b\b\b\b\b\b\b\b\b\b\b\b\b\b\b\b\b\b\b\b\b\r1875/1875 [==============================] - 12s 6ms/step - loss: 69778904.0000 - root_mean_squared_error: 8353.3770 - val_loss: 65848156.0000 - val_root_mean_squared_error: 8114.6875\n",
            "Epoch 2/10\n",
            "1869/1875 [============================>.] - ETA: 0s - loss: 69535656.0000 - root_mean_squared_error: 8338.8037"
          ]
        },
        {
          "output_type": "stream",
          "name": "stderr",
          "text": [
            "WARNING:absl:Found untraced functions such as lstm_cell_12_layer_call_fn, lstm_cell_12_layer_call_and_return_conditional_losses while saving (showing 2 of 2). These functions will not be directly callable after loading.\n"
          ]
        },
        {
          "output_type": "stream",
          "name": "stdout",
          "text": [
            "INFO:tensorflow:Assets written to: model4/assets\n"
          ]
        },
        {
          "output_type": "stream",
          "name": "stderr",
          "text": [
            "INFO:tensorflow:Assets written to: model4/assets\n",
            "WARNING:absl:<keras.layers.recurrent.LSTMCell object at 0x7f68404f1090> has the same name 'LSTMCell' as a built-in Keras object. Consider renaming <class 'keras.layers.recurrent.LSTMCell'> to avoid naming conflicts when loading with `tf.keras.models.load_model`. If renaming is not possible, pass the object in the `custom_objects` parameter of the load function.\n"
          ]
        },
        {
          "output_type": "stream",
          "name": "stdout",
          "text": [
            "\b\b\b\b\b\b\b\b\b\b\b\b\b\b\b\b\b\b\b\b\b\b\b\b\b\b\b\b\b\b\b\b\b\b\b\b\b\b\b\b\b\b\b\b\b\b\b\b\b\b\b\b\b\b\b\b\b\b\b\b\b\b\b\b\b\b\b\b\b\b\b\b\b\b\b\b\b\b\b\b\b\b\b\b\b\b\b\b\b\b\b\b\b\b\b\b\b\b\b\b\b\b\b\b\b\b\b\b\b\b\b\r1875/1875 [==============================] - 10s 5ms/step - loss: 69645352.0000 - root_mean_squared_error: 8345.3789 - val_loss: 65761868.0000 - val_root_mean_squared_error: 8109.3691\n",
            "Epoch 3/10\n",
            "1861/1875 [============================>.] - ETA: 0s - loss: 69894616.0000 - root_mean_squared_error: 8360.2998"
          ]
        },
        {
          "output_type": "stream",
          "name": "stderr",
          "text": [
            "WARNING:absl:Found untraced functions such as lstm_cell_12_layer_call_fn, lstm_cell_12_layer_call_and_return_conditional_losses while saving (showing 2 of 2). These functions will not be directly callable after loading.\n"
          ]
        },
        {
          "output_type": "stream",
          "name": "stdout",
          "text": [
            "INFO:tensorflow:Assets written to: model4/assets\n"
          ]
        },
        {
          "output_type": "stream",
          "name": "stderr",
          "text": [
            "INFO:tensorflow:Assets written to: model4/assets\n",
            "WARNING:absl:<keras.layers.recurrent.LSTMCell object at 0x7f68404f1090> has the same name 'LSTMCell' as a built-in Keras object. Consider renaming <class 'keras.layers.recurrent.LSTMCell'> to avoid naming conflicts when loading with `tf.keras.models.load_model`. If renaming is not possible, pass the object in the `custom_objects` parameter of the load function.\n"
          ]
        },
        {
          "output_type": "stream",
          "name": "stdout",
          "text": [
            "\b\b\b\b\b\b\b\b\b\b\b\b\b\b\b\b\b\b\b\b\b\b\b\b\b\b\b\b\b\b\b\b\b\b\b\b\b\b\b\b\b\b\b\b\b\b\b\b\b\b\b\b\b\b\b\b\b\b\b\b\b\b\b\b\b\b\b\b\b\b\b\b\b\b\b\b\b\b\b\b\b\b\b\b\b\b\b\b\b\b\b\b\b\b\b\b\b\b\b\b\b\b\b\b\b\b\b\b\b\b\b\r1875/1875 [==============================] - 11s 6ms/step - loss: 69539384.0000 - root_mean_squared_error: 8339.0273 - val_loss: 65631144.0000 - val_root_mean_squared_error: 8101.3052\n",
            "Epoch 4/10\n",
            "1870/1875 [============================>.] - ETA: 0s - loss: 69437320.0000 - root_mean_squared_error: 8332.9053"
          ]
        },
        {
          "output_type": "stream",
          "name": "stderr",
          "text": [
            "WARNING:absl:Found untraced functions such as lstm_cell_12_layer_call_fn, lstm_cell_12_layer_call_and_return_conditional_losses while saving (showing 2 of 2). These functions will not be directly callable after loading.\n"
          ]
        },
        {
          "output_type": "stream",
          "name": "stdout",
          "text": [
            "INFO:tensorflow:Assets written to: model4/assets\n"
          ]
        },
        {
          "output_type": "stream",
          "name": "stderr",
          "text": [
            "INFO:tensorflow:Assets written to: model4/assets\n",
            "WARNING:absl:<keras.layers.recurrent.LSTMCell object at 0x7f68404f1090> has the same name 'LSTMCell' as a built-in Keras object. Consider renaming <class 'keras.layers.recurrent.LSTMCell'> to avoid naming conflicts when loading with `tf.keras.models.load_model`. If renaming is not possible, pass the object in the `custom_objects` parameter of the load function.\n"
          ]
        },
        {
          "output_type": "stream",
          "name": "stdout",
          "text": [
            "\b\b\b\b\b\b\b\b\b\b\b\b\b\b\b\b\b\b\b\b\b\b\b\b\b\b\b\b\b\b\b\b\b\b\b\b\b\b\b\b\b\b\b\b\b\b\b\b\b\b\b\b\b\b\b\b\b\b\b\b\b\b\b\b\b\b\b\b\b\b\b\b\b\b\b\b\b\b\b\b\b\b\b\b\b\b\b\b\b\b\b\b\b\b\b\b\b\b\b\b\b\b\b\b\b\b\b\b\b\b\b\r1875/1875 [==============================] - 10s 5ms/step - loss: 69416904.0000 - root_mean_squared_error: 8331.6807 - val_loss: 65528280.0000 - val_root_mean_squared_error: 8094.9541\n",
            "Epoch 5/10\n",
            "1869/1875 [============================>.] - ETA: 0s - loss: 69490072.0000 - root_mean_squared_error: 8336.0703"
          ]
        },
        {
          "output_type": "stream",
          "name": "stderr",
          "text": [
            "WARNING:absl:Found untraced functions such as lstm_cell_12_layer_call_fn, lstm_cell_12_layer_call_and_return_conditional_losses while saving (showing 2 of 2). These functions will not be directly callable after loading.\n"
          ]
        },
        {
          "output_type": "stream",
          "name": "stdout",
          "text": [
            "INFO:tensorflow:Assets written to: model4/assets\n"
          ]
        },
        {
          "output_type": "stream",
          "name": "stderr",
          "text": [
            "INFO:tensorflow:Assets written to: model4/assets\n",
            "WARNING:absl:<keras.layers.recurrent.LSTMCell object at 0x7f68404f1090> has the same name 'LSTMCell' as a built-in Keras object. Consider renaming <class 'keras.layers.recurrent.LSTMCell'> to avoid naming conflicts when loading with `tf.keras.models.load_model`. If renaming is not possible, pass the object in the `custom_objects` parameter of the load function.\n"
          ]
        },
        {
          "output_type": "stream",
          "name": "stdout",
          "text": [
            "\b\b\b\b\b\b\b\b\b\b\b\b\b\b\b\b\b\b\b\b\b\b\b\b\b\b\b\b\b\b\b\b\b\b\b\b\b\b\b\b\b\b\b\b\b\b\b\b\b\b\b\b\b\b\b\b\b\b\b\b\b\b\b\b\b\b\b\b\b\b\b\b\b\b\b\b\b\b\b\b\b\b\b\b\b\b\b\b\b\b\b\b\b\b\b\b\b\b\b\b\b\b\b\b\b\b\b\b\b\b\b\r1875/1875 [==============================] - 11s 6ms/step - loss: 69267768.0000 - root_mean_squared_error: 8322.7256 - val_loss: 65419228.0000 - val_root_mean_squared_error: 8088.2153\n",
            "Epoch 6/10\n",
            "1865/1875 [============================>.] - ETA: 0s - loss: 69163208.0000 - root_mean_squared_error: 8316.4424"
          ]
        },
        {
          "output_type": "stream",
          "name": "stderr",
          "text": [
            "WARNING:absl:Found untraced functions such as lstm_cell_12_layer_call_fn, lstm_cell_12_layer_call_and_return_conditional_losses while saving (showing 2 of 2). These functions will not be directly callable after loading.\n"
          ]
        },
        {
          "output_type": "stream",
          "name": "stdout",
          "text": [
            "INFO:tensorflow:Assets written to: model4/assets\n"
          ]
        },
        {
          "output_type": "stream",
          "name": "stderr",
          "text": [
            "INFO:tensorflow:Assets written to: model4/assets\n",
            "WARNING:absl:<keras.layers.recurrent.LSTMCell object at 0x7f68404f1090> has the same name 'LSTMCell' as a built-in Keras object. Consider renaming <class 'keras.layers.recurrent.LSTMCell'> to avoid naming conflicts when loading with `tf.keras.models.load_model`. If renaming is not possible, pass the object in the `custom_objects` parameter of the load function.\n"
          ]
        },
        {
          "output_type": "stream",
          "name": "stdout",
          "text": [
            "\b\b\b\b\b\b\b\b\b\b\b\b\b\b\b\b\b\b\b\b\b\b\b\b\b\b\b\b\b\b\b\b\b\b\b\b\b\b\b\b\b\b\b\b\b\b\b\b\b\b\b\b\b\b\b\b\b\b\b\b\b\b\b\b\b\b\b\b\b\b\b\b\b\b\b\b\b\b\b\b\b\b\b\b\b\b\b\b\b\b\b\b\b\b\b\b\b\b\b\b\b\b\b\b\b\b\b\b\b\b\b\r1875/1875 [==============================] - 10s 5ms/step - loss: 69123688.0000 - root_mean_squared_error: 8314.0654 - val_loss: 65262616.0000 - val_root_mean_squared_error: 8078.5278\n",
            "Epoch 7/10\n",
            "1874/1875 [============================>.] - ETA: 0s - loss: 68966488.0000 - root_mean_squared_error: 8304.6064"
          ]
        },
        {
          "output_type": "stream",
          "name": "stderr",
          "text": [
            "WARNING:absl:Found untraced functions such as lstm_cell_12_layer_call_fn, lstm_cell_12_layer_call_and_return_conditional_losses while saving (showing 2 of 2). These functions will not be directly callable after loading.\n"
          ]
        },
        {
          "output_type": "stream",
          "name": "stdout",
          "text": [
            "INFO:tensorflow:Assets written to: model4/assets\n"
          ]
        },
        {
          "output_type": "stream",
          "name": "stderr",
          "text": [
            "INFO:tensorflow:Assets written to: model4/assets\n",
            "WARNING:absl:<keras.layers.recurrent.LSTMCell object at 0x7f68404f1090> has the same name 'LSTMCell' as a built-in Keras object. Consider renaming <class 'keras.layers.recurrent.LSTMCell'> to avoid naming conflicts when loading with `tf.keras.models.load_model`. If renaming is not possible, pass the object in the `custom_objects` parameter of the load function.\n"
          ]
        },
        {
          "output_type": "stream",
          "name": "stdout",
          "text": [
            "\b\b\b\b\b\b\b\b\b\b\b\b\b\b\b\b\b\b\b\b\b\b\b\b\b\b\b\b\b\b\b\b\b\b\b\b\b\b\b\b\b\b\b\b\b\b\b\b\b\b\b\b\b\b\b\b\b\b\b\b\b\b\b\b\b\b\b\b\b\b\b\b\b\b\b\b\b\b\b\b\b\b\b\b\b\b\b\b\b\b\b\b\b\b\b\b\b\b\b\b\b\b\b\b\b\b\b\b\b\b\b\r1875/1875 [==============================] - 10s 6ms/step - loss: 68929728.0000 - root_mean_squared_error: 8302.3926 - val_loss: 65065844.0000 - val_root_mean_squared_error: 8066.3403\n",
            "Epoch 8/10\n",
            "1869/1875 [============================>.] - ETA: 0s - loss: 68579048.0000 - root_mean_squared_error: 8281.2461"
          ]
        },
        {
          "output_type": "stream",
          "name": "stderr",
          "text": [
            "WARNING:absl:Found untraced functions such as lstm_cell_12_layer_call_fn, lstm_cell_12_layer_call_and_return_conditional_losses while saving (showing 2 of 2). These functions will not be directly callable after loading.\n"
          ]
        },
        {
          "output_type": "stream",
          "name": "stdout",
          "text": [
            "INFO:tensorflow:Assets written to: model4/assets\n"
          ]
        },
        {
          "output_type": "stream",
          "name": "stderr",
          "text": [
            "INFO:tensorflow:Assets written to: model4/assets\n",
            "WARNING:absl:<keras.layers.recurrent.LSTMCell object at 0x7f68404f1090> has the same name 'LSTMCell' as a built-in Keras object. Consider renaming <class 'keras.layers.recurrent.LSTMCell'> to avoid naming conflicts when loading with `tf.keras.models.load_model`. If renaming is not possible, pass the object in the `custom_objects` parameter of the load function.\n"
          ]
        },
        {
          "output_type": "stream",
          "name": "stdout",
          "text": [
            "\b\b\b\b\b\b\b\b\b\b\b\b\b\b\b\b\b\b\b\b\b\b\b\b\b\b\b\b\b\b\b\b\b\b\b\b\b\b\b\b\b\b\b\b\b\b\b\b\b\b\b\b\b\b\b\b\b\b\b\b\b\b\b\b\b\b\b\b\b\b\b\b\b\b\b\b\b\b\b\b\b\b\b\b\b\b\b\b\b\b\b\b\b\b\b\b\b\b\b\b\b\b\b\b\b\b\b\b\b\b\b\r1875/1875 [==============================] - 11s 6ms/step - loss: 68686576.0000 - root_mean_squared_error: 8287.7363 - val_loss: 64833532.0000 - val_root_mean_squared_error: 8051.9272\n",
            "Epoch 9/10\n",
            "1869/1875 [============================>.] - ETA: 0s - loss: 68156856.0000 - root_mean_squared_error: 8255.7168"
          ]
        },
        {
          "output_type": "stream",
          "name": "stderr",
          "text": [
            "WARNING:absl:Found untraced functions such as lstm_cell_12_layer_call_fn, lstm_cell_12_layer_call_and_return_conditional_losses while saving (showing 2 of 2). These functions will not be directly callable after loading.\n"
          ]
        },
        {
          "output_type": "stream",
          "name": "stdout",
          "text": [
            "INFO:tensorflow:Assets written to: model4/assets\n"
          ]
        },
        {
          "output_type": "stream",
          "name": "stderr",
          "text": [
            "INFO:tensorflow:Assets written to: model4/assets\n",
            "WARNING:absl:<keras.layers.recurrent.LSTMCell object at 0x7f68404f1090> has the same name 'LSTMCell' as a built-in Keras object. Consider renaming <class 'keras.layers.recurrent.LSTMCell'> to avoid naming conflicts when loading with `tf.keras.models.load_model`. If renaming is not possible, pass the object in the `custom_objects` parameter of the load function.\n"
          ]
        },
        {
          "output_type": "stream",
          "name": "stdout",
          "text": [
            "\b\b\b\b\b\b\b\b\b\b\b\b\b\b\b\b\b\b\b\b\b\b\b\b\b\b\b\b\b\b\b\b\b\b\b\b\b\b\b\b\b\b\b\b\b\b\b\b\b\b\b\b\b\b\b\b\b\b\b\b\b\b\b\b\b\b\b\b\b\b\b\b\b\b\b\b\b\b\b\b\b\b\b\b\b\b\b\b\b\b\b\b\b\b\b\b\b\b\b\b\b\b\b\b\b\b\b\b\b\b\b\r1875/1875 [==============================] - 10s 5ms/step - loss: 68423608.0000 - root_mean_squared_error: 8271.8564 - val_loss: 64584084.0000 - val_root_mean_squared_error: 8036.4224\n",
            "Epoch 10/10\n",
            "1866/1875 [============================>.] - ETA: 0s - loss: 68304752.0000 - root_mean_squared_error: 8264.6689"
          ]
        },
        {
          "output_type": "stream",
          "name": "stderr",
          "text": [
            "WARNING:absl:Found untraced functions such as lstm_cell_12_layer_call_fn, lstm_cell_12_layer_call_and_return_conditional_losses while saving (showing 2 of 2). These functions will not be directly callable after loading.\n"
          ]
        },
        {
          "output_type": "stream",
          "name": "stdout",
          "text": [
            "INFO:tensorflow:Assets written to: model4/assets\n"
          ]
        },
        {
          "output_type": "stream",
          "name": "stderr",
          "text": [
            "INFO:tensorflow:Assets written to: model4/assets\n",
            "WARNING:absl:<keras.layers.recurrent.LSTMCell object at 0x7f68404f1090> has the same name 'LSTMCell' as a built-in Keras object. Consider renaming <class 'keras.layers.recurrent.LSTMCell'> to avoid naming conflicts when loading with `tf.keras.models.load_model`. If renaming is not possible, pass the object in the `custom_objects` parameter of the load function.\n"
          ]
        },
        {
          "output_type": "stream",
          "name": "stdout",
          "text": [
            "\b\b\b\b\b\b\b\b\b\b\b\b\b\b\b\b\b\b\b\b\b\b\b\b\b\b\b\b\b\b\b\b\b\b\b\b\b\b\b\b\b\b\b\b\b\b\b\b\b\b\b\b\b\b\b\b\b\b\b\b\b\b\b\b\b\b\b\b\b\b\b\b\b\b\b\b\b\b\b\b\b\b\b\b\b\b\b\b\b\b\b\b\b\b\b\b\b\b\b\b\b\b\b\b\b\b\b\b\b\b\b\r1875/1875 [==============================] - 10s 6ms/step - loss: 68140952.0000 - root_mean_squared_error: 8254.7529 - val_loss: 64319448.0000 - val_root_mean_squared_error: 8019.9404\n"
          ]
        },
        {
          "output_type": "execute_result",
          "data": {
            "text/plain": [
              "<keras.callbacks.History at 0x7f683c9e8950>"
            ]
          },
          "metadata": {},
          "execution_count": 176
        }
      ]
    },
    {
      "cell_type": "code",
      "source": [
        "plot_predictions1(model4, X2_test, y2_test)"
      ],
      "metadata": {
        "colab": {
          "base_uri": "https://localhost:8080/",
          "height": 519
        },
        "id": "5RTEknapbA1c",
        "outputId": "da409a01-9536-4018-e699-4ba202e3aafd"
      },
      "execution_count": null,
      "outputs": [
        {
          "output_type": "execute_result",
          "data": {
            "text/plain": [
              "(       Predictions    Actuals\n",
              " 0       179.496887  48.845001\n",
              " 1       179.496887  49.868332\n",
              " 2       179.496887  50.439999\n",
              " 3       179.496887  50.000000\n",
              " 4       179.496887  50.001667\n",
              " ...            ...        ...\n",
              " 14995   375.972961  66.038330\n",
              " 14996   371.609589  67.745003\n",
              " 14997   371.007080  68.116669\n",
              " 14998   364.049133  68.998337\n",
              " 14999   179.496887  63.985001\n",
              " \n",
              " [15000 rows x 2 columns], 81633835.33067575)"
            ]
          },
          "metadata": {},
          "execution_count": 177
        },
        {
          "output_type": "display_data",
          "data": {
            "text/plain": [
              "<Figure size 432x288 with 1 Axes>"
            ],
            "image/png": "[encoded data removed]"
          },
          "metadata": {
            "needs_background": "light"
          }
        }
      ]
    },
    {
      "cell_type": "code",
      "source": [
        "predictions = model4.predict(X2_test).flatten()\n",
        "# df = pd.DataFrame(data={'Predictions':predictions, 'Actuals':})"
      ],
      "metadata": {
        "id": "VuZpWaPdbs9m"
      },
      "execution_count": null,
      "outputs": []
    },
    {
      "cell_type": "code",
      "source": [
        "print(predictions)"
      ],
      "metadata": {
        "colab": {
          "base_uri": "https://localhost:8080/"
        },
        "id": "AhqRlXD5jFy3",
        "outputId": "c83510c0-53ae-4a75-c791-f03b4bc47616"
      },
      "execution_count": null,
      "outputs": [
        {
          "output_type": "stream",
          "name": "stdout",
          "text": [
            "[196.52075 213.58063 233.3667  ... 215.63745 228.13379 217.28113]\n"
          ]
        }
      ]
    },
    {
      "cell_type": "code",
      "source": [
        ""
      ],
      "metadata": {
        "id": "Pq8njZ8skPgs"
      },
      "execution_count": null,
      "outputs": []
    }
  ]
}